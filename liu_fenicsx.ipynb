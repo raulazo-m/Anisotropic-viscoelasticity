{
 "cells": [
  {
   "cell_type": "code",
   "execution_count": 1,
   "metadata": {},
   "outputs": [],
   "source": [
    "## Packages\n",
    "from dolfinx.mesh import (create_box, CellType,\n",
    "                          locate_entities_boundary, meshtags)\n",
    "from dolfinx.fem import (FunctionSpace, TensorFunctionSpace,\n",
    "                         VectorFunctionSpace, Function, dirichletbc,\n",
    "                         locate_dofs_topological, Constant)\n",
    "from ufl import (FiniteElement, VectorElement, TensorElement,\n",
    "                 MixedElement, TestFunction, TrialFunction,\n",
    "                 split, SpatialCoordinate, Measure,\n",
    "                 Identity, grad, det, inv, tr, exp, ln, inner,\n",
    "                 dot, as_tensor, as_vector, derivative,\n",
    "                 sin, cos, outer, variable, transpose, shape,\n",
    "                 sym, sqrt)\n",
    "from dolfinx.fem.petsc import NonlinearProblem\n",
    "from dolfinx.nls.petsc import NewtonSolver\n",
    "from petsc4py.PETSc import ScalarType \n",
    "from dolfinx.geometry import (BoundingBoxTree,\n",
    "                              compute_colliding_cells, \n",
    "                              compute_collisions)\n",
    "from mpi4py import MPI\n",
    "\n",
    "#from dolfiny.projection import project\n",
    "from dolfiny.invariants import (eigenstate, eigenstate3_legacy)\n",
    "\n",
    "import numpy as np\n",
    "import matplotlib.pyplot as plt\n",
    "from datetime import datetime"
   ]
  },
  {
   "cell_type": "code",
   "execution_count": 2,
   "metadata": {},
   "outputs": [],
   "source": [
    "## Useful functions\n",
    "\n",
    "def project(v, target_func, bcs=[]):\n",
    "    '''\n",
    "    This functions is from dolfiny\n",
    "    I only added the possibility to control the quadrature degree\n",
    "    '''\n",
    "    from ufl import (dx, TestFunction, TrialFunction, inner)\n",
    "    from dolfinx.fem import (form, assemble)\n",
    "    from dolfinx.fem.petsc import (assemble_matrix, assemble_vector, apply_lifting,\n",
    "                                   set_bc)\n",
    "    from petsc4py import PETSc\n",
    "    \n",
    "    # Ensure we have a mesh and attach to measure\n",
    "    V = target_func.function_space\n",
    "    \n",
    "    metad = {\"quadrature_degree\": 2} \n",
    "    \n",
    "    dx = dx(V.mesh, metadata=metad)\n",
    "\n",
    "    # Define variational problem for projection\n",
    "    w  = TestFunction(V)\n",
    "    Pv = TrialFunction(V)\n",
    "    a  = form(inner(Pv, w) * dx)\n",
    "    L  = form(inner(v, w) * dx)\n",
    "\n",
    "    # Assemble linear system\n",
    "    A = assemble_matrix(a, bcs)\n",
    "    A.assemble()\n",
    "    b = assemble_vector(L)\n",
    "    apply_lifting(b, [a], [bcs])\n",
    "    b.ghostUpdate(addv=PETSc.InsertMode.ADD, mode=PETSc.ScatterMode.REVERSE)\n",
    "    set_bc(b, bcs)\n",
    "\n",
    "    # Solve linear system\n",
    "    solver = PETSc.KSP().create(A.getComm())\n",
    "    solver.setOperators(A)\n",
    "    solver.solve(b, target_func.vector)\n",
    "    \n",
    "def plot_mesh(mesh):\n",
    "    '''\n",
    "    To plot mesh\n",
    "    '''\n",
    "    \n",
    "    from dolfinx.plot import create_vtk_mesh\n",
    "    \n",
    "    try:\n",
    "        import pyvista\n",
    "    except ModuleNotFoundError:\n",
    "        print(\"pyvista is required for this demo\")\n",
    "        exit(0)\n",
    "\n",
    "    if pyvista.OFF_SCREEN:\n",
    "        pyvista.start_xvfb(wait=0.1)\n",
    "        \n",
    "    # Extract mesh data from dolfin-X (only plot cells owned by the\n",
    "    # processor) and create a pyvista UnstructuredGrid\n",
    "    num_cells = mesh.topology.index_map(mesh.topology.dim).size_local\n",
    "    cell_entities = np.arange(num_cells, dtype=np.int32)\n",
    "    pyvista_cells = create_vtk_mesh(\n",
    "        mesh, mesh.topology.dim, cell_entities)\n",
    "    grid = pyvista.UnstructuredGrid(pyvista_cells[0],pyvista_cells[1], mesh.geometry.x)\n",
    "\n",
    "    plotter = pyvista.Plotter()\n",
    "    plotter.add_mesh(grid, style=\"wireframe\", line_width=2, color=\"black\")\n",
    "    #plotter.view_xy()\n",
    "    # Save as png if we are using a container with no rendering\n",
    "    if pyvista.OFF_SCREEN:\n",
    "        plotter.screenshot(\"tmp.png\")\n",
    "    else:\n",
    "        plotter.show()    \n",
    "    ## -----------------------------------------------        \n",
    "        \n",
    "def EVAL(mesh,FUNCT,point):\n",
    "    '''\n",
    "    To evaluate a function at a point\n",
    "    \n",
    "    FUNCT : Function\n",
    "    point : point in the body\n",
    "    '''\n",
    "    \n",
    "    # select a point in the mesh in the border between the two processes\n",
    "    if len(point) == 2:\n",
    "        rand_global_point = [point[0], point[1], 0.] \n",
    "    elif len(point) == 3:\n",
    "        rand_global_point = [point[0], point[1], point[2]] \n",
    "\n",
    "        \n",
    "    # get bbt for the mesh\n",
    "    mesh_bbt = BoundingBoxTree(mesh, mesh.topology.dim)\n",
    "\n",
    "    # convert point in array with one element\n",
    "    points_list_array = np.array([rand_global_point])\n",
    "    # for each point, compute a colliding cells and append to the lists\n",
    "    points_on_proc = []\n",
    "    cells = []\n",
    "    cell_candidates = compute_collisions(mesh_bbt, points_list_array)  # get candidates\n",
    "    colliding_cells = compute_colliding_cells(mesh, cell_candidates, points_list_array)  # get actual\n",
    "    for i, point in enumerate(points_list_array):\n",
    "        if len(colliding_cells.links(i)) > 0:\n",
    "            cc = colliding_cells.links(i)[0]\n",
    "            points_on_proc.append(point)\n",
    "            cells.append(cc)\n",
    "    # convert to numpy array\n",
    "    points_on_proc = np.array(points_on_proc)\n",
    "    cells = np.array(cells)\n",
    "    \n",
    "    return FUNCT.eval(points_on_proc, cells)\n",
    "    ## -----------------------------------------------\n",
    "\n",
    "def ASSIGNt(mesh, A, FUNCT):\n",
    "    '''\n",
    "    To assign values from a tuple\n",
    "    \n",
    "    FUNCT: Function\n",
    "    A    : must be a tuple. For example:\n",
    "    \n",
    "    scalar \"2.0\"                    values =   2.0 \n",
    "    vector \"(1.0,2.0)\"              values =  (1.0,2.0)       \n",
    "    tensor \"[(1.0,2.0),(3.0,4.0)]\"  values =  (1.0,...,4.0)     \n",
    "    '''\n",
    "    from dolfiny.projection import project\n",
    "    \n",
    "    #return  FUNCT.interpolate(npArray) # alternative\n",
    " \n",
    "    values_ = Constant(mesh, ScalarType(A))  \n",
    "    \n",
    "    return project(values_, FUNCT)\n",
    "    ## -----------------------------------------------\n",
    "\n",
    "def PythonValue(mesh,A,point):\n",
    "    '''\n",
    "    To convert fenicsx values to python values\n",
    "    \n",
    "    A    : scalar, vector, or tensor (ufl)\n",
    "    point: coordinates at which the field is calculated (tuple)\n",
    "    '''\n",
    "    from dolfinx.fem import (FunctionSpace, TensorFunctionSpace,\n",
    "                              VectorFunctionSpace, Function)\n",
    "    from ufl import (FiniteElement, shape)\n",
    "    \n",
    "\n",
    "    if shape(A) == (2,) or shape(A) == (3,):\n",
    "        fspace    = VectorFunctionSpace(mesh, (\"CG\",1))\n",
    "        B         = Function(fspace)\n",
    "        project(A, B) # A -> B (Coeficcient)\n",
    "        return EVAL(mesh,B,point)\n",
    "        \n",
    "    elif shape(A) == (2,2) or shape(A) == (3,3):\n",
    "        fspace    = TensorFunctionSpace(mesh, (\"DG\",1))\n",
    "        B         = Function(fspace)\n",
    "        project(A, B) # A -> B (Coeficcient)\n",
    "        dim = shape(A)[0]\n",
    "        return np.reshape(EVAL(mesh,B,point),[dim,dim])\n",
    "    else:\n",
    "        element   = FiniteElement(\"CG\", mesh.ufl_cell(), 1)\n",
    "        fspace    = FunctionSpace(mesh, element) \n",
    "        B         = Function(fspace)\n",
    "        # when A is not coefficient\n",
    "        if type(A) != type(B):\n",
    "            project(A, B) # A -> B (Coeficcient)\n",
    "            return EVAL(mesh,B,point)[0]\n",
    "        # when A is already a Coefficient class:\n",
    "        else: \n",
    "            return EVAL(mesh,A,point)[0]\n",
    "    ## -----------------------------------------------\n",
    "    \n",
    "def eigenValues(T, tol=1e-9):\n",
    "    dim=T.geometric_dimension()                                                 # get geometric dimension of tensor T to decide which subroutine to use for eigenvalue computations\n",
    "\n",
    "    # choose projection tensor routine based on dimensionality of problem\n",
    "    if dim == 2:                                                                # 2D-problem\n",
    "        return _eigVal2D(T,tol)\n",
    "    else:                                                                       # 3D-problem\n",
    "        return _eigVal3D(T,tol)\n",
    "\n",
    "def _eigVal3D(T, tol):                                                           # dolfin module\n",
    "    from ufl import (tr, inner, det, conditional, sign, lt,\n",
    "                     atan_2, sqrt, cos, sin)                                                                      # ufl module\n",
    "    import numpy as np                                                              # numpy\n",
    "    import copy as cp \n",
    "\n",
    "    # determine perturbation from tolerance\n",
    "    pert = 2*tol\n",
    "\n",
    "    # get required invariants\n",
    "    I1 = tr(T)                                                               # trace of tensor\n",
    "    I2 = 0.5*(tr(T)**2-inner(T,T))                                        # 2nd invariant of tensor\n",
    "    I3 = det(T)                                                              # determinant of tensor\n",
    "\n",
    "    p = I1**2 - 3*I2                                                            # preliminary value for p\n",
    "    p = conditional(lt(p,tol),abs(p)+pert,p)                            # add numerical perturbation to p, if close to zero; ensure positiveness of p\n",
    "    q = 27/2*I3 + I1**3 - 9/2*I1*I2                                             # preliminary value for q\n",
    "    q = conditional(lt(abs(q),tol),q+sign(q)*pert,q)                # add numerical perturbation (with sign) to value of q, if close to zero\n",
    "\n",
    "    # determine angle phi for calculation of roots\n",
    "    phiNom2 =  27*( 1/4*I2**2*(p-I2) + I3*(27/4*I3-q) )                         # preliminary value for squared nominator of expression for angle phi\n",
    "    phiNom2 = conditional(lt(phiNom2,tol),abs(phiNom2)+pert,phiNom2)    # add numerical perturbation to ensure non-zero nominator expression for angle phi\n",
    "    phi = 1/3*atan_2(sqrt(phiNom2),q)                                   # calculate angle phi\n",
    "\n",
    "    # calculate polynomial roots\n",
    "    lambda1 = 1/3*(sqrt(p)*2*cos(phi)+I1)\n",
    "    lambda2 = 1/3*(-sqrt(p)*(cos(phi)+sqrt(3)*sin(phi))+I1)\n",
    "    lambda3 = 1/3*(-sqrt(p)*(cos(phi)-sqrt(3)*sin(phi))+I1)\n",
    "\n",
    "    # return polynomial roots (eigenvalues)\n",
    "    return lambda1, lambda2, lambda3\n",
    "\n",
    "def projectionTensors(T, *eigenValues):\n",
    "    dim=T.geometric_dimension()                                                 # get geometric dimension of tensor T to decide which subroutine to use for projection tensor computations\n",
    "\n",
    "    # choose projection tensor routine based on dimensionality of problem\n",
    "    if dim == 2:                                                                # 2D-problem\n",
    "        return _projTen2D(T,*eigenValues)\n",
    "    else:                                                                       # 3D-problem\n",
    "        return _projTen3D(T,*eigenValues)\n",
    "\n",
    "def _projTen3D(T, lambda1, lambda2, lambda3):\n",
    "    import ufl                                                                      # ufl module\n",
    "\n",
    "    # get required quantities\n",
    "    I = ufl.Identity(3)\n",
    "\n",
    "    # calculate the individual projection tensors\n",
    "    M1 = (T-lambda2*I)*(T-lambda3*I)/((lambda1-lambda2)*(lambda1-lambda3))\n",
    "    M2 = (T-lambda3*I)*(T-lambda1*I)/((lambda2-lambda3)*(lambda2-lambda1))\n",
    "    M3 = (T-lambda1*I)*(T-lambda2*I)/((lambda3-lambda1)*(lambda3-lambda2))\n",
    "\n",
    "    # return projection tensors\n",
    "    return M1, M2, M3"
   ]
  },
  {
   "cell_type": "code",
   "execution_count": 3,
   "metadata": {},
   "outputs": [],
   "source": [
    "## Mesh\n",
    "comm = MPI.COMM_WORLD\n",
    "\n",
    "dimx, dimy , dimz = 1, 0.5, 1\n",
    "nx, ny, nz = 1, 1, 1\n",
    "\n",
    "mesh = create_box(comm,[[0.,0.,0.],[dimx,dimy,dimz]],[nx,ny,nz],CellType.hexahedron)\n",
    "\n",
    "gdim = mesh.geometry.dim # geometry dimension\n",
    "tdim = mesh.topology.dim # topology dimension\n",
    "fdim = tdim - 1          # facet dimension\n"
   ]
  },
  {
   "cell_type": "code",
   "execution_count": 4,
   "metadata": {},
   "outputs": [],
   "source": [
    "## Facets identification\n",
    "\n",
    "left   = lambda x: np.isclose(x[0], 0)\n",
    "right  = lambda x: np.isclose(x[0], dimx)\n",
    "bottom = lambda x: np.isclose(x[1], 0)\n",
    "top    = lambda x: np.isclose(x[1], dimy)\n",
    "back   = lambda x: np.isclose(x[2], 0)\n",
    "front  = lambda x: np.isclose(x[2], dimz)\n",
    "\n",
    "left_facets   = locate_entities_boundary(mesh, fdim, left)\n",
    "right_facets  = locate_entities_boundary(mesh, fdim, right)\n",
    "bottom_facets = locate_entities_boundary(mesh, fdim, bottom)\n",
    "top_facets    = locate_entities_boundary(mesh, fdim, top)\n",
    "back_facets   = locate_entities_boundary(mesh, fdim, back)\n",
    "front_facets  = locate_entities_boundary(mesh, fdim, front)\n",
    "\n",
    "\n",
    "marked_facets = np.hstack([left_facets, right_facets,\n",
    "                           bottom_facets, top_facets,\n",
    "                           back_facets, front_facets])\n",
    "\n",
    "marked_values = np.hstack([np.full_like(left_facets,   1),\n",
    "                           np.full_like(right_facets,  2),\n",
    "                           np.full_like(bottom_facets, 3),\n",
    "                           np.full_like(top_facets,    4),\n",
    "                           np.full_like(back_facets,   5),\n",
    "                           np.full_like(front_facets,  6)])\n",
    "\n",
    "sorted_facets = np.argsort(marked_facets)\n",
    "facet_tag = meshtags(mesh, fdim, marked_facets[sorted_facets], marked_values[sorted_facets])"
   ]
  },
  {
   "cell_type": "code",
   "execution_count": 5,
   "metadata": {},
   "outputs": [],
   "source": [
    "## Integration\n",
    "metadata = {\"quadrature_degree\": 2}\n",
    "ds = Measure('ds', domain=mesh, subdomain_data=facet_tag, metadata=metadata)\n",
    "dx = Measure(\"dx\", domain=mesh, metadata=metadata)"
   ]
  },
  {
   "cell_type": "code",
   "execution_count": 6,
   "metadata": {},
   "outputs": [],
   "source": [
    "## Approximation space\n",
    "W     = VectorFunctionSpace(mesh, (\"CG\",1))\n",
    "u     = Function(W) \n",
    "u_    = TestFunction(W)\n",
    "du    = TrialFunction(W)  \n",
    "\n",
    "u_old = Function(W)\n",
    "\n",
    "# Scalar space\n",
    "fe    = FiniteElement(\"CG\", mesh.ufl_cell(), 1)   \n",
    "ET0   = FunctionSpace(mesh, fe)   \n",
    "# Vector space\n",
    "ET1   = VectorFunctionSpace(mesh, (\"CG\", 1))\n",
    "# Tensor space\n",
    "ET2   = TensorFunctionSpace(mesh, (\"DG\",0))"
   ]
  },
  {
   "cell_type": "code",
   "execution_count": 7,
   "metadata": {},
   "outputs": [],
   "source": [
    "## Material parameters\n",
    "tau1, tau2   = 1.0   , 1.0\n",
    "beta1, beta2 = 1.0   , 1.0  #0.000001\n",
    "k, c         = 1e6   , 0.877   #[kPa,kPa] \n",
    "k1, k2       = 0.154 , 34.157  #[kPa,-] \n",
    "tau1, tau2   = 1.0    , 1.0\n",
    "\n",
    "dt = 0.1 # [s]"
   ]
  },
  {
   "cell_type": "code",
   "execution_count": 8,
   "metadata": {},
   "outputs": [],
   "source": [
    "## Fibers definition\n",
    "theta  = np.radians(0.0)\n",
    "a0     = as_vector([cos(theta),sin(theta),0]) \n",
    "A0     = outer(a0,a0)                       "
   ]
  },
  {
   "cell_type": "code",
   "execution_count": 9,
   "metadata": {},
   "outputs": [],
   "source": [
    "## Internal variables\n",
    "bMe      = Function(ET2) # bᵐₑ\n",
    "invCMv   = Function(ET2) # (Cᵐᵥ)⁻¹ \n",
    "lamFv    = Function(ET0) # λᶠᵥ\n",
    "\n",
    "I4e_  = Function(ET0) # Ī₄ₑ\n",
    "Ie_   = Function(ET0) # Īₑ"
   ]
  },
  {
   "cell_type": "code",
   "execution_count": 10,
   "metadata": {},
   "outputs": [],
   "source": [
    "## Initial Values\n",
    "\n",
    "Ituple = ((1.0,0.0,0.0),(0.0,1.0,0.0),(0.0,0.0,1.0))\n",
    "\n",
    "# Displacement\n",
    "ASSIGNt(mesh,(0.,0.,0.),u) \n",
    "\n",
    "## Matrix viscoelasticity internal variable\n",
    "# [bᵐₑ]₀  = I\n",
    "ASSIGNt(mesh, Ituple, bMe)\n",
    "# Stretches\n",
    "lamM1e = 1.0 # [λᵐ₁ₑ]₀ = 1\n",
    "lamM2e = 1.0 # [λᵐ₂ₑ]₀ = 1\n",
    "lamM3e = 1.0 # [λᵐ₃ₑ]₀ = 1\n",
    "eps1e  = 0.0\n",
    "eps2e  = 0.0\n",
    "eps3e  = 0.0\n",
    "# [(Cᵐᵥ)⁻¹]₀  = I\n",
    "ASSIGNt(mesh,Ituple,invCMv)\n",
    "# [Īₑ]ⁿ⁺¹  = 3    \n",
    "ASSIGNt(mesh,3.0,Ie_)  \n",
    "\n",
    "## Fibers viscoelasticity internal variable\n",
    "# [λᶠᵥ]₀   = 1 \n",
    "ASSIGNt(mesh,1.0,lamFv)      \n",
    "# [Ī₄ₑ]ⁿ⁺¹ = 1\n",
    "ASSIGNt(mesh,1.0,I4e_)    "
   ]
  },
  {
   "cell_type": "code",
   "execution_count": 11,
   "metadata": {},
   "outputs": [],
   "source": [
    "# estoy viendo la forma de sacar el python value de los escalares\n",
    "# hay problemas con los que ya son coefficient\n",
    "# intento condicionar la subclase del escalar\n",
    "# vectores y tensores trabajan bien"
   ]
  },
  {
   "cell_type": "code",
   "execution_count": 12,
   "metadata": {},
   "outputs": [],
   "source": [
    "def MatrixEvolution(F,invCMv,eps0):\n",
    "    \"\"\"\n",
    "    eps0  = ln[λᵐ₁ₑ]ₙ₋₁  (initial guest)\n",
    "    invCMv = [Cᵐᵥ]ₙ₋₁    \n",
    "    \"\"\"\n",
    "    ## Kinematics\n",
    "    J   = det(F)\n",
    "\n",
    "    print(\"Solving Matrix viscoelasticity...\")\n",
    "    \n",
    "    ## Elastic predictor\n",
    "    bMe_trial    = F*invCMv*F.T # [(bᵐₑ)ₜᵣᵢₐₗ]ₙ = [F]ₙ[Cᵐᵥ⁻¹]ₙ₋₁[F]ₙᵀ\n",
    "    \n",
    "    # with dolfiniy eigen values (not the best results)\n",
    "    #lamMe2_trial, lamMe2_trial_proj  = eigenstate3_legacy(bMe_trial)#eigenstate(bMe_trial)\n",
    "    #lamMe_trial1 , lamMe_trial2 ,  lamMe_trial3   = sqrt(lamMe2_trial[0]), sqrt(lamMe2_trial[1]),  sqrt(lamMe2_trial[2])\n",
    "    \n",
    "    # with functions\n",
    "    lamMe2_trial1, lamMe2_trial2,  lamMe2_trial3  = eigenValues(bMe_trial)\n",
    "    lamMe_trial1 , lamMe_trial2 ,  lamMe_trial3   = sqrt(lamMe2_trial1), sqrt(lamMe2_trial2),  sqrt(lamMe2_trial3)\n",
    "\n",
    "    \n",
    "    ## Python values (these are scalars so the point to be evaluated is irrelevant)\n",
    "    \n",
    "    JJ       = PythonValue(mesh,J,(0,0,0))\n",
    "    l1trial  = PythonValue(mesh,ln(lamMe_trial1),(0,0,0))\n",
    "    l2trial  = PythonValue(mesh,ln(lamMe_trial2),(0,0,0))\n",
    "    l3trial  = PythonValue(mesh,ln(lamMe_trial3),(0,0,0))\n",
    "    epsTrial = [l1trial, l2trial, l3trial]\n",
    "\n",
    "    print(\"eps trial:\",epsTrial)\n",
    "\n",
    "    ## Inelastic corrector\n",
    "\n",
    "    mu    = 2.*c\n",
    "    alpha = 2. # neo-hookean\n",
    "    etaD  = 1.5\n",
    "\n",
    "    def rA(eps):\n",
    "        r1 = eps[0] + mu*dt*1/(2*etaD)*( 2/3*JJ**(-2/3)*np.exp(2.*eps[0]) - 1/3*JJ**(-2/3)*np.exp(2.*eps[1]) - 1/3*JJ**(-2/3)*np.exp(2.*eps[2]) ) - epsTrial[0]\n",
    "        r2 = eps[1] + mu*dt*1/(2*etaD)*( 2/3*JJ**(-2/3)*np.exp(2.*eps[1]) - 1/3*JJ**(-2/3)*np.exp(2.*eps[0]) - 1/3*JJ**(-2/3)*np.exp(2.*eps[2]) ) - epsTrial[1]\n",
    "        r3 = eps[2] + mu*dt*1/(2*etaD)*( 2/3*JJ**(-2/3)*np.exp(2.*eps[2]) - 1/3*JJ**(-2/3)*np.exp(2.*eps[0]) - 1/3*JJ**(-2/3)*np.exp(2.*eps[1]) ) - epsTrial[2]\n",
    "        r  = [r1,\n",
    "              r2,\n",
    "              r3] \n",
    "        return r # 3x1\n",
    "\n",
    "    def Kab(eps):\n",
    "        dr1d1 = 1. + dt*1/(2*etaD)*(mu*alpha)*( 4/9*JJ**(-2/3)*np.exp(2.*eps[0]) + 1/9*JJ**(-2/3)*np.exp(2.*eps[1]) + 1/9*JJ**(-2/3)*np.exp(2.*eps[2]) )\n",
    "        dr1d2 = 1. + dt*1/(2*etaD)*(mu*alpha)*(-2/9*JJ**(-2/3)*np.exp(2.*eps[0]) - 2/9*JJ**(-2/3)*np.exp(2.*eps[1]) + 1/9*JJ**(-2/3)*np.exp(2.*eps[2]) )\n",
    "        dr1d3 = 1. + dt*1/(2*etaD)*(mu*alpha)*(-2/9*JJ**(-2/3)*np.exp(2.*eps[0]) - 2/9*JJ**(-2/3)*np.exp(2.*eps[2]) + 1/9*JJ**(-2/3)*np.exp(2.*eps[1]) )\n",
    "\n",
    "        dr2d1 = 1. + dt*1/(2*etaD)*(mu*alpha)*(-2/9*JJ**(-2/3)*np.exp(2.*eps[1]) - 2/9*JJ**(-2/3)*np.exp(2.*eps[0]) + 1/9*JJ**(-2/3)*np.exp(2.*eps[2]) )\n",
    "        dr2d2 = 1. + dt*1/(2*etaD)*(mu*alpha)*( 4/9*JJ**(-2/3)*np.exp(2.*eps[1]) + 1/9*JJ**(-2/3)*np.exp(2.*eps[0]) + 1/9*JJ**(-2/3)*np.exp(2.*eps[2]) )\n",
    "        dr2d3 = 1. + dt*1/(2*etaD)*(mu*alpha)*(-2/9*JJ**(-2/3)*np.exp(2.*eps[1]) - 2/9*JJ**(-2/3)*np.exp(2.*eps[2]) + 1/9*JJ**(-2/3)*np.exp(2.*eps[0]) )  \n",
    "\n",
    "        dr3d1 = 1. + dt*1/(2*etaD)*(mu*alpha)*(-2/9*JJ**(-2/3)*np.exp(2.*eps[2]) - 2/9*JJ**(-2/3)*np.exp(2.*eps[0]) + 1/9*JJ**(-2/3)*np.exp(2.*eps[1]) )\n",
    "        dr3d2 = 1. + dt*1/(2*etaD)*(mu*alpha)*(-2/9*JJ**(-2/3)*np.exp(2.*eps[2]) - 2/9*JJ**(-2/3)*np.exp(2.*eps[1]) + 1/9*JJ**(-2/3)*np.exp(2.*eps[0]) )\n",
    "        dr3d3 = 1. + dt*1/(2*etaD)*(mu*alpha)*( 4/9*JJ**(-2/3)*np.exp(2.*eps[2]) + 1/9*JJ**(-2/3)*np.exp(2.*eps[0]) + 1/9*JJ**(-2/3)*np.exp(2.*eps[1]) )\n",
    "\n",
    "        Jab = [[dr1d1,dr1d2,dr1d3],\n",
    "               [dr2d1,dr2d2,dr2d3],\n",
    "               [dr3d1,dr3d2,dr3d3]]\n",
    "               \n",
    "        return Jab # 3x3\n",
    "\n",
    "    # Initial guest, from the previous iteration\n",
    "    EPSk0 = [eps0[0],eps0[1],eps0[2]]\n",
    "    \n",
    "    print('Initial eps:\\n',EPSk0)\n",
    "\n",
    "    from scipy.optimize import fsolve\n",
    "    EPSk = fsolve(rA, EPSk0, fprime=Kab)\n",
    "    \n",
    "    print('Predicted eps:\\n',EPSk)\n",
    "    print('Residual: \\n',rA(EPSk))\n",
    "    \n",
    "    ## FEniCS\n",
    "    eps    = [EPSk[0]          , EPSk[1]          , EPSk[2]          ]   # [ε₁ₑ]ₙ      , [ε₂ₑ]ₙ   , [ε₂₃]ₙ \n",
    "    lamMe  = [np.exp(eps[0])   , np.exp(eps[1])   , np.exp(eps[2])   ]   # [λᵐ₁ₑ]ₙ     , [λᵐ₂ₑ]ₙ     principal stretches\n",
    "\n",
    "    ## Eigen-basis nᵢ⊗nᵢ\n",
    "    \n",
    "    # with dolfiniy eigenvalues (not the best results)\n",
    "    #nxn = lamMe2_trial_proj\n",
    "\n",
    "    # with functions\n",
    "    n1xn1, n2xn2, n3xn3  = projectionTensors(bMe_trial, lamMe2_trial1, lamMe2_trial2, lamMe2_trial3) \n",
    "    nxn = [n1xn1, n2xn2, n3xn3]\n",
    "\n",
    "    print('Internal variable updated')\n",
    "\n",
    "    return lamMe, nxn, eps"
   ]
  },
  {
   "cell_type": "code",
   "execution_count": 13,
   "metadata": {},
   "outputs": [],
   "source": [
    "def FiberEvolution(F,lamFv0):\n",
    "    from scipy import optimize\n",
    "    #### Kinematics\n",
    "    J   = det(F)\n",
    "    F_  = J**(-1/3)*F\n",
    "    C_  = F_.T*F_\n",
    "    I4_ = inner(C_,A0)\n",
    "\n",
    "    ## Python values\n",
    "    I4iso     = PythonValue(mesh,I4_,(0,0,0))\n",
    "    stretchF0 = PythonValue(mesh,lamFv0,(0,0,0))\n",
    "    \n",
    "    etaF = 1.5   \n",
    "\n",
    "    def tauFneq(stretchF):\n",
    "        I4eiso = I4iso/(stretchF**2)\n",
    "        return 2*beta2*k1*exp(k2*(I4eiso-1.)**2)*(I4eiso-1.)*I4eiso\n",
    "\n",
    "    def dTauxI4e(stretchF):\n",
    "        I4eiso = I4iso/(stretchF**2)\n",
    "        dTauxI4e = 2*beta2*k1*exp(k2*(I4eiso-1.)**2)*( 2*k2*(I4eiso-1)**2*I4eiso + (I4eiso - 1) + I4eiso )*I4eiso\n",
    "        return dTauxI4e\n",
    "\n",
    "    def rA(stretchF):\n",
    "        return stretchF - dt/etaF * tauFneq(stretchF) * stretchF - stretchF0\n",
    "\n",
    "    def Jij(stretchF):\n",
    "        return 1. - dt/etaF*(tauFneq(stretchF) - 2*dTauxI4e(stretchF))\n",
    "    \n",
    "    \n",
    "    lamFV = optimize.newton(rA, stretchF0, fprime=Jij,tol=1e-6,maxiter=100)\n",
    "\n",
    "    \n",
    "    print('predicted fiber stretch:', lamFV)\n",
    "    print('residual fiber:',rA(lamFV))\n",
    "\n",
    "    # print('--------------- --------------- ---------------')\n",
    "\n",
    "    return lamFV"
   ]
  },
  {
   "cell_type": "code",
   "execution_count": 14,
   "metadata": {},
   "outputs": [],
   "source": [
    "def PK2(F,invCMv,I4e_):\n",
    "\n",
    "    ## Kinematics\n",
    "    J   = det(F)\n",
    "    C   = F.T*F\n",
    "    F_  = J**(-1/3)*F\n",
    "    C_  = F_.T*F_\n",
    "    \n",
    "    ## Matrix\n",
    "    I1    = tr(C) \n",
    "    sMeq  = 2*c*(J**(-2/3))*(I-1/3*I1*inv(C))\n",
    "    sMneq = 2*beta1*c*(J**(-2/3))*(invCMv-1/3*inner(C,invCMv)*inv(C)) # Ie = inner(C,invCMv)\n",
    "    sVol  = k*(J**2-J)*inv(C)\n",
    "\n",
    "    ## Fiber\n",
    "    I4_   = inner(C_,A0)  # Pure elastic response\n",
    "    #I4v  = lamFv**2      # Viscous response\n",
    "    #I4e_ = I4_/I4v       # Relaxing elastic response\n",
    "    sFeq  = 2.*k1*(I4_-1.)*exp(k2*(I4_-1.)**2)*(J**(-2/3))*I4_*(A0/I4_-1/3*inv(C_))\n",
    "    sFneq = 2.*beta2*k1*(I4e_-1.)*exp(k2*(I4e_-1.)**2)*(J**(-2/3))*I4e_*(A0/I4_-1/3*inv(C_))\n",
    "    \n",
    "    return sMeq, sMneq, sVol, sFeq, sFneq"
   ]
  },
  {
   "cell_type": "code",
   "execution_count": 15,
   "metadata": {},
   "outputs": [],
   "source": [
    "## Dirichlet BC\n",
    "left_dofs    = locate_dofs_topological(W.sub(0), fdim, left_facets)\n",
    "right_dofs   = locate_dofs_topological(W.sub(0), fdim, right_facets)\n",
    "bottom_dofs  = locate_dofs_topological(W.sub(1), fdim, bottom_facets)\n",
    "top_dofs     = locate_dofs_topological(W.sub(1), fdim, top_facets)\n",
    "back_dofs    = locate_dofs_topological(W.sub(2), fdim, back_facets)\n",
    "front_dofs   = locate_dofs_topological(W.sub(2), fdim, front_facets)\n",
    "\n",
    "# displacement imposed, is updated with disp.value = #!&\n",
    "disp = Constant(mesh,ScalarType(0.0))\n",
    "\n",
    "bcs  = [\n",
    "        dirichletbc(ScalarType(0.0), left_dofs, W.sub(0)),\n",
    "        dirichletbc(ScalarType(0.0), bottom_dofs, W.sub(1)),\n",
    "        dirichletbc(ScalarType(0.0), back_dofs, W.sub(2)),\n",
    "        dirichletbc(disp, right_dofs, W.sub(0)),\n",
    "        dirichletbc(disp, front_dofs, W.sub(2))\n",
    "       ]"
   ]
  },
  {
   "cell_type": "code",
   "execution_count": 16,
   "metadata": {},
   "outputs": [],
   "source": [
    "## Neumann BC\n",
    "B = Constant(mesh, ScalarType((0.0, 0.0, 0.0)))\n",
    "T = Constant(mesh, ScalarType((0.0, 0.0, 0.0)))"
   ]
  },
  {
   "cell_type": "code",
   "execution_count": 17,
   "metadata": {},
   "outputs": [],
   "source": [
    "## kinematics\n",
    "I  = Identity(u.geometric_dimension())   # Identity tensor\n",
    "F  = variable(I + grad(u))               # [Variable][Coefficient]\n",
    "J  = det(F)\n",
    "C  = F.T*F\n",
    "C_ = J**(-2/3)*C\n",
    "I4 = inner(C,A0)"
   ]
  },
  {
   "cell_type": "code",
   "execution_count": 18,
   "metadata": {},
   "outputs": [],
   "source": [
    "## Weak form - variational problem\n",
    "#mech    = inner(PK2(F,invCMv,I4e_),sym(F.T*grad(u_)))*dx\n",
    "\n",
    "sMeq, sMneq, sVol, sFeq, sFneq = PK2(F,invCMv,I4e_)\n",
    "PiolaKirchhoff2 = sMeq + sMneq + sVol + sFeq + sFneq\n",
    "PiolaKirchhoff1 = F*PiolaKirchhoff2\n",
    "\n",
    "\n",
    "mech    = inner(PiolaKirchhoff1,grad(u_))*dx\n",
    "Jac     = derivative(mech, u, du) \n",
    "problem = NonlinearProblem(mech, u, bcs=bcs, J=Jac)\n",
    "solver  = NewtonSolver(mesh.comm, problem)\n",
    "\n",
    "\n",
    "solver.atol=1.e-8\n",
    "solver.rtol=1.e-4\n",
    "solver.convergence_criterion='incremental'\n",
    "solver.max_it=500\n",
    "solver.report=True"
   ]
  },
  {
   "cell_type": "code",
   "execution_count": 19,
   "metadata": {},
   "outputs": [],
   "source": [
    "## Iteration setup\n",
    "tTotal =  3\n",
    "Nsteps = int(tTotal/dt+1)\n",
    "Time   = np.linspace(0, tTotal, Nsteps)\n",
    "j      = 1\n",
    "\n",
    "ufinal = 0.1\n",
    "d_rate = dimx*ufinal\n",
    "\n",
    "\n",
    "px = (dimx,dimy/2,dimz/2)\n",
    "pz = (dimx/2,dimy/2,dimz)\n",
    "pt = px\n",
    "\n",
    "## Storage\n",
    "disp_v        = np.zeros((Nsteps,1))\n",
    "SIG_v         = np.zeros((Nsteps,1))\n",
    "SIGeq_v       = np.zeros((Nsteps,1))\n",
    "SIGneq_v      = np.zeros((Nsteps,1))\n",
    "invariants    = np.zeros((Nsteps,4))"
   ]
  },
  {
   "cell_type": "code",
   "execution_count": 20,
   "metadata": {},
   "outputs": [
    {
     "name": "stdout",
     "output_type": "stream",
     "text": [
      "------------------------------------\n",
      "Simulation Start\n",
      "------------------------------------\n",
      "Iteration n= 0\n",
      "Time:  0.0 [s]\n",
      "Solving Matrix viscoelasticity...\n",
      "eps trial: [1.2909777823445741e-05, -1.2910111157125991e-05, -2.220446049250315e-16]\n",
      "Initial eps:\n",
      " [0.0, 0.0, 0.0]\n",
      "Predicted eps:\n",
      " [ 1.15582186e-05 -1.15585496e-05 -2.30834762e-12]\n",
      "Residual: \n",
      " [-3.2187251995663413e-19, -3.2187251995663413e-19, 6.44801391964858e-19]\n",
      "Internal variable updated\n",
      "predicted fiber stretch: 1.0000000000000033\n",
      "residual fiber: 0.0\n",
      "Discontinuous Lagrange element requested on hexahedron, creating DQ element.\n"
     ]
    },
    {
     "name": "stderr",
     "output_type": "stream",
     "text": [
      "WARNING:UFL:Discontinuous Lagrange element requested on hexahedron, creating DQ element.\n"
     ]
    },
    {
     "name": "stdout",
     "output_type": "stream",
     "text": [
      "Discontinuous Lagrange element requested on hexahedron, creating DQ element.\n"
     ]
    },
    {
     "name": "stderr",
     "output_type": "stream",
     "text": [
      "WARNING:UFL:Discontinuous Lagrange element requested on hexahedron, creating DQ element.\n"
     ]
    },
    {
     "name": "stdout",
     "output_type": "stream",
     "text": [
      "Discontinuous Lagrange element requested on hexahedron, creating DQ element.\n"
     ]
    },
    {
     "name": "stderr",
     "output_type": "stream",
     "text": [
      "WARNING:UFL:Discontinuous Lagrange element requested on hexahedron, creating DQ element.\n"
     ]
    },
    {
     "name": "stdout",
     "output_type": "stream",
     "text": [
      "Discontinuous Lagrange element requested on hexahedron, creating DQ element.\n"
     ]
    },
    {
     "name": "stderr",
     "output_type": "stream",
     "text": [
      "WARNING:UFL:Discontinuous Lagrange element requested on hexahedron, creating DQ element.\n"
     ]
    },
    {
     "name": "stdout",
     "output_type": "stream",
     "text": [
      "Discontinuous Lagrange element requested on hexahedron, creating DQ element.\n"
     ]
    },
    {
     "name": "stderr",
     "output_type": "stream",
     "text": [
      "WARNING:UFL:Discontinuous Lagrange element requested on hexahedron, creating DQ element.\n"
     ]
    },
    {
     "name": "stdout",
     "output_type": "stream",
     "text": [
      "Discontinuous Lagrange element requested on hexahedron, creating DQ element.\n"
     ]
    },
    {
     "name": "stderr",
     "output_type": "stream",
     "text": [
      "WARNING:UFL:Discontinuous Lagrange element requested on hexahedron, creating DQ element.\n"
     ]
    },
    {
     "name": "stdout",
     "output_type": "stream",
     "text": [
      "Iteration n= 1\n",
      "Time:  0.1 [s]\n",
      "Solving Matrix viscoelasticity...\n",
      "eps trial: [0.011112337635861919, -0.019848780590590507, 0.008736756550188515]\n",
      "Initial eps:\n",
      " [1.155821859604788e-05, -1.1558549621602557e-05, -2.308347615884578e-12]\n",
      "Predicted eps:\n",
      " [ 0.00995508 -0.01778696  0.00783219]\n",
      "Residual: \n",
      " [-3.469446951953614e-18, 0.0, 6.938893903907228e-18]\n",
      "Internal variable updated\n",
      "predicted fiber stretch: 1.000408548066485\n",
      "residual fiber: -6.661338147750939e-16\n",
      "Discontinuous Lagrange element requested on hexahedron, creating DQ element.\n"
     ]
    },
    {
     "name": "stderr",
     "output_type": "stream",
     "text": [
      "WARNING:UFL:Discontinuous Lagrange element requested on hexahedron, creating DQ element.\n"
     ]
    },
    {
     "name": "stdout",
     "output_type": "stream",
     "text": [
      "Discontinuous Lagrange element requested on hexahedron, creating DQ element.\n"
     ]
    },
    {
     "name": "stderr",
     "output_type": "stream",
     "text": [
      "WARNING:UFL:Discontinuous Lagrange element requested on hexahedron, creating DQ element.\n"
     ]
    },
    {
     "name": "stdout",
     "output_type": "stream",
     "text": [
      "Discontinuous Lagrange element requested on hexahedron, creating DQ element.\n"
     ]
    },
    {
     "name": "stderr",
     "output_type": "stream",
     "text": [
      "WARNING:UFL:Discontinuous Lagrange element requested on hexahedron, creating DQ element.\n"
     ]
    },
    {
     "name": "stdout",
     "output_type": "stream",
     "text": [
      "Discontinuous Lagrange element requested on hexahedron, creating DQ element.\n"
     ]
    },
    {
     "name": "stderr",
     "output_type": "stream",
     "text": [
      "WARNING:UFL:Discontinuous Lagrange element requested on hexahedron, creating DQ element.\n"
     ]
    },
    {
     "name": "stdout",
     "output_type": "stream",
     "text": [
      "Discontinuous Lagrange element requested on hexahedron, creating DQ element.\n"
     ]
    },
    {
     "name": "stderr",
     "output_type": "stream",
     "text": [
      "WARNING:UFL:Discontinuous Lagrange element requested on hexahedron, creating DQ element.\n"
     ]
    },
    {
     "name": "stdout",
     "output_type": "stream",
     "text": [
      "Discontinuous Lagrange element requested on hexahedron, creating DQ element.\n"
     ]
    },
    {
     "name": "stderr",
     "output_type": "stream",
     "text": [
      "WARNING:UFL:Discontinuous Lagrange element requested on hexahedron, creating DQ element.\n"
     ]
    },
    {
     "name": "stdout",
     "output_type": "stream",
     "text": [
      "Iteration n= 2\n",
      "Time:  0.2 [s]\n",
      "Solving Matrix viscoelasticity...\n",
      "eps trial: [0.01910673336128008, -0.03753549384125854, 0.01842906800249477]\n",
      "Initial eps:\n",
      " [0.009955082079004704, -0.01778696113487827, 0.007832192651333494]\n",
      "Predicted eps:\n",
      " [ 0.01713402 -0.03366318  0.01652947]\n",
      "Residual: \n",
      " [1.5543122344752192e-15, 1.547373340571312e-15, 1.5404344466674047e-15]\n",
      "Internal variable updated\n",
      "predicted fiber stretch: 1.0012552148160632\n",
      "residual fiber: -6.661338147750939e-14\n",
      "Discontinuous Lagrange element requested on hexahedron, creating DQ element.\n"
     ]
    },
    {
     "name": "stderr",
     "output_type": "stream",
     "text": [
      "WARNING:UFL:Discontinuous Lagrange element requested on hexahedron, creating DQ element.\n"
     ]
    },
    {
     "name": "stdout",
     "output_type": "stream",
     "text": [
      "Discontinuous Lagrange element requested on hexahedron, creating DQ element.\n"
     ]
    },
    {
     "name": "stderr",
     "output_type": "stream",
     "text": [
      "WARNING:UFL:Discontinuous Lagrange element requested on hexahedron, creating DQ element.\n"
     ]
    },
    {
     "name": "stdout",
     "output_type": "stream",
     "text": [
      "Discontinuous Lagrange element requested on hexahedron, creating DQ element.\n"
     ]
    },
    {
     "name": "stderr",
     "output_type": "stream",
     "text": [
      "WARNING:UFL:Discontinuous Lagrange element requested on hexahedron, creating DQ element.\n"
     ]
    },
    {
     "name": "stdout",
     "output_type": "stream",
     "text": [
      "Discontinuous Lagrange element requested on hexahedron, creating DQ element.\n"
     ]
    },
    {
     "name": "stderr",
     "output_type": "stream",
     "text": [
      "WARNING:UFL:Discontinuous Lagrange element requested on hexahedron, creating DQ element.\n"
     ]
    },
    {
     "name": "stdout",
     "output_type": "stream",
     "text": [
      "Discontinuous Lagrange element requested on hexahedron, creating DQ element.\n"
     ]
    },
    {
     "name": "stderr",
     "output_type": "stream",
     "text": [
      "WARNING:UFL:Discontinuous Lagrange element requested on hexahedron, creating DQ element.\n"
     ]
    },
    {
     "name": "stdout",
     "output_type": "stream",
     "text": [
      "Discontinuous Lagrange element requested on hexahedron, creating DQ element.\n"
     ]
    },
    {
     "name": "stderr",
     "output_type": "stream",
     "text": [
      "WARNING:UFL:Discontinuous Lagrange element requested on hexahedron, creating DQ element.\n"
     ]
    },
    {
     "name": "stdout",
     "output_type": "stream",
     "text": [
      "Iteration n= 3\n",
      "Time:  0.30000000000000004 [s]\n",
      "Solving Matrix viscoelasticity...\n",
      "eps trial: [0.026757495594272544, -0.053177131100271884, 0.026420049701074613]\n",
      "Initial eps:\n",
      " [0.017134021207864128, -0.03366318215310415, 0.01652946846776097]\n",
      "Predicted eps:\n",
      " [ 0.02401228 -0.04772357  0.0237117 ]\n",
      "Residual: \n",
      " [-2.1510571102112408e-16, -2.1510571102112408e-16, -2.1163626406917047e-16]\n",
      "Internal variable updated\n",
      "predicted fiber stretch: 1.0025925458280138\n",
      "residual fiber: 0.0\n",
      "Discontinuous Lagrange element requested on hexahedron, creating DQ element.\n"
     ]
    },
    {
     "name": "stderr",
     "output_type": "stream",
     "text": [
      "WARNING:UFL:Discontinuous Lagrange element requested on hexahedron, creating DQ element.\n"
     ]
    },
    {
     "name": "stdout",
     "output_type": "stream",
     "text": [
      "Discontinuous Lagrange element requested on hexahedron, creating DQ element.\n"
     ]
    },
    {
     "name": "stderr",
     "output_type": "stream",
     "text": [
      "WARNING:UFL:Discontinuous Lagrange element requested on hexahedron, creating DQ element.\n"
     ]
    },
    {
     "name": "stdout",
     "output_type": "stream",
     "text": [
      "Discontinuous Lagrange element requested on hexahedron, creating DQ element.\n"
     ]
    },
    {
     "name": "stderr",
     "output_type": "stream",
     "text": [
      "WARNING:UFL:Discontinuous Lagrange element requested on hexahedron, creating DQ element.\n"
     ]
    },
    {
     "name": "stdout",
     "output_type": "stream",
     "text": [
      "Discontinuous Lagrange element requested on hexahedron, creating DQ element.\n"
     ]
    },
    {
     "name": "stderr",
     "output_type": "stream",
     "text": [
      "WARNING:UFL:Discontinuous Lagrange element requested on hexahedron, creating DQ element.\n"
     ]
    },
    {
     "name": "stdout",
     "output_type": "stream",
     "text": [
      "Discontinuous Lagrange element requested on hexahedron, creating DQ element.\n"
     ]
    },
    {
     "name": "stderr",
     "output_type": "stream",
     "text": [
      "WARNING:UFL:Discontinuous Lagrange element requested on hexahedron, creating DQ element.\n"
     ]
    },
    {
     "name": "stdout",
     "output_type": "stream",
     "text": [
      "Discontinuous Lagrange element requested on hexahedron, creating DQ element.\n"
     ]
    },
    {
     "name": "stderr",
     "output_type": "stream",
     "text": [
      "WARNING:UFL:Discontinuous Lagrange element requested on hexahedron, creating DQ element.\n"
     ]
    },
    {
     "name": "stdout",
     "output_type": "stream",
     "text": [
      "Iteration n= 4\n",
      "Time:  0.4 [s]\n",
      "Solving Matrix viscoelasticity...\n",
      "eps trial: [0.033630037925174, -0.0670475313262787, 0.03341801905475513]\n",
      "Initial eps:\n",
      " [0.024012280591525114, -0.0477235669731022, 0.023711700576651718]\n",
      "Predicted eps:\n",
      " [ 0.03019797 -0.06020681  0.03000937]\n",
      "Residual: \n",
      " [0.0, 2.7755575615628914e-17, 2.0816681711721685e-17]\n",
      "Internal variable updated\n",
      "predicted fiber stretch: 1.00449100953444\n",
      "residual fiber: 0.0\n",
      "Discontinuous Lagrange element requested on hexahedron, creating DQ element.\n"
     ]
    },
    {
     "name": "stderr",
     "output_type": "stream",
     "text": [
      "WARNING:UFL:Discontinuous Lagrange element requested on hexahedron, creating DQ element.\n"
     ]
    },
    {
     "name": "stdout",
     "output_type": "stream",
     "text": [
      "Discontinuous Lagrange element requested on hexahedron, creating DQ element.\n"
     ]
    },
    {
     "name": "stderr",
     "output_type": "stream",
     "text": [
      "WARNING:UFL:Discontinuous Lagrange element requested on hexahedron, creating DQ element.\n"
     ]
    },
    {
     "name": "stdout",
     "output_type": "stream",
     "text": [
      "Discontinuous Lagrange element requested on hexahedron, creating DQ element.\n"
     ]
    },
    {
     "name": "stderr",
     "output_type": "stream",
     "text": [
      "WARNING:UFL:Discontinuous Lagrange element requested on hexahedron, creating DQ element.\n"
     ]
    },
    {
     "name": "stdout",
     "output_type": "stream",
     "text": [
      "Discontinuous Lagrange element requested on hexahedron, creating DQ element.\n"
     ]
    },
    {
     "name": "stderr",
     "output_type": "stream",
     "text": [
      "WARNING:UFL:Discontinuous Lagrange element requested on hexahedron, creating DQ element.\n"
     ]
    },
    {
     "name": "stdout",
     "output_type": "stream",
     "text": [
      "Discontinuous Lagrange element requested on hexahedron, creating DQ element.\n"
     ]
    },
    {
     "name": "stderr",
     "output_type": "stream",
     "text": [
      "WARNING:UFL:Discontinuous Lagrange element requested on hexahedron, creating DQ element.\n"
     ]
    },
    {
     "name": "stdout",
     "output_type": "stream",
     "text": [
      "Discontinuous Lagrange element requested on hexahedron, creating DQ element.\n"
     ]
    },
    {
     "name": "stderr",
     "output_type": "stream",
     "text": [
      "WARNING:UFL:Discontinuous Lagrange element requested on hexahedron, creating DQ element.\n"
     ]
    },
    {
     "name": "stdout",
     "output_type": "stream",
     "text": [
      "Iteration n= 5\n",
      "Time:  0.5 [s]\n",
      "Solving Matrix viscoelasticity...\n",
      "eps trial: [0.039748745871497446, -0.07934567310349232, 0.039597561479096856]\n",
      "Initial eps:\n",
      " [0.030197967966543313, -0.060206813236542034, 0.030009370923649192]\n",
      "Predicted eps:\n",
      " [ 0.03571069 -0.07128643  0.03557637]\n",
      "Residual: \n",
      " [2.7755575615628914e-17, 2.7755575615628914e-17, 3.469446951953614e-17]\n",
      "Internal variable updated\n",
      "predicted fiber stretch: 1.0070307859213405\n",
      "residual fiber: 0.0\n",
      "Discontinuous Lagrange element requested on hexahedron, creating DQ element.\n"
     ]
    },
    {
     "name": "stderr",
     "output_type": "stream",
     "text": [
      "WARNING:UFL:Discontinuous Lagrange element requested on hexahedron, creating DQ element.\n"
     ]
    },
    {
     "name": "stdout",
     "output_type": "stream",
     "text": [
      "Discontinuous Lagrange element requested on hexahedron, creating DQ element.\n"
     ]
    },
    {
     "name": "stderr",
     "output_type": "stream",
     "text": [
      "WARNING:UFL:Discontinuous Lagrange element requested on hexahedron, creating DQ element.\n"
     ]
    },
    {
     "name": "stdout",
     "output_type": "stream",
     "text": [
      "Discontinuous Lagrange element requested on hexahedron, creating DQ element.\n"
     ]
    },
    {
     "name": "stderr",
     "output_type": "stream",
     "text": [
      "WARNING:UFL:Discontinuous Lagrange element requested on hexahedron, creating DQ element.\n"
     ]
    },
    {
     "name": "stdout",
     "output_type": "stream",
     "text": [
      "Discontinuous Lagrange element requested on hexahedron, creating DQ element.\n"
     ]
    },
    {
     "name": "stderr",
     "output_type": "stream",
     "text": [
      "WARNING:UFL:Discontinuous Lagrange element requested on hexahedron, creating DQ element.\n"
     ]
    },
    {
     "name": "stdout",
     "output_type": "stream",
     "text": [
      "Discontinuous Lagrange element requested on hexahedron, creating DQ element.\n"
     ]
    },
    {
     "name": "stderr",
     "output_type": "stream",
     "text": [
      "WARNING:UFL:Discontinuous Lagrange element requested on hexahedron, creating DQ element.\n"
     ]
    },
    {
     "name": "stdout",
     "output_type": "stream",
     "text": [
      "Discontinuous Lagrange element requested on hexahedron, creating DQ element.\n"
     ]
    },
    {
     "name": "stderr",
     "output_type": "stream",
     "text": [
      "WARNING:UFL:Discontinuous Lagrange element requested on hexahedron, creating DQ element.\n"
     ]
    },
    {
     "name": "stdout",
     "output_type": "stream",
     "text": [
      "Iteration n= 6\n",
      "Time:  0.6000000000000001 [s]\n",
      "Solving Matrix viscoelasticity...\n",
      "eps trial: [0.04518064278113868, -0.09024383827557873, 0.04506393534598736]\n",
      "Initial eps:\n",
      " [0.035710692120074945, -0.07128643232937383, 0.03557637445640095]\n",
      "Predicted eps:\n",
      " [ 0.04060887 -0.08111344  0.0405053 ]\n",
      "Residual: \n",
      " [5.551115123125783e-17, 4.163336342344337e-17, 4.163336342344337e-17]\n",
      "Internal variable updated\n",
      "predicted fiber stretch: 1.0102893370738442\n",
      "residual fiber: 0.0\n",
      "Discontinuous Lagrange element requested on hexahedron, creating DQ element.\n"
     ]
    },
    {
     "name": "stderr",
     "output_type": "stream",
     "text": [
      "WARNING:UFL:Discontinuous Lagrange element requested on hexahedron, creating DQ element.\n"
     ]
    },
    {
     "name": "stdout",
     "output_type": "stream",
     "text": [
      "Discontinuous Lagrange element requested on hexahedron, creating DQ element.\n"
     ]
    },
    {
     "name": "stderr",
     "output_type": "stream",
     "text": [
      "WARNING:UFL:Discontinuous Lagrange element requested on hexahedron, creating DQ element.\n"
     ]
    },
    {
     "name": "stdout",
     "output_type": "stream",
     "text": [
      "Discontinuous Lagrange element requested on hexahedron, creating DQ element.\n"
     ]
    },
    {
     "name": "stderr",
     "output_type": "stream",
     "text": [
      "WARNING:UFL:Discontinuous Lagrange element requested on hexahedron, creating DQ element.\n"
     ]
    },
    {
     "name": "stdout",
     "output_type": "stream",
     "text": [
      "Discontinuous Lagrange element requested on hexahedron, creating DQ element.\n"
     ]
    },
    {
     "name": "stderr",
     "output_type": "stream",
     "text": [
      "WARNING:UFL:Discontinuous Lagrange element requested on hexahedron, creating DQ element.\n"
     ]
    },
    {
     "name": "stdout",
     "output_type": "stream",
     "text": [
      "Discontinuous Lagrange element requested on hexahedron, creating DQ element.\n"
     ]
    },
    {
     "name": "stderr",
     "output_type": "stream",
     "text": [
      "WARNING:UFL:Discontinuous Lagrange element requested on hexahedron, creating DQ element.\n"
     ]
    },
    {
     "name": "stdout",
     "output_type": "stream",
     "text": [
      "Discontinuous Lagrange element requested on hexahedron, creating DQ element.\n"
     ]
    },
    {
     "name": "stderr",
     "output_type": "stream",
     "text": [
      "WARNING:UFL:Discontinuous Lagrange element requested on hexahedron, creating DQ element.\n"
     ]
    },
    {
     "name": "stdout",
     "output_type": "stream",
     "text": [
      "Iteration n= 7\n",
      "Time:  0.7000000000000001 [s]\n",
      "Solving Matrix viscoelasticity...\n",
      "eps trial: [0.04999439748199163, -0.09989282398744313, 0.04989927041148648]\n",
      "Initial eps:\n",
      " [0.04060887499510173, -0.08111343715783816, 0.040505302014283866]\n",
      "Predicted eps:\n",
      " [ 0.0449529  -0.08982062  0.04486856]\n",
      "Residual: \n",
      " [4.85722573273506e-17, 4.163336342344337e-17, 5.551115123125783e-17]\n",
      "Internal variable updated\n",
      "predicted fiber stretch: 1.0143259440994887\n",
      "residual fiber: 0.0\n",
      "Discontinuous Lagrange element requested on hexahedron, creating DQ element.\n"
     ]
    },
    {
     "name": "stderr",
     "output_type": "stream",
     "text": [
      "WARNING:UFL:Discontinuous Lagrange element requested on hexahedron, creating DQ element.\n"
     ]
    },
    {
     "name": "stdout",
     "output_type": "stream",
     "text": [
      "Discontinuous Lagrange element requested on hexahedron, creating DQ element.\n"
     ]
    },
    {
     "name": "stderr",
     "output_type": "stream",
     "text": [
      "WARNING:UFL:Discontinuous Lagrange element requested on hexahedron, creating DQ element.\n"
     ]
    },
    {
     "name": "stdout",
     "output_type": "stream",
     "text": [
      "Discontinuous Lagrange element requested on hexahedron, creating DQ element.\n"
     ]
    },
    {
     "name": "stderr",
     "output_type": "stream",
     "text": [
      "WARNING:UFL:Discontinuous Lagrange element requested on hexahedron, creating DQ element.\n"
     ]
    },
    {
     "name": "stdout",
     "output_type": "stream",
     "text": [
      "Discontinuous Lagrange element requested on hexahedron, creating DQ element.\n"
     ]
    },
    {
     "name": "stderr",
     "output_type": "stream",
     "text": [
      "WARNING:UFL:Discontinuous Lagrange element requested on hexahedron, creating DQ element.\n"
     ]
    },
    {
     "name": "stdout",
     "output_type": "stream",
     "text": [
      "Discontinuous Lagrange element requested on hexahedron, creating DQ element.\n"
     ]
    },
    {
     "name": "stderr",
     "output_type": "stream",
     "text": [
      "WARNING:UFL:Discontinuous Lagrange element requested on hexahedron, creating DQ element.\n"
     ]
    },
    {
     "name": "stdout",
     "output_type": "stream",
     "text": [
      "Discontinuous Lagrange element requested on hexahedron, creating DQ element.\n"
     ]
    },
    {
     "name": "stderr",
     "output_type": "stream",
     "text": [
      "WARNING:UFL:Discontinuous Lagrange element requested on hexahedron, creating DQ element.\n"
     ]
    },
    {
     "name": "stdout",
     "output_type": "stream",
     "text": [
      "Iteration n= 8\n",
      "Time:  0.8 [s]\n",
      "Solving Matrix viscoelasticity...\n",
      "eps trial: [0.05425344265957972, -0.10842530527800724, 0.05417281144753919]\n",
      "Initial eps:\n",
      " [0.04495290104905637, -0.08982061989082848, 0.04486856274780725]\n",
      "Predicted eps:\n",
      " [ 0.04879883 -0.09752528  0.0487274 ]\n",
      "Residual: \n",
      " [4.85722573273506e-17, 4.163336342344337e-17, 4.85722573273506e-17]\n",
      "Internal variable updated\n",
      "predicted fiber stretch: 1.0191672054825724\n",
      "residual fiber: -1.7763568394002505e-15\n",
      "Discontinuous Lagrange element requested on hexahedron, creating DQ element.\n"
     ]
    },
    {
     "name": "stderr",
     "output_type": "stream",
     "text": [
      "WARNING:UFL:Discontinuous Lagrange element requested on hexahedron, creating DQ element.\n"
     ]
    },
    {
     "name": "stdout",
     "output_type": "stream",
     "text": [
      "Discontinuous Lagrange element requested on hexahedron, creating DQ element.\n"
     ]
    },
    {
     "name": "stderr",
     "output_type": "stream",
     "text": [
      "WARNING:UFL:Discontinuous Lagrange element requested on hexahedron, creating DQ element.\n"
     ]
    },
    {
     "name": "stdout",
     "output_type": "stream",
     "text": [
      "Discontinuous Lagrange element requested on hexahedron, creating DQ element.\n"
     ]
    },
    {
     "name": "stderr",
     "output_type": "stream",
     "text": [
      "WARNING:UFL:Discontinuous Lagrange element requested on hexahedron, creating DQ element.\n"
     ]
    },
    {
     "name": "stdout",
     "output_type": "stream",
     "text": [
      "Discontinuous Lagrange element requested on hexahedron, creating DQ element.\n"
     ]
    },
    {
     "name": "stderr",
     "output_type": "stream",
     "text": [
      "WARNING:UFL:Discontinuous Lagrange element requested on hexahedron, creating DQ element.\n"
     ]
    },
    {
     "name": "stdout",
     "output_type": "stream",
     "text": [
      "Discontinuous Lagrange element requested on hexahedron, creating DQ element.\n"
     ]
    },
    {
     "name": "stderr",
     "output_type": "stream",
     "text": [
      "WARNING:UFL:Discontinuous Lagrange element requested on hexahedron, creating DQ element.\n"
     ]
    },
    {
     "name": "stdout",
     "output_type": "stream",
     "text": [
      "Discontinuous Lagrange element requested on hexahedron, creating DQ element.\n"
     ]
    },
    {
     "name": "stderr",
     "output_type": "stream",
     "text": [
      "WARNING:UFL:Discontinuous Lagrange element requested on hexahedron, creating DQ element.\n"
     ]
    },
    {
     "name": "stdout",
     "output_type": "stream",
     "text": [
      "Iteration n= 9\n",
      "Time:  0.9 [s]\n",
      "Solving Matrix viscoelasticity...\n",
      "eps trial: [0.058014974347248734, -0.11595848473103182, 0.057944568840456526]\n",
      "Initial eps:\n",
      " [0.048798827074825114, -0.09752528149305185, 0.04872740324733855]\n",
      "Predicted eps:\n",
      " [ 0.05219739 -0.1043314   0.05213507]\n",
      "Residual: \n",
      " [4.85722573273506e-17, 4.163336342344337e-17, 4.163336342344337e-17]\n",
      "Internal variable updated\n",
      "predicted fiber stretch: 1.0247988051600156\n",
      "residual fiber: -1.9761969838327786e-14\n",
      "Discontinuous Lagrange element requested on hexahedron, creating DQ element.\n"
     ]
    },
    {
     "name": "stderr",
     "output_type": "stream",
     "text": [
      "WARNING:UFL:Discontinuous Lagrange element requested on hexahedron, creating DQ element.\n"
     ]
    },
    {
     "name": "stdout",
     "output_type": "stream",
     "text": [
      "Discontinuous Lagrange element requested on hexahedron, creating DQ element.\n"
     ]
    },
    {
     "name": "stderr",
     "output_type": "stream",
     "text": [
      "WARNING:UFL:Discontinuous Lagrange element requested on hexahedron, creating DQ element.\n"
     ]
    },
    {
     "name": "stdout",
     "output_type": "stream",
     "text": [
      "Discontinuous Lagrange element requested on hexahedron, creating DQ element.\n"
     ]
    },
    {
     "name": "stderr",
     "output_type": "stream",
     "text": [
      "WARNING:UFL:Discontinuous Lagrange element requested on hexahedron, creating DQ element.\n"
     ]
    },
    {
     "name": "stdout",
     "output_type": "stream",
     "text": [
      "Discontinuous Lagrange element requested on hexahedron, creating DQ element.\n"
     ]
    },
    {
     "name": "stderr",
     "output_type": "stream",
     "text": [
      "WARNING:UFL:Discontinuous Lagrange element requested on hexahedron, creating DQ element.\n"
     ]
    },
    {
     "name": "stdout",
     "output_type": "stream",
     "text": [
      "Discontinuous Lagrange element requested on hexahedron, creating DQ element.\n"
     ]
    },
    {
     "name": "stderr",
     "output_type": "stream",
     "text": [
      "WARNING:UFL:Discontinuous Lagrange element requested on hexahedron, creating DQ element.\n"
     ]
    },
    {
     "name": "stdout",
     "output_type": "stream",
     "text": [
      "Discontinuous Lagrange element requested on hexahedron, creating DQ element.\n"
     ]
    },
    {
     "name": "stderr",
     "output_type": "stream",
     "text": [
      "WARNING:UFL:Discontinuous Lagrange element requested on hexahedron, creating DQ element.\n"
     ]
    },
    {
     "name": "stdout",
     "output_type": "stream",
     "text": [
      "Iteration n= 10\n",
      "Time:  1.0 [s]\n",
      "Solving Matrix viscoelasticity...\n",
      "eps trial: [0.06133017140544458, -0.12259624884851089, 0.06126725664349848]\n",
      "Initial eps:\n",
      " [0.052197388317925274, -0.10433140096853219, 0.05213507110728049]\n",
      "Predicted eps:\n",
      " [ 0.05519412 -0.11033142  0.05513847]\n",
      "Residual: \n",
      " [2.0816681711721685e-17, 2.7755575615628914e-17, 3.469446951953614e-17]\n",
      "Internal variable updated\n",
      "predicted fiber stretch: 1.0311668991289296\n",
      "residual fiber: -1.3700152123874432e-13\n",
      "Discontinuous Lagrange element requested on hexahedron, creating DQ element.\n"
     ]
    },
    {
     "name": "stderr",
     "output_type": "stream",
     "text": [
      "WARNING:UFL:Discontinuous Lagrange element requested on hexahedron, creating DQ element.\n"
     ]
    },
    {
     "name": "stdout",
     "output_type": "stream",
     "text": [
      "Discontinuous Lagrange element requested on hexahedron, creating DQ element.\n"
     ]
    },
    {
     "name": "stderr",
     "output_type": "stream",
     "text": [
      "WARNING:UFL:Discontinuous Lagrange element requested on hexahedron, creating DQ element.\n"
     ]
    },
    {
     "name": "stdout",
     "output_type": "stream",
     "text": [
      "Discontinuous Lagrange element requested on hexahedron, creating DQ element.\n"
     ]
    },
    {
     "name": "stderr",
     "output_type": "stream",
     "text": [
      "WARNING:UFL:Discontinuous Lagrange element requested on hexahedron, creating DQ element.\n"
     ]
    },
    {
     "name": "stdout",
     "output_type": "stream",
     "text": [
      "Discontinuous Lagrange element requested on hexahedron, creating DQ element.\n"
     ]
    },
    {
     "name": "stderr",
     "output_type": "stream",
     "text": [
      "WARNING:UFL:Discontinuous Lagrange element requested on hexahedron, creating DQ element.\n"
     ]
    },
    {
     "name": "stdout",
     "output_type": "stream",
     "text": [
      "Discontinuous Lagrange element requested on hexahedron, creating DQ element.\n"
     ]
    },
    {
     "name": "stderr",
     "output_type": "stream",
     "text": [
      "WARNING:UFL:Discontinuous Lagrange element requested on hexahedron, creating DQ element.\n"
     ]
    },
    {
     "name": "stdout",
     "output_type": "stream",
     "text": [
      "Discontinuous Lagrange element requested on hexahedron, creating DQ element.\n"
     ]
    },
    {
     "name": "stderr",
     "output_type": "stream",
     "text": [
      "WARNING:UFL:Discontinuous Lagrange element requested on hexahedron, creating DQ element.\n"
     ]
    },
    {
     "name": "stdout",
     "output_type": "stream",
     "text": [
      "Iteration n= 11\n",
      "Time:  1.1 [s]\n",
      "Solving Matrix viscoelasticity...\n",
      "eps trial: [0.055205217844911766, -0.11033144739960267, 0.05512737366780633]\n",
      "Initial eps:\n",
      " [0.05519412309878668, -0.11033141845633816, 0.055138474557983735]\n",
      "Predicted eps:\n",
      " [ 0.0496586  -0.09924711  0.04958966]\n",
      "Residual: \n",
      " [2.060851489460447e-15, 2.095545958979983e-15, 2.067790383364354e-15]\n",
      "Internal variable updated\n",
      "predicted fiber stretch: 1.036404152620453\n",
      "residual fiber: -4.884981308350689e-15\n",
      "Discontinuous Lagrange element requested on hexahedron, creating DQ element.\n"
     ]
    },
    {
     "name": "stderr",
     "output_type": "stream",
     "text": [
      "WARNING:UFL:Discontinuous Lagrange element requested on hexahedron, creating DQ element.\n"
     ]
    },
    {
     "name": "stdout",
     "output_type": "stream",
     "text": [
      "Discontinuous Lagrange element requested on hexahedron, creating DQ element.\n"
     ]
    },
    {
     "name": "stderr",
     "output_type": "stream",
     "text": [
      "WARNING:UFL:Discontinuous Lagrange element requested on hexahedron, creating DQ element.\n"
     ]
    },
    {
     "name": "stdout",
     "output_type": "stream",
     "text": [
      "Discontinuous Lagrange element requested on hexahedron, creating DQ element.\n"
     ]
    },
    {
     "name": "stderr",
     "output_type": "stream",
     "text": [
      "WARNING:UFL:Discontinuous Lagrange element requested on hexahedron, creating DQ element.\n"
     ]
    },
    {
     "name": "stdout",
     "output_type": "stream",
     "text": [
      "Discontinuous Lagrange element requested on hexahedron, creating DQ element.\n"
     ]
    },
    {
     "name": "stderr",
     "output_type": "stream",
     "text": [
      "WARNING:UFL:Discontinuous Lagrange element requested on hexahedron, creating DQ element.\n"
     ]
    },
    {
     "name": "stdout",
     "output_type": "stream",
     "text": [
      "Discontinuous Lagrange element requested on hexahedron, creating DQ element.\n"
     ]
    },
    {
     "name": "stderr",
     "output_type": "stream",
     "text": [
      "WARNING:UFL:Discontinuous Lagrange element requested on hexahedron, creating DQ element.\n"
     ]
    },
    {
     "name": "stdout",
     "output_type": "stream",
     "text": [
      "Discontinuous Lagrange element requested on hexahedron, creating DQ element.\n"
     ]
    },
    {
     "name": "stderr",
     "output_type": "stream",
     "text": [
      "WARNING:UFL:Discontinuous Lagrange element requested on hexahedron, creating DQ element.\n"
     ]
    },
    {
     "name": "stdout",
     "output_type": "stream",
     "text": [
      "Iteration n= 12\n",
      "Time:  1.2000000000000002 [s]\n",
      "Solving Matrix viscoelasticity...\n",
      "eps trial: [0.049672310084209116, -0.09924714448649408, 0.049575937963433445]\n",
      "Initial eps:\n",
      " [0.04965859985018867, -0.09924711410685473, 0.04958965836978771]\n",
      "Predicted eps:\n",
      " [ 0.04466216 -0.08923776  0.04457671]\n",
      "Residual: \n",
      " [1.3877787807814457e-17, 0.0, 1.3877787807814457e-17]\n",
      "Internal variable updated\n",
      "predicted fiber stretch: 1.0408529300051197\n",
      "residual fiber: -2.220446049250313e-16\n",
      "Discontinuous Lagrange element requested on hexahedron, creating DQ element.\n"
     ]
    },
    {
     "name": "stderr",
     "output_type": "stream",
     "text": [
      "WARNING:UFL:Discontinuous Lagrange element requested on hexahedron, creating DQ element.\n"
     ]
    },
    {
     "name": "stdout",
     "output_type": "stream",
     "text": [
      "Discontinuous Lagrange element requested on hexahedron, creating DQ element.\n"
     ]
    },
    {
     "name": "stderr",
     "output_type": "stream",
     "text": [
      "WARNING:UFL:Discontinuous Lagrange element requested on hexahedron, creating DQ element.\n"
     ]
    },
    {
     "name": "stdout",
     "output_type": "stream",
     "text": [
      "Discontinuous Lagrange element requested on hexahedron, creating DQ element.\n"
     ]
    },
    {
     "name": "stderr",
     "output_type": "stream",
     "text": [
      "WARNING:UFL:Discontinuous Lagrange element requested on hexahedron, creating DQ element.\n"
     ]
    },
    {
     "name": "stdout",
     "output_type": "stream",
     "text": [
      "Discontinuous Lagrange element requested on hexahedron, creating DQ element.\n"
     ]
    },
    {
     "name": "stderr",
     "output_type": "stream",
     "text": [
      "WARNING:UFL:Discontinuous Lagrange element requested on hexahedron, creating DQ element.\n"
     ]
    },
    {
     "name": "stdout",
     "output_type": "stream",
     "text": [
      "Discontinuous Lagrange element requested on hexahedron, creating DQ element.\n"
     ]
    },
    {
     "name": "stderr",
     "output_type": "stream",
     "text": [
      "WARNING:UFL:Discontinuous Lagrange element requested on hexahedron, creating DQ element.\n"
     ]
    },
    {
     "name": "stdout",
     "output_type": "stream",
     "text": [
      "Discontinuous Lagrange element requested on hexahedron, creating DQ element.\n"
     ]
    },
    {
     "name": "stderr",
     "output_type": "stream",
     "text": [
      "WARNING:UFL:Discontinuous Lagrange element requested on hexahedron, creating DQ element.\n"
     ]
    },
    {
     "name": "stdout",
     "output_type": "stream",
     "text": [
      "Iteration n= 13\n",
      "Time:  1.3 [s]\n",
      "Solving Matrix viscoelasticity...\n",
      "eps trial: [0.044679112037147146, -0.08923778355407498, 0.0445597395817029]\n",
      "Initial eps:\n",
      " [0.04466215815568245, -0.0892377649592292, 0.04457671036469525]\n",
      "Predicted eps:\n",
      " [ 0.04015647 -0.08020592  0.04005052]\n",
      "Residual: \n",
      " [1.3877787807814457e-17, 1.3877787807814457e-17, 1.3877787807814457e-17]\n",
      "Internal variable updated\n",
      "predicted fiber stretch: 1.0447187313007533\n",
      "residual fiber: 0.0\n",
      "Discontinuous Lagrange element requested on hexahedron, creating DQ element.\n"
     ]
    },
    {
     "name": "stderr",
     "output_type": "stream",
     "text": [
      "WARNING:UFL:Discontinuous Lagrange element requested on hexahedron, creating DQ element.\n"
     ]
    },
    {
     "name": "stdout",
     "output_type": "stream",
     "text": [
      "Discontinuous Lagrange element requested on hexahedron, creating DQ element.\n"
     ]
    },
    {
     "name": "stderr",
     "output_type": "stream",
     "text": [
      "WARNING:UFL:Discontinuous Lagrange element requested on hexahedron, creating DQ element.\n"
     ]
    },
    {
     "name": "stdout",
     "output_type": "stream",
     "text": [
      "Discontinuous Lagrange element requested on hexahedron, creating DQ element.\n"
     ]
    },
    {
     "name": "stderr",
     "output_type": "stream",
     "text": [
      "WARNING:UFL:Discontinuous Lagrange element requested on hexahedron, creating DQ element.\n"
     ]
    },
    {
     "name": "stdout",
     "output_type": "stream",
     "text": [
      "Discontinuous Lagrange element requested on hexahedron, creating DQ element.\n"
     ]
    },
    {
     "name": "stderr",
     "output_type": "stream",
     "text": [
      "WARNING:UFL:Discontinuous Lagrange element requested on hexahedron, creating DQ element.\n"
     ]
    },
    {
     "name": "stdout",
     "output_type": "stream",
     "text": [
      "Discontinuous Lagrange element requested on hexahedron, creating DQ element.\n"
     ]
    },
    {
     "name": "stderr",
     "output_type": "stream",
     "text": [
      "WARNING:UFL:Discontinuous Lagrange element requested on hexahedron, creating DQ element.\n"
     ]
    },
    {
     "name": "stdout",
     "output_type": "stream",
     "text": [
      "Discontinuous Lagrange element requested on hexahedron, creating DQ element.\n"
     ]
    },
    {
     "name": "stderr",
     "output_type": "stream",
     "text": [
      "WARNING:UFL:Discontinuous Lagrange element requested on hexahedron, creating DQ element.\n"
     ]
    },
    {
     "name": "stdout",
     "output_type": "stream",
     "text": [
      "Iteration n= 14\n",
      "Time:  1.4000000000000001 [s]\n",
      "Solving Matrix viscoelasticity...\n",
      "eps trial: [0.040177446560888994, -0.08020592423058921, 0.040029514424871904]\n",
      "Initial eps:\n",
      " [0.04015646902416709, -0.08020592109368495, 0.04005052013429297]\n",
      "Predicted eps:\n",
      " [ 0.03609714 -0.07206183  0.03596572]\n",
      "Residual: \n",
      " [4.163336342344337e-17, 4.163336342344337e-17, 3.469446951953614e-17]\n",
      "Internal variable updated\n",
      "predicted fiber stretch: 1.0481345840690954\n",
      "residual fiber: 0.0\n",
      "Discontinuous Lagrange element requested on hexahedron, creating DQ element.\n"
     ]
    },
    {
     "name": "stderr",
     "output_type": "stream",
     "text": [
      "WARNING:UFL:Discontinuous Lagrange element requested on hexahedron, creating DQ element.\n"
     ]
    },
    {
     "name": "stdout",
     "output_type": "stream",
     "text": [
      "Discontinuous Lagrange element requested on hexahedron, creating DQ element.\n"
     ]
    },
    {
     "name": "stderr",
     "output_type": "stream",
     "text": [
      "WARNING:UFL:Discontinuous Lagrange element requested on hexahedron, creating DQ element.\n"
     ]
    },
    {
     "name": "stdout",
     "output_type": "stream",
     "text": [
      "Discontinuous Lagrange element requested on hexahedron, creating DQ element.\n"
     ]
    },
    {
     "name": "stderr",
     "output_type": "stream",
     "text": [
      "WARNING:UFL:Discontinuous Lagrange element requested on hexahedron, creating DQ element.\n"
     ]
    },
    {
     "name": "stdout",
     "output_type": "stream",
     "text": [
      "Discontinuous Lagrange element requested on hexahedron, creating DQ element.\n"
     ]
    },
    {
     "name": "stderr",
     "output_type": "stream",
     "text": [
      "WARNING:UFL:Discontinuous Lagrange element requested on hexahedron, creating DQ element.\n"
     ]
    },
    {
     "name": "stdout",
     "output_type": "stream",
     "text": [
      "Discontinuous Lagrange element requested on hexahedron, creating DQ element.\n"
     ]
    },
    {
     "name": "stderr",
     "output_type": "stream",
     "text": [
      "WARNING:UFL:Discontinuous Lagrange element requested on hexahedron, creating DQ element.\n"
     ]
    },
    {
     "name": "stdout",
     "output_type": "stream",
     "text": [
      "Discontinuous Lagrange element requested on hexahedron, creating DQ element.\n"
     ]
    },
    {
     "name": "stderr",
     "output_type": "stream",
     "text": [
      "WARNING:UFL:Discontinuous Lagrange element requested on hexahedron, creating DQ element.\n"
     ]
    },
    {
     "name": "stdout",
     "output_type": "stream",
     "text": [
      "Iteration n= 15\n",
      "Time:  1.5 [s]\n",
      "Solving Matrix viscoelasticity...\n",
      "eps trial: [0.036123125319405085, -0.0720618066248544, 0.03593969043376315]\n",
      "Initial eps:\n",
      " [0.0360971398828685, -0.0720618261434188, 0.0359657230157221]\n",
      "Predicted eps:\n",
      " [ 0.03244354 -0.06472298  0.03228045]\n",
      "Residual: \n",
      " [2.7755575615628914e-17, 4.163336342344337e-17, 1.3877787807814457e-17]\n",
      "Internal variable updated\n",
      "predicted fiber stretch: 1.0511916084332187\n",
      "residual fiber: 0.0\n",
      "Discontinuous Lagrange element requested on hexahedron, creating DQ element.\n"
     ]
    },
    {
     "name": "stderr",
     "output_type": "stream",
     "text": [
      "WARNING:UFL:Discontinuous Lagrange element requested on hexahedron, creating DQ element.\n"
     ]
    },
    {
     "name": "stdout",
     "output_type": "stream",
     "text": [
      "Discontinuous Lagrange element requested on hexahedron, creating DQ element.\n"
     ]
    },
    {
     "name": "stderr",
     "output_type": "stream",
     "text": [
      "WARNING:UFL:Discontinuous Lagrange element requested on hexahedron, creating DQ element.\n"
     ]
    },
    {
     "name": "stdout",
     "output_type": "stream",
     "text": [
      "Discontinuous Lagrange element requested on hexahedron, creating DQ element.\n"
     ]
    },
    {
     "name": "stderr",
     "output_type": "stream",
     "text": [
      "WARNING:UFL:Discontinuous Lagrange element requested on hexahedron, creating DQ element.\n"
     ]
    },
    {
     "name": "stdout",
     "output_type": "stream",
     "text": [
      "Discontinuous Lagrange element requested on hexahedron, creating DQ element.\n"
     ]
    },
    {
     "name": "stderr",
     "output_type": "stream",
     "text": [
      "WARNING:UFL:Discontinuous Lagrange element requested on hexahedron, creating DQ element.\n"
     ]
    },
    {
     "name": "stdout",
     "output_type": "stream",
     "text": [
      "Discontinuous Lagrange element requested on hexahedron, creating DQ element.\n"
     ]
    },
    {
     "name": "stderr",
     "output_type": "stream",
     "text": [
      "WARNING:UFL:Discontinuous Lagrange element requested on hexahedron, creating DQ element.\n"
     ]
    },
    {
     "name": "stdout",
     "output_type": "stream",
     "text": [
      "Discontinuous Lagrange element requested on hexahedron, creating DQ element.\n"
     ]
    },
    {
     "name": "stderr",
     "output_type": "stream",
     "text": [
      "WARNING:UFL:Discontinuous Lagrange element requested on hexahedron, creating DQ element.\n"
     ]
    },
    {
     "name": "stdout",
     "output_type": "stream",
     "text": [
      "Iteration n= 16\n",
      "Time:  1.6 [s]\n",
      "Solving Matrix viscoelasticity...\n",
      "eps trial: [0.032475735880836305, -0.06472292454250038, 0.032248173544913626]\n",
      "Initial eps:\n",
      " [0.03244353887675963, -0.0647229794330124, 0.0322804496845667]\n",
      "Predicted eps:\n",
      " [ 0.02915858 -0.05811371  0.02895611]\n",
      "Residual: \n",
      " [1.3877787807814457e-17, 1.3877787807814457e-17, 1.3877787807814457e-17]\n",
      "Internal variable updated\n",
      "predicted fiber stretch: 1.053955018611296\n",
      "residual fiber: 0.0\n",
      "Discontinuous Lagrange element requested on hexahedron, creating DQ element.\n"
     ]
    },
    {
     "name": "stderr",
     "output_type": "stream",
     "text": [
      "WARNING:UFL:Discontinuous Lagrange element requested on hexahedron, creating DQ element.\n"
     ]
    },
    {
     "name": "stdout",
     "output_type": "stream",
     "text": [
      "Discontinuous Lagrange element requested on hexahedron, creating DQ element.\n"
     ]
    },
    {
     "name": "stderr",
     "output_type": "stream",
     "text": [
      "WARNING:UFL:Discontinuous Lagrange element requested on hexahedron, creating DQ element.\n"
     ]
    },
    {
     "name": "stdout",
     "output_type": "stream",
     "text": [
      "Discontinuous Lagrange element requested on hexahedron, creating DQ element.\n"
     ]
    },
    {
     "name": "stderr",
     "output_type": "stream",
     "text": [
      "WARNING:UFL:Discontinuous Lagrange element requested on hexahedron, creating DQ element.\n"
     ]
    },
    {
     "name": "stdout",
     "output_type": "stream",
     "text": [
      "Discontinuous Lagrange element requested on hexahedron, creating DQ element.\n"
     ]
    },
    {
     "name": "stderr",
     "output_type": "stream",
     "text": [
      "WARNING:UFL:Discontinuous Lagrange element requested on hexahedron, creating DQ element.\n"
     ]
    },
    {
     "name": "stdout",
     "output_type": "stream",
     "text": [
      "Discontinuous Lagrange element requested on hexahedron, creating DQ element.\n"
     ]
    },
    {
     "name": "stderr",
     "output_type": "stream",
     "text": [
      "WARNING:UFL:Discontinuous Lagrange element requested on hexahedron, creating DQ element.\n"
     ]
    },
    {
     "name": "stdout",
     "output_type": "stream",
     "text": [
      "Discontinuous Lagrange element requested on hexahedron, creating DQ element.\n"
     ]
    },
    {
     "name": "stderr",
     "output_type": "stream",
     "text": [
      "WARNING:UFL:Discontinuous Lagrange element requested on hexahedron, creating DQ element.\n"
     ]
    },
    {
     "name": "stdout",
     "output_type": "stream",
     "text": [
      "Iteration n= 17\n",
      "Time:  1.7000000000000002 [s]\n",
      "Solving Matrix viscoelasticity...\n",
      "eps trial: [0.029198497763594806, -0.05811359545102179, 0.028916061543179983]\n",
      "Initial eps:\n",
      " [0.0291585813492946, -0.0581137076370959, 0.028956111171050892]\n",
      "Predicted eps:\n",
      " [ 0.02620858 -0.05216474  0.02595712]\n",
      "Residual: \n",
      " [0.0, 1.3877787807814457e-17, 1.0408340855860843e-17]\n",
      "Internal variable updated\n",
      "predicted fiber stretch: 1.056473153562311\n",
      "residual fiber: 0.0\n",
      "Discontinuous Lagrange element requested on hexahedron, creating DQ element.\n"
     ]
    },
    {
     "name": "stderr",
     "output_type": "stream",
     "text": [
      "WARNING:UFL:Discontinuous Lagrange element requested on hexahedron, creating DQ element.\n"
     ]
    },
    {
     "name": "stdout",
     "output_type": "stream",
     "text": [
      "Discontinuous Lagrange element requested on hexahedron, creating DQ element.\n"
     ]
    },
    {
     "name": "stderr",
     "output_type": "stream",
     "text": [
      "WARNING:UFL:Discontinuous Lagrange element requested on hexahedron, creating DQ element.\n"
     ]
    },
    {
     "name": "stdout",
     "output_type": "stream",
     "text": [
      "Discontinuous Lagrange element requested on hexahedron, creating DQ element.\n"
     ]
    },
    {
     "name": "stderr",
     "output_type": "stream",
     "text": [
      "WARNING:UFL:Discontinuous Lagrange element requested on hexahedron, creating DQ element.\n"
     ]
    },
    {
     "name": "stdout",
     "output_type": "stream",
     "text": [
      "Discontinuous Lagrange element requested on hexahedron, creating DQ element.\n"
     ]
    },
    {
     "name": "stderr",
     "output_type": "stream",
     "text": [
      "WARNING:UFL:Discontinuous Lagrange element requested on hexahedron, creating DQ element.\n"
     ]
    },
    {
     "name": "stdout",
     "output_type": "stream",
     "text": [
      "Discontinuous Lagrange element requested on hexahedron, creating DQ element.\n"
     ]
    },
    {
     "name": "stderr",
     "output_type": "stream",
     "text": [
      "WARNING:UFL:Discontinuous Lagrange element requested on hexahedron, creating DQ element.\n"
     ]
    },
    {
     "name": "stdout",
     "output_type": "stream",
     "text": [
      "Discontinuous Lagrange element requested on hexahedron, creating DQ element.\n"
     ]
    },
    {
     "name": "stderr",
     "output_type": "stream",
     "text": [
      "WARNING:UFL:Discontinuous Lagrange element requested on hexahedron, creating DQ element.\n"
     ]
    },
    {
     "name": "stdout",
     "output_type": "stream",
     "text": [
      "Iteration n= 18\n",
      "Time:  1.8 [s]\n",
      "Solving Matrix viscoelasticity...\n",
      "eps trial: [0.02625808829954909, -0.05216452900731404, 0.025907386715516283]\n",
      "Initial eps:\n",
      " [0.02620857887561704, -0.05216473604332332, 0.0259571210234593]\n",
      "Predicted eps:\n",
      " [ 0.02356306 -0.04681276  0.02325064]\n",
      "Residual: \n",
      " [3.469446951953614e-18, 0.0, 3.469446951953614e-18]\n",
      "Internal variable updated\n",
      "predicted fiber stretch: 1.058782885902387\n",
      "residual fiber: 0.0\n",
      "Discontinuous Lagrange element requested on hexahedron, creating DQ element.\n"
     ]
    },
    {
     "name": "stderr",
     "output_type": "stream",
     "text": [
      "WARNING:UFL:Discontinuous Lagrange element requested on hexahedron, creating DQ element.\n"
     ]
    },
    {
     "name": "stdout",
     "output_type": "stream",
     "text": [
      "Discontinuous Lagrange element requested on hexahedron, creating DQ element.\n"
     ]
    },
    {
     "name": "stderr",
     "output_type": "stream",
     "text": [
      "WARNING:UFL:Discontinuous Lagrange element requested on hexahedron, creating DQ element.\n"
     ]
    },
    {
     "name": "stdout",
     "output_type": "stream",
     "text": [
      "Discontinuous Lagrange element requested on hexahedron, creating DQ element.\n"
     ]
    },
    {
     "name": "stderr",
     "output_type": "stream",
     "text": [
      "WARNING:UFL:Discontinuous Lagrange element requested on hexahedron, creating DQ element.\n"
     ]
    },
    {
     "name": "stdout",
     "output_type": "stream",
     "text": [
      "Discontinuous Lagrange element requested on hexahedron, creating DQ element.\n"
     ]
    },
    {
     "name": "stderr",
     "output_type": "stream",
     "text": [
      "WARNING:UFL:Discontinuous Lagrange element requested on hexahedron, creating DQ element.\n"
     ]
    },
    {
     "name": "stdout",
     "output_type": "stream",
     "text": [
      "Discontinuous Lagrange element requested on hexahedron, creating DQ element.\n"
     ]
    },
    {
     "name": "stderr",
     "output_type": "stream",
     "text": [
      "WARNING:UFL:Discontinuous Lagrange element requested on hexahedron, creating DQ element.\n"
     ]
    },
    {
     "name": "stdout",
     "output_type": "stream",
     "text": [
      "Discontinuous Lagrange element requested on hexahedron, creating DQ element.\n"
     ]
    },
    {
     "name": "stderr",
     "output_type": "stream",
     "text": [
      "WARNING:UFL:Discontinuous Lagrange element requested on hexahedron, creating DQ element.\n"
     ]
    },
    {
     "name": "stdout",
     "output_type": "stream",
     "text": [
      "Iteration n= 19\n",
      "Time:  1.9000000000000001 [s]\n",
      "Solving Matrix viscoelasticity...\n",
      "eps trial: [0.023624463974896825, -0.04681239606914285, 0.02318886352617567]\n",
      "Initial eps:\n",
      " [0.023563063272764365, -0.046812761945955676, 0.02325064468094265]\n",
      "Predicted eps:\n",
      " [ 0.02119461 -0.04200003  0.02080636]\n",
      "Residual: \n",
      " [0.0, 2.0816681711721685e-17, -3.469446951953614e-18]\n",
      "Internal variable updated\n",
      "predicted fiber stretch: 1.060913021897464\n",
      "residual fiber: 0.0\n",
      "Discontinuous Lagrange element requested on hexahedron, creating DQ element.\n"
     ]
    },
    {
     "name": "stderr",
     "output_type": "stream",
     "text": [
      "WARNING:UFL:Discontinuous Lagrange element requested on hexahedron, creating DQ element.\n"
     ]
    },
    {
     "name": "stdout",
     "output_type": "stream",
     "text": [
      "Discontinuous Lagrange element requested on hexahedron, creating DQ element.\n"
     ]
    },
    {
     "name": "stderr",
     "output_type": "stream",
     "text": [
      "WARNING:UFL:Discontinuous Lagrange element requested on hexahedron, creating DQ element.\n"
     ]
    },
    {
     "name": "stdout",
     "output_type": "stream",
     "text": [
      "Discontinuous Lagrange element requested on hexahedron, creating DQ element.\n"
     ]
    },
    {
     "name": "stderr",
     "output_type": "stream",
     "text": [
      "WARNING:UFL:Discontinuous Lagrange element requested on hexahedron, creating DQ element.\n"
     ]
    },
    {
     "name": "stdout",
     "output_type": "stream",
     "text": [
      "Discontinuous Lagrange element requested on hexahedron, creating DQ element.\n"
     ]
    },
    {
     "name": "stderr",
     "output_type": "stream",
     "text": [
      "WARNING:UFL:Discontinuous Lagrange element requested on hexahedron, creating DQ element.\n"
     ]
    },
    {
     "name": "stdout",
     "output_type": "stream",
     "text": [
      "Discontinuous Lagrange element requested on hexahedron, creating DQ element.\n"
     ]
    },
    {
     "name": "stderr",
     "output_type": "stream",
     "text": [
      "WARNING:UFL:Discontinuous Lagrange element requested on hexahedron, creating DQ element.\n"
     ]
    },
    {
     "name": "stdout",
     "output_type": "stream",
     "text": [
      "Discontinuous Lagrange element requested on hexahedron, creating DQ element.\n"
     ]
    },
    {
     "name": "stderr",
     "output_type": "stream",
     "text": [
      "WARNING:UFL:Discontinuous Lagrange element requested on hexahedron, creating DQ element.\n"
     ]
    },
    {
     "name": "stdout",
     "output_type": "stream",
     "text": [
      "Iteration n= 20\n",
      "Time:  2.0 [s]\n",
      "Solving Matrix viscoelasticity...\n",
      "eps trial: [0.021270801560551035, -0.04199939801313032, 0.020729516826288527]\n",
      "Initial eps:\n",
      " [0.021194608535003663, -0.04200003235660951, 0.020806355253535507]\n",
      "Predicted eps:\n",
      " [ 0.01907876 -0.03767393  0.01859608]\n",
      "Residual: \n",
      " [-6.938893903907228e-18, 6.938893903907228e-18, 6.938893903907228e-18]\n",
      "Internal variable updated\n",
      "predicted fiber stretch: 1.0628865259006026\n",
      "residual fiber: 0.0\n",
      "Discontinuous Lagrange element requested on hexahedron, creating DQ element.\n"
     ]
    },
    {
     "name": "stderr",
     "output_type": "stream",
     "text": [
      "WARNING:UFL:Discontinuous Lagrange element requested on hexahedron, creating DQ element.\n"
     ]
    },
    {
     "name": "stdout",
     "output_type": "stream",
     "text": [
      "Discontinuous Lagrange element requested on hexahedron, creating DQ element.\n"
     ]
    },
    {
     "name": "stderr",
     "output_type": "stream",
     "text": [
      "WARNING:UFL:Discontinuous Lagrange element requested on hexahedron, creating DQ element.\n"
     ]
    },
    {
     "name": "stdout",
     "output_type": "stream",
     "text": [
      "Discontinuous Lagrange element requested on hexahedron, creating DQ element.\n"
     ]
    },
    {
     "name": "stderr",
     "output_type": "stream",
     "text": [
      "WARNING:UFL:Discontinuous Lagrange element requested on hexahedron, creating DQ element.\n"
     ]
    },
    {
     "name": "stdout",
     "output_type": "stream",
     "text": [
      "Discontinuous Lagrange element requested on hexahedron, creating DQ element.\n"
     ]
    },
    {
     "name": "stderr",
     "output_type": "stream",
     "text": [
      "WARNING:UFL:Discontinuous Lagrange element requested on hexahedron, creating DQ element.\n"
     ]
    },
    {
     "name": "stdout",
     "output_type": "stream",
     "text": [
      "Discontinuous Lagrange element requested on hexahedron, creating DQ element.\n"
     ]
    },
    {
     "name": "stderr",
     "output_type": "stream",
     "text": [
      "WARNING:UFL:Discontinuous Lagrange element requested on hexahedron, creating DQ element.\n"
     ]
    },
    {
     "name": "stdout",
     "output_type": "stream",
     "text": [
      "Discontinuous Lagrange element requested on hexahedron, creating DQ element.\n"
     ]
    },
    {
     "name": "stderr",
     "output_type": "stream",
     "text": [
      "WARNING:UFL:Discontinuous Lagrange element requested on hexahedron, creating DQ element.\n"
     ]
    },
    {
     "name": "stdout",
     "output_type": "stream",
     "text": [
      "Iteration n= 21\n",
      "Time:  2.1 [s]\n",
      "Solving Matrix viscoelasticity...\n",
      "eps trial: [0.019173246619402, -0.03767283647561125, 0.018500503144661676]\n",
      "Initial eps:\n",
      " [0.019078761588654687, -0.03767392601300809, 0.018596084798062656]\n",
      "Predicted eps:\n",
      " [ 0.0171938  -0.03378654  0.01659365]\n",
      "Residual: \n",
      " [1.6764367671839864e-14, 1.684763439868675e-14, 1.674008154317619e-14]\n",
      "Internal variable updated\n",
      "predicted fiber stretch: 1.0647220255384322\n",
      "residual fiber: 0.0\n",
      "Discontinuous Lagrange element requested on hexahedron, creating DQ element.\n"
     ]
    },
    {
     "name": "stderr",
     "output_type": "stream",
     "text": [
      "WARNING:UFL:Discontinuous Lagrange element requested on hexahedron, creating DQ element.\n"
     ]
    },
    {
     "name": "stdout",
     "output_type": "stream",
     "text": [
      "Discontinuous Lagrange element requested on hexahedron, creating DQ element.\n"
     ]
    },
    {
     "name": "stderr",
     "output_type": "stream",
     "text": [
      "WARNING:UFL:Discontinuous Lagrange element requested on hexahedron, creating DQ element.\n"
     ]
    },
    {
     "name": "stdout",
     "output_type": "stream",
     "text": [
      "Discontinuous Lagrange element requested on hexahedron, creating DQ element.\n"
     ]
    },
    {
     "name": "stderr",
     "output_type": "stream",
     "text": [
      "WARNING:UFL:Discontinuous Lagrange element requested on hexahedron, creating DQ element.\n"
     ]
    },
    {
     "name": "stdout",
     "output_type": "stream",
     "text": [
      "Discontinuous Lagrange element requested on hexahedron, creating DQ element.\n"
     ]
    },
    {
     "name": "stderr",
     "output_type": "stream",
     "text": [
      "WARNING:UFL:Discontinuous Lagrange element requested on hexahedron, creating DQ element.\n"
     ]
    },
    {
     "name": "stdout",
     "output_type": "stream",
     "text": [
      "Discontinuous Lagrange element requested on hexahedron, creating DQ element.\n"
     ]
    },
    {
     "name": "stderr",
     "output_type": "stream",
     "text": [
      "WARNING:UFL:Discontinuous Lagrange element requested on hexahedron, creating DQ element.\n"
     ]
    },
    {
     "name": "stdout",
     "output_type": "stream",
     "text": [
      "Discontinuous Lagrange element requested on hexahedron, creating DQ element.\n"
     ]
    },
    {
     "name": "stderr",
     "output_type": "stream",
     "text": [
      "WARNING:UFL:Discontinuous Lagrange element requested on hexahedron, creating DQ element.\n"
     ]
    },
    {
     "name": "stdout",
     "output_type": "stream",
     "text": [
      "Iteration n= 22\n",
      "Time:  2.2 [s]\n",
      "Solving Matrix viscoelasticity...\n",
      "eps trial: [0.01731094752361135, -0.033784675509284164, 0.01647463885077866]\n",
      "Initial eps:\n",
      " [0.017193803443816325, -0.03378653972719341, 0.016593649571879854]\n",
      "Predicted eps:\n",
      " [ 0.01552077 -0.03029427  0.01477442]\n",
      "Residual: \n",
      " [9.838203168799353e-12, 9.885120499930622e-12, 9.831687547423584e-12]\n",
      "Internal variable updated\n",
      "predicted fiber stretch: 1.0664348599135927\n",
      "residual fiber: 0.0\n",
      "Discontinuous Lagrange element requested on hexahedron, creating DQ element.\n"
     ]
    },
    {
     "name": "stderr",
     "output_type": "stream",
     "text": [
      "WARNING:UFL:Discontinuous Lagrange element requested on hexahedron, creating DQ element.\n"
     ]
    },
    {
     "name": "stdout",
     "output_type": "stream",
     "text": [
      "Discontinuous Lagrange element requested on hexahedron, creating DQ element.\n"
     ]
    },
    {
     "name": "stderr",
     "output_type": "stream",
     "text": [
      "WARNING:UFL:Discontinuous Lagrange element requested on hexahedron, creating DQ element.\n"
     ]
    },
    {
     "name": "stdout",
     "output_type": "stream",
     "text": [
      "Discontinuous Lagrange element requested on hexahedron, creating DQ element.\n"
     ]
    },
    {
     "name": "stderr",
     "output_type": "stream",
     "text": [
      "WARNING:UFL:Discontinuous Lagrange element requested on hexahedron, creating DQ element.\n"
     ]
    },
    {
     "name": "stdout",
     "output_type": "stream",
     "text": [
      "Discontinuous Lagrange element requested on hexahedron, creating DQ element.\n"
     ]
    },
    {
     "name": "stderr",
     "output_type": "stream",
     "text": [
      "WARNING:UFL:Discontinuous Lagrange element requested on hexahedron, creating DQ element.\n"
     ]
    },
    {
     "name": "stdout",
     "output_type": "stream",
     "text": [
      "Discontinuous Lagrange element requested on hexahedron, creating DQ element.\n"
     ]
    },
    {
     "name": "stderr",
     "output_type": "stream",
     "text": [
      "WARNING:UFL:Discontinuous Lagrange element requested on hexahedron, creating DQ element.\n"
     ]
    },
    {
     "name": "stdout",
     "output_type": "stream",
     "text": [
      "Discontinuous Lagrange element requested on hexahedron, creating DQ element.\n"
     ]
    },
    {
     "name": "stderr",
     "output_type": "stream",
     "text": [
      "WARNING:UFL:Discontinuous Lagrange element requested on hexahedron, creating DQ element.\n"
     ]
    },
    {
     "name": "stdout",
     "output_type": "stream",
     "text": [
      "Iteration n= 23\n",
      "Time:  2.3000000000000003 [s]\n",
      "Solving Matrix viscoelasticity...\n",
      "eps trial: [0.015665810922379307, -0.030291088315086145, 0.014626191568207627]\n",
      "Initial eps:\n",
      " [0.015520766767362892, -0.03029427165102498, 0.014774415778322949]\n",
      "Predicted eps:\n",
      " [ 0.01404321 -0.02715739  0.0131151 ]\n",
      "Residual: \n",
      " [1.734723475976807e-17, 3.469446951953614e-18, 1.214306433183765e-17]\n",
      "Internal variable updated\n",
      "predicted fiber stretch: 1.0680378279116383\n",
      "residual fiber: 0.0\n",
      "Discontinuous Lagrange element requested on hexahedron, creating DQ element.\n"
     ]
    },
    {
     "name": "stderr",
     "output_type": "stream",
     "text": [
      "WARNING:UFL:Discontinuous Lagrange element requested on hexahedron, creating DQ element.\n"
     ]
    },
    {
     "name": "stdout",
     "output_type": "stream",
     "text": [
      "Discontinuous Lagrange element requested on hexahedron, creating DQ element.\n"
     ]
    },
    {
     "name": "stderr",
     "output_type": "stream",
     "text": [
      "WARNING:UFL:Discontinuous Lagrange element requested on hexahedron, creating DQ element.\n"
     ]
    },
    {
     "name": "stdout",
     "output_type": "stream",
     "text": [
      "Discontinuous Lagrange element requested on hexahedron, creating DQ element.\n"
     ]
    },
    {
     "name": "stderr",
     "output_type": "stream",
     "text": [
      "WARNING:UFL:Discontinuous Lagrange element requested on hexahedron, creating DQ element.\n"
     ]
    },
    {
     "name": "stdout",
     "output_type": "stream",
     "text": [
      "Discontinuous Lagrange element requested on hexahedron, creating DQ element.\n"
     ]
    },
    {
     "name": "stderr",
     "output_type": "stream",
     "text": [
      "WARNING:UFL:Discontinuous Lagrange element requested on hexahedron, creating DQ element.\n"
     ]
    },
    {
     "name": "stdout",
     "output_type": "stream",
     "text": [
      "Discontinuous Lagrange element requested on hexahedron, creating DQ element.\n"
     ]
    },
    {
     "name": "stderr",
     "output_type": "stream",
     "text": [
      "WARNING:UFL:Discontinuous Lagrange element requested on hexahedron, creating DQ element.\n"
     ]
    },
    {
     "name": "stdout",
     "output_type": "stream",
     "text": [
      "Discontinuous Lagrange element requested on hexahedron, creating DQ element.\n"
     ]
    },
    {
     "name": "stderr",
     "output_type": "stream",
     "text": [
      "WARNING:UFL:Discontinuous Lagrange element requested on hexahedron, creating DQ element.\n"
     ]
    },
    {
     "name": "stdout",
     "output_type": "stream",
     "text": [
      "Iteration n= 24\n",
      "Time:  2.4000000000000004 [s]\n",
      "Solving Matrix viscoelasticity...\n",
      "eps trial: [0.014222414042536475, -0.027151966327768413, 0.012930476912417286]\n",
      "Initial eps:\n",
      " [0.014043206788442395, -0.027157394215592514, 0.01311510160265094]\n",
      "Predicted eps:\n",
      " [ 0.01274711 -0.0243396   0.01159341]\n",
      "Residual: \n",
      " [-1.0408340855860843e-16, -1.0408340855860843e-16, -1.0581813203458523e-16]\n",
      "Internal variable updated\n",
      "predicted fiber stretch: 1.0695417341037292\n",
      "residual fiber: 0.0\n",
      "Discontinuous Lagrange element requested on hexahedron, creating DQ element.\n"
     ]
    },
    {
     "name": "stderr",
     "output_type": "stream",
     "text": [
      "WARNING:UFL:Discontinuous Lagrange element requested on hexahedron, creating DQ element.\n"
     ]
    },
    {
     "name": "stdout",
     "output_type": "stream",
     "text": [
      "Discontinuous Lagrange element requested on hexahedron, creating DQ element.\n"
     ]
    },
    {
     "name": "stderr",
     "output_type": "stream",
     "text": [
      "WARNING:UFL:Discontinuous Lagrange element requested on hexahedron, creating DQ element.\n"
     ]
    },
    {
     "name": "stdout",
     "output_type": "stream",
     "text": [
      "Discontinuous Lagrange element requested on hexahedron, creating DQ element.\n"
     ]
    },
    {
     "name": "stderr",
     "output_type": "stream",
     "text": [
      "WARNING:UFL:Discontinuous Lagrange element requested on hexahedron, creating DQ element.\n"
     ]
    },
    {
     "name": "stdout",
     "output_type": "stream",
     "text": [
      "Discontinuous Lagrange element requested on hexahedron, creating DQ element.\n"
     ]
    },
    {
     "name": "stderr",
     "output_type": "stream",
     "text": [
      "WARNING:UFL:Discontinuous Lagrange element requested on hexahedron, creating DQ element.\n"
     ]
    },
    {
     "name": "stdout",
     "output_type": "stream",
     "text": [
      "Discontinuous Lagrange element requested on hexahedron, creating DQ element.\n"
     ]
    },
    {
     "name": "stderr",
     "output_type": "stream",
     "text": [
      "WARNING:UFL:Discontinuous Lagrange element requested on hexahedron, creating DQ element.\n"
     ]
    },
    {
     "name": "stdout",
     "output_type": "stream",
     "text": [
      "Discontinuous Lagrange element requested on hexahedron, creating DQ element.\n"
     ]
    },
    {
     "name": "stderr",
     "output_type": "stream",
     "text": [
      "WARNING:UFL:Discontinuous Lagrange element requested on hexahedron, creating DQ element.\n"
     ]
    },
    {
     "name": "stdout",
     "output_type": "stream",
     "text": [
      "Iteration n= 25\n",
      "Time:  2.5 [s]\n",
      "Solving Matrix viscoelasticity...\n",
      "eps trial: [0.012967741117507372, -0.024330362362968993, 0.011363565432889359]\n",
      "Initial eps:\n",
      " [0.012747113670122243, -0.0243395962670839, 0.011593407224146693]\n",
      "Predicted eps:\n",
      " [ 0.01162067 -0.02180747  0.01018774]\n",
      "Residual: \n",
      " [-2.654126918244515e-16, -2.706168622523819e-16, -2.5153490401663703e-16]\n",
      "Internal variable updated\n",
      "predicted fiber stretch: 1.07095579464821\n",
      "residual fiber: 0.0\n",
      "Discontinuous Lagrange element requested on hexahedron, creating DQ element.\n"
     ]
    },
    {
     "name": "stderr",
     "output_type": "stream",
     "text": [
      "WARNING:UFL:Discontinuous Lagrange element requested on hexahedron, creating DQ element.\n"
     ]
    },
    {
     "name": "stdout",
     "output_type": "stream",
     "text": [
      "Discontinuous Lagrange element requested on hexahedron, creating DQ element.\n"
     ]
    },
    {
     "name": "stderr",
     "output_type": "stream",
     "text": [
      "WARNING:UFL:Discontinuous Lagrange element requested on hexahedron, creating DQ element.\n"
     ]
    },
    {
     "name": "stdout",
     "output_type": "stream",
     "text": [
      "Discontinuous Lagrange element requested on hexahedron, creating DQ element.\n"
     ]
    },
    {
     "name": "stderr",
     "output_type": "stream",
     "text": [
      "WARNING:UFL:Discontinuous Lagrange element requested on hexahedron, creating DQ element.\n"
     ]
    },
    {
     "name": "stdout",
     "output_type": "stream",
     "text": [
      "Discontinuous Lagrange element requested on hexahedron, creating DQ element.\n"
     ]
    },
    {
     "name": "stderr",
     "output_type": "stream",
     "text": [
      "WARNING:UFL:Discontinuous Lagrange element requested on hexahedron, creating DQ element.\n"
     ]
    },
    {
     "name": "stdout",
     "output_type": "stream",
     "text": [
      "Discontinuous Lagrange element requested on hexahedron, creating DQ element.\n"
     ]
    },
    {
     "name": "stderr",
     "output_type": "stream",
     "text": [
      "WARNING:UFL:Discontinuous Lagrange element requested on hexahedron, creating DQ element.\n"
     ]
    },
    {
     "name": "stdout",
     "output_type": "stream",
     "text": [
      "Discontinuous Lagrange element requested on hexahedron, creating DQ element.\n"
     ]
    },
    {
     "name": "stderr",
     "output_type": "stream",
     "text": [
      "WARNING:UFL:Discontinuous Lagrange element requested on hexahedron, creating DQ element.\n"
     ]
    },
    {
     "name": "stdout",
     "output_type": "stream",
     "text": [
      "Iteration n= 26\n",
      "Time:  2.6 [s]\n",
      "Solving Matrix viscoelasticity...\n",
      "eps trial: [0.011890433166605603, -0.0217918420093615, 0.009902384311949812]\n",
      "Initial eps:\n",
      " [0.011620668998210338, -0.021807469040264944, 0.010187744229481554]\n",
      "Predicted eps:\n",
      " [ 0.01065357 -0.01952991  0.00887732]\n",
      "Residual: \n",
      " [1.3530843112619095e-16, 1.491862189340054e-16, 1.491862189340054e-16]\n",
      "Internal variable updated\n",
      "predicted fiber stretch: 1.0722879442335023\n",
      "residual fiber: 2.220446049250313e-16\n",
      "Discontinuous Lagrange element requested on hexahedron, creating DQ element.\n"
     ]
    },
    {
     "name": "stderr",
     "output_type": "stream",
     "text": [
      "WARNING:UFL:Discontinuous Lagrange element requested on hexahedron, creating DQ element.\n"
     ]
    },
    {
     "name": "stdout",
     "output_type": "stream",
     "text": [
      "Discontinuous Lagrange element requested on hexahedron, creating DQ element.\n"
     ]
    },
    {
     "name": "stderr",
     "output_type": "stream",
     "text": [
      "WARNING:UFL:Discontinuous Lagrange element requested on hexahedron, creating DQ element.\n"
     ]
    },
    {
     "name": "stdout",
     "output_type": "stream",
     "text": [
      "Discontinuous Lagrange element requested on hexahedron, creating DQ element.\n"
     ]
    },
    {
     "name": "stderr",
     "output_type": "stream",
     "text": [
      "WARNING:UFL:Discontinuous Lagrange element requested on hexahedron, creating DQ element.\n"
     ]
    },
    {
     "name": "stdout",
     "output_type": "stream",
     "text": [
      "Discontinuous Lagrange element requested on hexahedron, creating DQ element.\n"
     ]
    },
    {
     "name": "stderr",
     "output_type": "stream",
     "text": [
      "WARNING:UFL:Discontinuous Lagrange element requested on hexahedron, creating DQ element.\n"
     ]
    },
    {
     "name": "stdout",
     "output_type": "stream",
     "text": [
      "Discontinuous Lagrange element requested on hexahedron, creating DQ element.\n"
     ]
    },
    {
     "name": "stderr",
     "output_type": "stream",
     "text": [
      "WARNING:UFL:Discontinuous Lagrange element requested on hexahedron, creating DQ element.\n"
     ]
    },
    {
     "name": "stdout",
     "output_type": "stream",
     "text": [
      "Discontinuous Lagrange element requested on hexahedron, creating DQ element.\n"
     ]
    },
    {
     "name": "stderr",
     "output_type": "stream",
     "text": [
      "WARNING:UFL:Discontinuous Lagrange element requested on hexahedron, creating DQ element.\n"
     ]
    },
    {
     "name": "stdout",
     "output_type": "stream",
     "text": [
      "Iteration n= 27\n",
      "Time:  2.7 [s]\n",
      "Solving Matrix viscoelasticity...\n",
      "eps trial: [0.010979714892354697, -0.01950374168099794, 0.008525047768381644]\n",
      "Initial eps:\n",
      " [0.010653568640519211, -0.019529912231220418, 0.008877319059895555]\n",
      "Predicted eps:\n",
      " [ 0.00983606 -0.01747746  0.00764242]\n",
      "Residual: \n",
      " [2.3401419690927128e-15, 2.39044894989604e-15, 2.400857290751901e-15]\n",
      "Internal variable updated\n",
      "predicted fiber stretch: 1.073545071712117\n",
      "residual fiber: 0.0\n",
      "Discontinuous Lagrange element requested on hexahedron, creating DQ element.\n"
     ]
    },
    {
     "name": "stderr",
     "output_type": "stream",
     "text": [
      "WARNING:UFL:Discontinuous Lagrange element requested on hexahedron, creating DQ element.\n"
     ]
    },
    {
     "name": "stdout",
     "output_type": "stream",
     "text": [
      "Discontinuous Lagrange element requested on hexahedron, creating DQ element.\n"
     ]
    },
    {
     "name": "stderr",
     "output_type": "stream",
     "text": [
      "WARNING:UFL:Discontinuous Lagrange element requested on hexahedron, creating DQ element.\n"
     ]
    },
    {
     "name": "stdout",
     "output_type": "stream",
     "text": [
      "Discontinuous Lagrange element requested on hexahedron, creating DQ element.\n"
     ]
    },
    {
     "name": "stderr",
     "output_type": "stream",
     "text": [
      "WARNING:UFL:Discontinuous Lagrange element requested on hexahedron, creating DQ element.\n"
     ]
    },
    {
     "name": "stdout",
     "output_type": "stream",
     "text": [
      "Discontinuous Lagrange element requested on hexahedron, creating DQ element.\n"
     ]
    },
    {
     "name": "stderr",
     "output_type": "stream",
     "text": [
      "WARNING:UFL:Discontinuous Lagrange element requested on hexahedron, creating DQ element.\n"
     ]
    },
    {
     "name": "stdout",
     "output_type": "stream",
     "text": [
      "Discontinuous Lagrange element requested on hexahedron, creating DQ element.\n"
     ]
    },
    {
     "name": "stderr",
     "output_type": "stream",
     "text": [
      "WARNING:UFL:Discontinuous Lagrange element requested on hexahedron, creating DQ element.\n"
     ]
    },
    {
     "name": "stdout",
     "output_type": "stream",
     "text": [
      "Discontinuous Lagrange element requested on hexahedron, creating DQ element.\n"
     ]
    },
    {
     "name": "stderr",
     "output_type": "stream",
     "text": [
      "WARNING:UFL:Discontinuous Lagrange element requested on hexahedron, creating DQ element.\n"
     ]
    },
    {
     "name": "stdout",
     "output_type": "stream",
     "text": [
      "Iteration n= 28\n",
      "Time:  2.8000000000000003 [s]\n",
      "Solving Matrix viscoelasticity...\n",
      "eps trial: [0.010222472468089931, -0.017434515621405168, 0.0072131262534707585]\n",
      "Initial eps:\n",
      " [0.009836057464969367, -0.017477458768236424, 0.0076424222830125885]\n",
      "Predicted eps:\n",
      " [ 0.00915631 -0.01562168  0.00646645]\n",
      "Residual: \n",
      " [8.625045122556685e-15, 8.722189637211386e-15, 8.761220915420864e-15]\n",
      "Internal variable updated\n",
      "predicted fiber stretch: 1.0747332034561556\n",
      "residual fiber: -4.549693954913892e-13\n",
      "Discontinuous Lagrange element requested on hexahedron, creating DQ element.\n"
     ]
    },
    {
     "name": "stderr",
     "output_type": "stream",
     "text": [
      "WARNING:UFL:Discontinuous Lagrange element requested on hexahedron, creating DQ element.\n"
     ]
    },
    {
     "name": "stdout",
     "output_type": "stream",
     "text": [
      "Discontinuous Lagrange element requested on hexahedron, creating DQ element.\n"
     ]
    },
    {
     "name": "stderr",
     "output_type": "stream",
     "text": [
      "WARNING:UFL:Discontinuous Lagrange element requested on hexahedron, creating DQ element.\n"
     ]
    },
    {
     "name": "stdout",
     "output_type": "stream",
     "text": [
      "Discontinuous Lagrange element requested on hexahedron, creating DQ element.\n"
     ]
    },
    {
     "name": "stderr",
     "output_type": "stream",
     "text": [
      "WARNING:UFL:Discontinuous Lagrange element requested on hexahedron, creating DQ element.\n"
     ]
    },
    {
     "name": "stdout",
     "output_type": "stream",
     "text": [
      "Discontinuous Lagrange element requested on hexahedron, creating DQ element.\n"
     ]
    },
    {
     "name": "stderr",
     "output_type": "stream",
     "text": [
      "WARNING:UFL:Discontinuous Lagrange element requested on hexahedron, creating DQ element.\n"
     ]
    },
    {
     "name": "stdout",
     "output_type": "stream",
     "text": [
      "Discontinuous Lagrange element requested on hexahedron, creating DQ element.\n"
     ]
    },
    {
     "name": "stderr",
     "output_type": "stream",
     "text": [
      "WARNING:UFL:Discontinuous Lagrange element requested on hexahedron, creating DQ element.\n"
     ]
    },
    {
     "name": "stdout",
     "output_type": "stream",
     "text": [
      "Discontinuous Lagrange element requested on hexahedron, creating DQ element.\n"
     ]
    },
    {
     "name": "stderr",
     "output_type": "stream",
     "text": [
      "WARNING:UFL:Discontinuous Lagrange element requested on hexahedron, creating DQ element.\n"
     ]
    },
    {
     "name": "stdout",
     "output_type": "stream",
     "text": [
      "Iteration n= 29\n",
      "Time:  2.9000000000000004 [s]\n",
      "Solving Matrix viscoelasticity...\n",
      "eps trial: [0.009598881253329515, -0.015553797817979172, 0.005956077820226831]\n",
      "Initial eps:\n",
      " [0.009156312071760634, -0.01562168173734458, 0.006466452765765577]\n",
      "Predicted eps:\n",
      " [ 0.00859653 -0.01393524  0.00533988]\n",
      "Residual: \n",
      " [1.834123131150278e-14, 1.8571949533807697e-14, 1.861878706765907e-14]\n",
      "Internal variable updated\n",
      "predicted fiber stretch: 1.0758576477892778\n",
      "residual fiber: -3.077538224260934e-13\n",
      "Discontinuous Lagrange element requested on hexahedron, creating DQ element.\n"
     ]
    },
    {
     "name": "stderr",
     "output_type": "stream",
     "text": [
      "WARNING:UFL:Discontinuous Lagrange element requested on hexahedron, creating DQ element.\n"
     ]
    },
    {
     "name": "stdout",
     "output_type": "stream",
     "text": [
      "Discontinuous Lagrange element requested on hexahedron, creating DQ element.\n"
     ]
    },
    {
     "name": "stderr",
     "output_type": "stream",
     "text": [
      "WARNING:UFL:Discontinuous Lagrange element requested on hexahedron, creating DQ element.\n"
     ]
    },
    {
     "name": "stdout",
     "output_type": "stream",
     "text": [
      "Discontinuous Lagrange element requested on hexahedron, creating DQ element.\n"
     ]
    },
    {
     "name": "stderr",
     "output_type": "stream",
     "text": [
      "WARNING:UFL:Discontinuous Lagrange element requested on hexahedron, creating DQ element.\n"
     ]
    },
    {
     "name": "stdout",
     "output_type": "stream",
     "text": [
      "Discontinuous Lagrange element requested on hexahedron, creating DQ element.\n"
     ]
    },
    {
     "name": "stderr",
     "output_type": "stream",
     "text": [
      "WARNING:UFL:Discontinuous Lagrange element requested on hexahedron, creating DQ element.\n"
     ]
    },
    {
     "name": "stdout",
     "output_type": "stream",
     "text": [
      "Discontinuous Lagrange element requested on hexahedron, creating DQ element.\n"
     ]
    },
    {
     "name": "stderr",
     "output_type": "stream",
     "text": [
      "WARNING:UFL:Discontinuous Lagrange element requested on hexahedron, creating DQ element.\n"
     ]
    },
    {
     "name": "stdout",
     "output_type": "stream",
     "text": [
      "Discontinuous Lagrange element requested on hexahedron, creating DQ element.\n"
     ]
    },
    {
     "name": "stderr",
     "output_type": "stream",
     "text": [
      "WARNING:UFL:Discontinuous Lagrange element requested on hexahedron, creating DQ element.\n"
     ]
    },
    {
     "name": "stdout",
     "output_type": "stream",
     "text": [
      "Iteration n= 30\n",
      "Time:  3.0 [s]\n",
      "Solving Matrix viscoelasticity...\n",
      "eps trial: [0.009076533600891314, -0.013834556400617759, 0.004759270688572469]\n",
      "Initial eps:\n",
      " [0.008596527080789267, -0.013935244939418995, 0.005339879114262433]\n",
      "Predicted eps:\n",
      " [ 0.00812766 -0.01239383  0.00426742]\n",
      "Residual: \n",
      " [2.037953139577553e-14, 2.0566881531181025e-14, 2.0598106553748607e-14]\n",
      "Internal variable updated\n",
      "predicted fiber stretch: 1.076923110022705\n",
      "residual fiber: -2.1049828546892968e-13\n",
      "Discontinuous Lagrange element requested on hexahedron, creating DQ element.\n"
     ]
    },
    {
     "name": "stderr",
     "output_type": "stream",
     "text": [
      "WARNING:UFL:Discontinuous Lagrange element requested on hexahedron, creating DQ element.\n"
     ]
    },
    {
     "name": "stdout",
     "output_type": "stream",
     "text": [
      "Discontinuous Lagrange element requested on hexahedron, creating DQ element.\n"
     ]
    },
    {
     "name": "stderr",
     "output_type": "stream",
     "text": [
      "WARNING:UFL:Discontinuous Lagrange element requested on hexahedron, creating DQ element.\n"
     ]
    },
    {
     "name": "stdout",
     "output_type": "stream",
     "text": [
      "Discontinuous Lagrange element requested on hexahedron, creating DQ element.\n"
     ]
    },
    {
     "name": "stderr",
     "output_type": "stream",
     "text": [
      "WARNING:UFL:Discontinuous Lagrange element requested on hexahedron, creating DQ element.\n"
     ]
    },
    {
     "name": "stdout",
     "output_type": "stream",
     "text": [
      "Discontinuous Lagrange element requested on hexahedron, creating DQ element.\n"
     ]
    },
    {
     "name": "stderr",
     "output_type": "stream",
     "text": [
      "WARNING:UFL:Discontinuous Lagrange element requested on hexahedron, creating DQ element.\n"
     ]
    },
    {
     "name": "stdout",
     "output_type": "stream",
     "text": [
      "Discontinuous Lagrange element requested on hexahedron, creating DQ element.\n"
     ]
    },
    {
     "name": "stderr",
     "output_type": "stream",
     "text": [
      "WARNING:UFL:Discontinuous Lagrange element requested on hexahedron, creating DQ element.\n"
     ]
    },
    {
     "name": "stdout",
     "output_type": "stream",
     "text": [
      "Discontinuous Lagrange element requested on hexahedron, creating DQ element.\n"
     ]
    },
    {
     "name": "stderr",
     "output_type": "stream",
     "text": [
      "WARNING:UFL:Discontinuous Lagrange element requested on hexahedron, creating DQ element.\n"
     ]
    },
    {
     "name": "stdout",
     "output_type": "stream",
     "text": [
      "------------------------------------\n",
      "Elapsed real time:  0:01:09.292411\n",
      "------------------------------------\n"
     ]
    }
   ],
   "source": [
    "## Simulation\n",
    "startTime = datetime.now()\n",
    "\n",
    "print(\"------------------------------------\")\n",
    "print(\"Simulation Start\")\n",
    "print(\"------------------------------------\")\n",
    "\n",
    "# ---------------------------------------------------- #\n",
    "for i, d in enumerate(Time):\n",
    "\n",
    "    print(\"Iteration n=\", i)\n",
    "    print(\"Time: \",d,\"[s]\") # [s]\n",
    "\n",
    "    # ~~~~~~ Relaxation control ~~~~~~ #\n",
    "    if Time[i] <= 1:\n",
    "        disp.value  = d_rate*d\n",
    "    else:\n",
    "        disp.value  = d_rate*Time[i-j]\n",
    "        j += 1\n",
    "\n",
    "\n",
    "    # ~~~~~~ Solve FEM ~~~~~~ #\n",
    "    solver.solve(u)\n",
    "\n",
    "    disp_v[i] = PythonValue(mesh,u,pt)[0]\n",
    "\n",
    "    # ~~~~~~ Matrix internal variable update ~~~~~~ #\n",
    "    eps = [eps1e, eps2e, eps3e] \n",
    "\n",
    "    lamMe , nxn, epsi  = MatrixEvolution(F,invCMv,eps) # [λᵐₐ]ₙ , [(λᵐₐ)²]ₙ , [𝜏ₐ]ₙ , [ln(λᵐₐₑ)]ₙ\n",
    "\n",
    "    ## Principal stretches\n",
    "    lamM1e = lamMe[0] # [λᵐ₁ₑ]ₙ\n",
    "    lamM2e = lamMe[1] # [λᵐ₂ₑ]ₙ\n",
    "    lamM3e = lamMe[2] # [λᵐ₃ₑ]ₙ\n",
    "        \n",
    "    eps1e = epsi[0]\n",
    "    eps2e = epsi[1]\n",
    "    eps3e = epsi[2]\n",
    "    \n",
    "    ## Left Cauchy-Green strain [bᵐₑ]ₙ = Σ(λᵐₐ)²nₐ⊗nₐ\n",
    "    bM_e  = lamM1e**2*nxn[0] +\\\n",
    "            lamM2e**2*nxn[1] +\\\n",
    "            lamM3e**2*nxn[2]\n",
    "    project(bM_e,bMe) # bM_e -> bMe\n",
    "\n",
    "    ## [(Cᵐᵥ)⁻¹]ₙ = [F⁻¹]ₙ[bᵐₑ]ₙ[F⁻ᵀ]ₙ\n",
    "    inv_CMv = inv(F)*bMe*inv(F.T)\n",
    "    project(inv_CMv,invCMv) # inv_CMv -> invCMv\n",
    "\n",
    "    Ie  = inner(C,invCMv)\n",
    "    Ie_ = inner(C_,invCMv)\n",
    "\n",
    "\n",
    "    # ~~~~~~ Fiber internal variable update ~~~~~~ #\n",
    "    # uso lamF_v  = [λᶠᵥ]ₙ₋₁ initial guest\n",
    "    \n",
    "    # Fiber viscous stretch\n",
    "    lamF_v = FiberEvolution(F,lamFv)\n",
    "    project(lamF_v,lamFv) # lamF_v -> lamFv\n",
    " \n",
    "    # Pseudo-invariants\n",
    "    I4      = inner(C,A0)\n",
    "    I4v     = lamFv**2\n",
    "    I4_     = J**(-2/3)*I4\n",
    "    I4_e_   = I4_/I4v\n",
    "    project(I4_e_,I4e_) # I4_e_ -> I4e_\n",
    "\n",
    "    # ~~~ Cauchy Stress for analysis ~~~ #\n",
    "    SIG_v[i]    = PythonValue(mesh,inv(J)*F*PiolaKirchhoff2*F.T,pt)[0][0]\n",
    "    SIGeq_v[i]  = PythonValue(mesh,inv(J)*F*(sMeq  + sVol + sFeq)*F.T,pt)[0][0]\n",
    "    SIGneq_v[i] = PythonValue(mesh,inv(J)*F*(sMneq + sFneq)*F.T,pt)[0][0]\n",
    "    \n",
    "    # Pseudo-invariants\n",
    "    I4      = inner(C,A0)\n",
    "    I4v     = lamFv**2\n",
    "    I4_     = J**(-2/3)*I4\n",
    "    I4_e_   = I4_/I4v\n",
    "    project(I4_e_,I4e_) # I4_e_ -> I4e_\n",
    "\n",
    "    # ~~~ Cauchy Stress for analysis ~~~ #\n",
    "    SIG_v[i]    = PythonValue(mesh,inv(J)*F*PiolaKirchhoff2*F.T,pt)[0][0]\n",
    "    SIGeq_v[i]  = PythonValue(mesh,inv(J)*F*(sMeq  + sVol + sFeq)*F.T,pt)[0][0]\n",
    "    SIGneq_v[i] = PythonValue(mesh,inv(J)*F*(sMneq + sFneq)*F.T,pt)[0][0]\n",
    "\n",
    "    # ~~~ Cauchy Stress for analysis ~~~ #\n",
    "    invariants[i,0] = PythonValue(mesh,tr(C_),pt) # I1 iso\n",
    "    invariants[i,1] = PythonValue(mesh,Ie_,pt)    # Ie iso\n",
    "    invariants[i,2] = PythonValue(mesh,I4_,pt)    # I4 iso\n",
    "    invariants[i,3] = PythonValue(mesh,I4e_,pt)   # I4e iso\n",
    "\n",
    "    # ~~~ Save values of current displacement ~~~ #\n",
    "    u_old.x.array[:] = u.x.array\n",
    "# ---------------------------------------------------- #\n",
    "\n",
    "endTime = datetime.now()\n",
    "elapseTime = endTime - startTime\n",
    "print(\"------------------------------------\")\n",
    "print(\"Elapsed real time:  {}\".format(elapseTime))\n",
    "print(\"------------------------------------\")\n"
   ]
  },
  {
   "cell_type": "code",
   "execution_count": 21,
   "metadata": {},
   "outputs": [
    {
     "data": {
      "image/png": "[encoded data removed]",
      "text/plain": [
       "<Figure size 800x600 with 1 Axes>"
      ]
     },
     "metadata": {},
     "output_type": "display_data"
    }
   ],
   "source": [
    "## STRETCH EVOLUTION\n",
    "f = plt.figure(figsize=(8,6))\n",
    "plt.plot(Time,  disp_v,'b-',label='FEniCS')\n",
    "\n",
    "plt.xlabel('Time [s]')\n",
    "plt.ylabel('Displacement [mm]')\n",
    "plt.legend()\n",
    "plt.show()"
   ]
  },
  {
   "cell_type": "code",
   "execution_count": 22,
   "metadata": {},
   "outputs": [
    {
     "data": {
      "image/png": "[encoded data removed]",
      "text/plain": [
       "<Figure size 800x600 with 1 Axes>"
      ]
     },
     "metadata": {},
     "output_type": "display_data"
    }
   ],
   "source": [
    "## Stresses\n",
    "f = plt.figure(figsize=(8,6))\n",
    "\n",
    "## FEniCSx\n",
    "plt.plot(Time, SIG_v,'ro',label='Numerical $\\sigma_{xx}$')\n",
    "plt.plot(Time, SIGeq_v,'bo',label='Numerical $\\sigma^{eq}_{xx}$')\n",
    "plt.plot(Time, SIGneq_v,'go',label='Numerical $\\sigma^{neq}_{xx}$')\n",
    "\n",
    "## Liu et al.(2019)\n",
    "LiuStress = np.loadtxt(\"data/stress.txt\")\n",
    "\n",
    "plt.plot(LiuStress[:,0], LiuStress[:,1],'b-',label='Elastic (Liu)')\n",
    "plt.plot(LiuStress[:,0], LiuStress[:,2],'g-',label='Viscous (Liu)')\n",
    "plt.plot(LiuStress[:,0], LiuStress[:,3],'r-',label='Viscoelast (Liu)')\n",
    "\n",
    "plt.axhline(y=1.2808, color='0.8', linestyle='--', label = 'Equilibrium') \n",
    "plt.axhline(y=0.9293, color='0.8', linestyle='--')\n",
    "plt.axvline(x = 1, color = '0.8') # Line y = 0\n",
    "\n",
    "plt.xlabel('Time [s]')\n",
    "plt.ylabel('Cauchy stress [kpa]')\n",
    "plt.title('Relaxation')\n",
    "plt.legend()\n",
    "plt.axis([0, 8, 0, 2.5])\n",
    "plt.show()"
   ]
  },
  {
   "cell_type": "code",
   "execution_count": 23,
   "metadata": {},
   "outputs": [
    {
     "data": {
      "text/plain": [
       "Text(0.5, 1.0, 'I4e iso')"
      ]
     },
     "execution_count": 23,
     "metadata": {},
     "output_type": "execute_result"
    },
    {
     "data": {
      "image/png": "[encoded data removed]",
      "text/plain": [
       "<Figure size 800x600 with 4 Axes>"
      ]
     },
     "metadata": {},
     "output_type": "display_data"
    }
   ],
   "source": [
    "## Invariants\n",
    "\n",
    "invariantsInfo = np.loadtxt(\"data/invariants.txt\")\n",
    "Time0  = invariantsInfo[:,0]\n",
    "I1iso  = invariantsInfo[:,1]\n",
    "Ieiso  = invariantsInfo[:,2]\n",
    "I4iso  = invariantsInfo[:,3]\n",
    "I4eiso = invariantsInfo[:,4]\n",
    "\n",
    "fig, ((ax1, ax2), (ax3, ax4)) = plt.subplots(2, 2, sharex=True,figsize=(8,6))\n",
    "ax1.plot(Time0, I1iso)\n",
    "ax1.plot(Time, invariants[:,0])\n",
    "ax1.axis([0, 5, 3, 3.15])\n",
    "ax1.set_title('I1 iso')\n",
    "\n",
    "ax2.plot(Time0, Ieiso)\n",
    "ax2.plot(Time, invariants[:,1])\n",
    "ax2.axis([0, 5, 3, 3.05])\n",
    "ax2.set_title('Ie iso')\n",
    "\n",
    "ax3.plot(Time0, I4iso)\n",
    "ax3.plot(Time, invariants[:,2])\n",
    "ax3.axis([0, 5, 1, 1.3])\n",
    "ax3.set_title('I4 iso')\n",
    "\n",
    "ax4.plot(Time0, I4eiso)\n",
    "ax4.plot(Time, invariants[:,3])\n",
    "ax4.axis([0, 5, 1, 1.2])\n",
    "ax4.set_title('I4e iso')"
   ]
  }
 ],
 "metadata": {
  "kernelspec": {
   "display_name": "Python 3 (ipykernel)",
   "language": "python",
   "name": "python3"
  },
  "language_info": {
   "codemirror_mode": {
    "name": "ipython",
    "version": 3
   },
   "file_extension": ".py",
   "mimetype": "text/x-python",
   "name": "python",
   "nbconvert_exporter": "python",
   "pygments_lexer": "ipython3",
   "version": "3.10.8"
  },
  "orig_nbformat": 4
 },
 "nbformat": 4,
 "nbformat_minor": 2
}
