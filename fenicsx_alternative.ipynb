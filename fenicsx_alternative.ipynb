{
 "cells": [
  {
   "cell_type": "code",
   "execution_count": 1,
   "metadata": {},
   "outputs": [],
   "source": [
    "## Readme\n",
    "\n",
    "# This is an implementation of Liu et al. (2018)\n",
    "# - https://www.sciencedirect.com/science/article/abs/pii/S0022509618303223\n",
    "\n",
    "# , but solving for matrix viscoelasticity using the method of Reese and Govindjee. \n",
    "# - https://www.sciencedirect.com/science/article/abs/pii/S0020768397002175\n",
    "\n",
    "# In the case of fibers viscoelasticity, i used a linear ODE as in:\n",
    "# - https://www.sciencedirect.com/science/article/pii/S0020768307002582 \n",
    "# or\n",
    "# - https://www.sciencedirect.com/science/article/abs/pii/S0045782506003045\n",
    "\n",
    "# The difference with the results of the paper is mainly in the fiber response."
   ]
  },
  {
   "cell_type": "code",
   "execution_count": 2,
   "metadata": {},
   "outputs": [
    {
     "name": "stderr",
     "output_type": "stream",
     "text": [
      "WARNING:py.warnings:/tmp/ipykernel_13448/1404214611.py:26: TqdmExperimentalWarning: Using `tqdm.autonotebook.tqdm` in notebook mode. Use `tqdm.tqdm` instead to force console mode (e.g. in jupyter console)\n",
      "  import tqdm.autonotebook\n",
      "\n"
     ]
    }
   ],
   "source": [
    "## Packages\n",
    "from dolfinx.mesh import (create_box, CellType,\n",
    "                          locate_entities_boundary, meshtags)\n",
    "from dolfinx.fem import (FunctionSpace, TensorFunctionSpace,\n",
    "                         VectorFunctionSpace, Function, dirichletbc,\n",
    "                         locate_dofs_topological, Constant)\n",
    "from ufl import (FiniteElement, VectorElement, TensorElement,\n",
    "                 MixedElement, TestFunction, TrialFunction,\n",
    "                 split, SpatialCoordinate, Measure,\n",
    "                 Identity, grad, det, inv, tr, exp, ln, inner,\n",
    "                 dot, as_tensor, as_vector, derivative,\n",
    "                 sin, cos, outer, variable, transpose, shape,\n",
    "                 sym, sqrt)\n",
    "\n",
    "from dolfinx.fem.petsc import NonlinearProblem\n",
    "from dolfinx.nls.petsc import NewtonSolver\n",
    "from petsc4py.PETSc import ScalarType \n",
    "from dolfinx.geometry import (BoundingBoxTree,\n",
    "                              compute_colliding_cells, \n",
    "                              compute_collisions)\n",
    "from mpi4py import MPI\n",
    "\n",
    "import numpy as np\n",
    "import matplotlib.pyplot as plt\n",
    "from datetime import datetime\n",
    "import tqdm.autonotebook"
   ]
  },
  {
   "cell_type": "code",
   "execution_count": 3,
   "metadata": {},
   "outputs": [],
   "source": [
    "## Useful functions\n",
    "\n",
    "def project(v, target_func, bcs=[]):\n",
    "    '''\n",
    "    This function is from dolfiny package\n",
    "    '''\n",
    "    from ufl import (dx, TestFunction, TrialFunction, inner)\n",
    "    from dolfinx.fem import (form, assemble)\n",
    "    from dolfinx.fem.petsc import (assemble_matrix, assemble_vector, apply_lifting,\n",
    "                                   set_bc)\n",
    "    from petsc4py import PETSc\n",
    "    \n",
    "    # Ensure we have a mesh and attach to measure\n",
    "    V = target_func.function_space\n",
    "    \n",
    "    metadata = {\"quadrature_degree\": 2} \n",
    "    \n",
    "    dx = dx(V.mesh, metadata=metadata)\n",
    "\n",
    "    # Define variational problem for projection\n",
    "    w  = TestFunction(V)\n",
    "    Pv = TrialFunction(V)\n",
    "    a  = form(inner(Pv, w) * dx)\n",
    "    L  = form(inner(v, w) * dx)\n",
    "\n",
    "    # Assemble linear system\n",
    "    A = assemble_matrix(a, bcs)\n",
    "    A.assemble()\n",
    "    b = assemble_vector(L)\n",
    "    apply_lifting(b, [a], [bcs])\n",
    "    b.ghostUpdate(addv=PETSc.InsertMode.ADD, mode=PETSc.ScatterMode.REVERSE)\n",
    "    set_bc(b, bcs)\n",
    "\n",
    "    # Solve linear system\n",
    "    solver = PETSc.KSP().create(A.getComm())\n",
    "    solver.setOperators(A)\n",
    "    solver.solve(b, target_func.vector)\n",
    "    \n",
    "def plot_mesh(mesh):\n",
    "    '''\n",
    "    To plot mesh\n",
    "    '''\n",
    "    \n",
    "    from dolfinx.plot import create_vtk_mesh\n",
    "    \n",
    "    try:\n",
    "        import pyvista\n",
    "    except ModuleNotFoundError:\n",
    "        print(\"pyvista is required for this demo\")\n",
    "        exit(0)\n",
    "\n",
    "    if pyvista.OFF_SCREEN:\n",
    "        pyvista.start_xvfb(wait=0.1)\n",
    "        \n",
    "    # Extract mesh data from dolfin-X (only plot cells owned by the\n",
    "    # processor) and create a pyvista UnstructuredGrid\n",
    "    num_cells = mesh.topology.index_map(mesh.topology.dim).size_local\n",
    "    cell_entities = np.arange(num_cells, dtype=np.int32)\n",
    "    pyvista_cells = create_vtk_mesh(\n",
    "        mesh, mesh.topology.dim, cell_entities)\n",
    "    grid = pyvista.UnstructuredGrid(pyvista_cells[0],pyvista_cells[1], mesh.geometry.x)\n",
    "\n",
    "    plotter = pyvista.Plotter()\n",
    "    plotter.add_mesh(grid, style=\"wireframe\", line_width=2, color=\"black\")\n",
    "    #plotter.view_xy()\n",
    "    # Save as png if we are using a container with no rendering\n",
    "    if pyvista.OFF_SCREEN:\n",
    "        plotter.screenshot(\"tmp.png\")\n",
    "    else:\n",
    "        plotter.show()    \n",
    "    ## -----------------------------------------------        \n",
    "        \n",
    "def EVAL(mesh,FUNCT,point):\n",
    "    '''\n",
    "    To evaluate a function at a point\n",
    "    \n",
    "    FUNCT : Function\n",
    "    point : point in the body\n",
    "    '''\n",
    "    \n",
    "    # select a point in the mesh in the border between the two processes\n",
    "    if len(point) == 2:\n",
    "        rand_global_point = [point[0], point[1], 0.] \n",
    "    elif len(point) == 3:\n",
    "        rand_global_point = [point[0], point[1], point[2]] \n",
    "\n",
    "        \n",
    "    # get bbt for the mesh\n",
    "    mesh_bbt = BoundingBoxTree(mesh, mesh.topology.dim)\n",
    "\n",
    "    # convert point in array with one element\n",
    "    points_list_array = np.array([rand_global_point])\n",
    "    # for each point, compute a colliding cells and append to the lists\n",
    "    points_on_proc = []\n",
    "    cells = []\n",
    "    cell_candidates = compute_collisions(mesh_bbt, points_list_array)  # get candidates\n",
    "    colliding_cells = compute_colliding_cells(mesh, cell_candidates, points_list_array)  # get actual\n",
    "    for i, point in enumerate(points_list_array):\n",
    "        if len(colliding_cells.links(i)) > 0:\n",
    "            cc = colliding_cells.links(i)[0]\n",
    "            points_on_proc.append(point)\n",
    "            cells.append(cc)\n",
    "    # convert to numpy array\n",
    "    points_on_proc = np.array(points_on_proc)\n",
    "    cells = np.array(cells)\n",
    "    \n",
    "    return FUNCT.eval(points_on_proc, cells)\n",
    "    ## -----------------------------------------------\n",
    "\n",
    "def assign(mesh, A, FUNCT):\n",
    "    '''\n",
    "    To assign values from a tuple\n",
    "    \n",
    "    FUNCT: Function\n",
    "    A    : must be a tuple. For example:\n",
    "    \n",
    "    scalar \"2.0\"                    values =   2.0 \n",
    "    vector \"(1.0,2.0)\"              values =  (1.0,2.0)       \n",
    "    tensor \"[(1.0,2.0),(3.0,4.0)]\"  values =  (1.0,...,4.0)     \n",
    "    '''\n",
    " \n",
    "    values_ = Constant(mesh, ScalarType(A))  \n",
    "    \n",
    "    return project(values_, FUNCT)\n",
    "    ## -----------------------------------------------\n",
    "\n",
    "def Value(mesh,A,point):\n",
    "    '''\n",
    "    To convert \"fenicsx values\" to \"normal values\"\n",
    "    \n",
    "    A    : scalar, vector, or tensor (ufl)\n",
    "    point: coordinates at which the field is calculated (tuple)\n",
    "    '''\n",
    "    from dolfinx.fem import (FunctionSpace, TensorFunctionSpace,\n",
    "                              VectorFunctionSpace, Function)\n",
    "    from ufl import (FiniteElement, shape)\n",
    "    \n",
    "\n",
    "    if shape(A) == (2,) or shape(A) == (3,):\n",
    "        fspace    = VectorFunctionSpace(mesh, (\"CG\",1))\n",
    "        B         = Function(fspace)\n",
    "        project(A, B) # A -> B (Coeficcient)\n",
    "        return EVAL(mesh,B,point)\n",
    "        \n",
    "    elif shape(A) == (2,2) or shape(A) == (3,3):\n",
    "        fspace    = TensorFunctionSpace(mesh, (\"DG\",1))\n",
    "        B         = Function(fspace)\n",
    "        project(A, B) # A -> B (Coeficcient)\n",
    "        dim = shape(A)[0]\n",
    "        return np.reshape(EVAL(mesh,B,point),[dim,dim])\n",
    "    else:\n",
    "        element   = FiniteElement(\"CG\", mesh.ufl_cell(), 1)\n",
    "        fspace    = FunctionSpace(mesh, element) \n",
    "        B         = Function(fspace)\n",
    "        # when A is not coefficient\n",
    "        if type(A) != type(B):\n",
    "            project(A, B) # A -> B (Coeficcient)\n",
    "            return EVAL(mesh,B,point)[0]\n",
    "        # when A is already a Coefficient class:\n",
    "        else: \n",
    "            return EVAL(mesh,A,point)[0]\n",
    "    ## -----------------------------------------------\n",
    "    \n",
    "def eigenValues(T, tol=1e-9):\n",
    "    dim=T.geometric_dimension()                                                 # get geometric dimension of tensor T to decide which subroutine to use for eigenvalue computations\n",
    "\n",
    "    # choose projection tensor routine based on dimensionality of problem\n",
    "    if dim == 2:                                                                # 2D-problem\n",
    "        return _eigVal2D(T,tol)\n",
    "    else:                                                                       # 3D-problem\n",
    "        return _eigVal3D(T,tol)\n",
    "\n",
    "def _eigVal3D(T, tol):                                                           # dolfin module\n",
    "    from ufl import (tr, inner, det, conditional, sign, lt,\n",
    "                     atan_2, sqrt, cos, sin)                                                                      # ufl module\n",
    "    import numpy as np                                                              # numpy\n",
    "    import copy as cp \n",
    "\n",
    "    # determine perturbation from tolerance\n",
    "    pert = 2*tol\n",
    "\n",
    "    # get required invariants\n",
    "    I1 = tr(T)                                                               # trace of tensor\n",
    "    I2 = 0.5*(tr(T)**2-inner(T,T))                                        # 2nd invariant of tensor\n",
    "    I3 = det(T)                                                              # determinant of tensor\n",
    "\n",
    "    p = I1**2 - 3*I2                                                            # preliminary value for p\n",
    "    p = conditional(lt(p,tol),abs(p)+pert,p)                            # add numerical perturbation to p, if close to zero; ensure positiveness of p\n",
    "    q = 27/2*I3 + I1**3 - 9/2*I1*I2                                             # preliminary value for q\n",
    "    q = conditional(lt(abs(q),tol),q+sign(q)*pert,q)                # add numerical perturbation (with sign) to value of q, if close to zero\n",
    "\n",
    "    # determine angle phi for calculation of roots\n",
    "    phiNom2 =  27*( 1/4*I2**2*(p-I2) + I3*(27/4*I3-q) )                         # preliminary value for squared nominator of expression for angle phi\n",
    "    phiNom2 = conditional(lt(phiNom2,tol),abs(phiNom2)+pert,phiNom2)    # add numerical perturbation to ensure non-zero nominator expression for angle phi\n",
    "    phi = 1/3*atan_2(sqrt(phiNom2),q)                                   # calculate angle phi\n",
    "\n",
    "    # calculate polynomial roots\n",
    "    lambda1 = 1/3*(sqrt(p)*2*cos(phi)+I1)\n",
    "    lambda2 = 1/3*(-sqrt(p)*(cos(phi)+sqrt(3)*sin(phi))+I1)\n",
    "    lambda3 = 1/3*(-sqrt(p)*(cos(phi)-sqrt(3)*sin(phi))+I1)\n",
    "\n",
    "    # return polynomial roots (eigenvalues)\n",
    "    return lambda1, lambda2, lambda3\n",
    "\n",
    "def projectionTensors(T, *eigenValues):\n",
    "    dim=T.geometric_dimension()                                                 # get geometric dimension of tensor T to decide which subroutine to use for projection tensor computations\n",
    "\n",
    "    # choose projection tensor routine based on dimensionality of problem\n",
    "    if dim == 2:                                                                # 2D-problem\n",
    "        return _projTen2D(T,*eigenValues)\n",
    "    else:                                                                       # 3D-problem\n",
    "        return _projTen3D(T,*eigenValues)\n",
    "\n",
    "def _projTen3D(T, lambda1, lambda2, lambda3):\n",
    "    import ufl                                                                      # ufl module\n",
    "\n",
    "    # get required quantities\n",
    "    I = ufl.Identity(3)\n",
    "\n",
    "    # calculate the individual projection tensors\n",
    "    M1 = (T-lambda2*I)*(T-lambda3*I)/((lambda1-lambda2)*(lambda1-lambda3))\n",
    "    M2 = (T-lambda3*I)*(T-lambda1*I)/((lambda2-lambda3)*(lambda2-lambda1))\n",
    "    M3 = (T-lambda1*I)*(T-lambda2*I)/((lambda3-lambda1)*(lambda3-lambda2))\n",
    "\n",
    "    # return projection tensors\n",
    "    return M1, M2, M3"
   ]
  },
  {
   "cell_type": "code",
   "execution_count": 4,
   "metadata": {},
   "outputs": [],
   "source": [
    "## Mesh\n",
    "comm = MPI.COMM_WORLD\n",
    "\n",
    "dimx, dimy , dimz = 1, 0.5, 1\n",
    "nx, ny, nz = 1, 1, 1\n",
    "\n",
    "mesh = create_box(comm,[[0.,0.,0.],[dimx,dimy,dimz]],[nx,ny,nz],CellType.hexahedron)\n",
    "\n",
    "gdim = mesh.geometry.dim # geometry dimension\n",
    "tdim = mesh.topology.dim # topology dimension\n",
    "fdim = tdim - 1          # facet dimension\n"
   ]
  },
  {
   "cell_type": "code",
   "execution_count": 5,
   "metadata": {},
   "outputs": [],
   "source": [
    "## Facets identification\n",
    "\n",
    "left   = lambda x: np.isclose(x[0], 0)\n",
    "right  = lambda x: np.isclose(x[0], dimx)\n",
    "bottom = lambda x: np.isclose(x[1], 0)\n",
    "top    = lambda x: np.isclose(x[1], dimy)\n",
    "back   = lambda x: np.isclose(x[2], 0)\n",
    "front  = lambda x: np.isclose(x[2], dimz)\n",
    "\n",
    "left_facets   = locate_entities_boundary(mesh, fdim, left)\n",
    "right_facets  = locate_entities_boundary(mesh, fdim, right)\n",
    "bottom_facets = locate_entities_boundary(mesh, fdim, bottom)\n",
    "top_facets    = locate_entities_boundary(mesh, fdim, top)\n",
    "back_facets   = locate_entities_boundary(mesh, fdim, back)\n",
    "front_facets  = locate_entities_boundary(mesh, fdim, front)\n",
    "\n",
    "\n",
    "marked_facets = np.hstack([left_facets, right_facets,\n",
    "                           bottom_facets, top_facets,\n",
    "                           back_facets, front_facets])\n",
    "\n",
    "marked_values = np.hstack([np.full_like(left_facets,   1),\n",
    "                           np.full_like(right_facets,  2),\n",
    "                           np.full_like(bottom_facets, 3),\n",
    "                           np.full_like(top_facets,    4),\n",
    "                           np.full_like(back_facets,   5),\n",
    "                           np.full_like(front_facets,  6)])\n",
    "\n",
    "sorted_facets = np.argsort(marked_facets)\n",
    "facet_tag = meshtags(mesh, fdim, marked_facets[sorted_facets], marked_values[sorted_facets])"
   ]
  },
  {
   "cell_type": "code",
   "execution_count": 6,
   "metadata": {},
   "outputs": [],
   "source": [
    "## Integration\n",
    "metadata = {\"quadrature_degree\": 2}\n",
    "ds = Measure('ds', domain=mesh, subdomain_data=facet_tag, metadata=metadata)\n",
    "dx = Measure(\"dx\", domain=mesh, metadata=metadata)"
   ]
  },
  {
   "cell_type": "code",
   "execution_count": 7,
   "metadata": {},
   "outputs": [],
   "source": [
    "## Approximation space\n",
    "W     = VectorFunctionSpace(mesh, (\"CG\",1))\n",
    "u     = Function(W) \n",
    "u_    = TestFunction(W)\n",
    "du    = TrialFunction(W)  \n",
    "\n",
    "u_old = Function(W)\n",
    "\n",
    "# Scalar space\n",
    "fe    = FiniteElement(\"CG\", mesh.ufl_cell(), 1)   \n",
    "ET0   = FunctionSpace(mesh, fe)   \n",
    "# Vector space\n",
    "ET1   = VectorFunctionSpace(mesh, (\"CG\", 1))\n",
    "# Tensor space\n",
    "ET2   = TensorFunctionSpace(mesh, (\"DG\",0))"
   ]
  },
  {
   "cell_type": "code",
   "execution_count": 8,
   "metadata": {},
   "outputs": [],
   "source": [
    "## Material parameters\n",
    "tau1, tau2   = 1.0   , 1.0\n",
    "beta1, beta2 = 1.0   , 1.0  #0.000001\n",
    "k, c         = 1e6   , 0.877   #[kPa,kPa] \n",
    "k1, k2       = 0.154 , 34.157  #[kPa,-] \n",
    "tau1, tau2   = 1.0    , 1.0\n",
    "etaM         = 1.5\n",
    "etaF         = 1.5\n",
    "\n",
    "dt = 0.1 # [s]"
   ]
  },
  {
   "cell_type": "code",
   "execution_count": 9,
   "metadata": {},
   "outputs": [],
   "source": [
    "## Fibers configuration\n",
    "theta  = np.radians(0.0)\n",
    "a0     = as_vector([cos(theta),sin(theta),0]) \n",
    "A0     = outer(a0,a0)                       "
   ]
  },
  {
   "cell_type": "code",
   "execution_count": 10,
   "metadata": {},
   "outputs": [],
   "source": [
    "## Internal variables\n",
    "bMe      = Function(ET2) # bᵐₑ\n",
    "invCMv   = Function(ET2) # (Cᵐᵥ)⁻¹ \n",
    "lamFv    = Function(ET0) # λᶠᵥ\n",
    "\n",
    "I4e_  = Function(ET0) # Ī₄ₑ\n",
    "Ie_   = Function(ET0) # Īₑ"
   ]
  },
  {
   "cell_type": "code",
   "execution_count": 11,
   "metadata": {},
   "outputs": [],
   "source": [
    "## Initial Values\n",
    "\n",
    "I0 = ((1.0,0.0,0.0),(0.0,1.0,0.0),(0.0,0.0,1.0))\n",
    "\n",
    "# Displacement\n",
    "assign(mesh,(0.,0.,0.),u) \n",
    "\n",
    "## Matrix viscoelasticity internal variable\n",
    "# [bᵐₑ]₀  = I\n",
    "assign(mesh, I0, bMe)\n",
    "# Stretches\n",
    "lamM1e = 1.0 # [λᵐ₁ₑ]₀ = 1\n",
    "lamM2e = 1.0 # [λᵐ₂ₑ]₀ = 1\n",
    "lamM3e = 1.0 # [λᵐ₃ₑ]₀ = 1\n",
    "eps1e  = 0.0\n",
    "eps2e  = 0.0\n",
    "eps3e  = 0.0\n",
    "# [(Cᵐᵥ)⁻¹]₀  = I\n",
    "assign(mesh,I0,invCMv)\n",
    "# [Īₑ]ⁿ⁺¹  = 3    \n",
    "assign(mesh,3.0,Ie_)  \n",
    "\n",
    "## Fibers viscoelasticity internal variable\n",
    "# [λᶠᵥ]₀   = 1 \n",
    "assign(mesh,1.0,lamFv)      \n",
    "# [Ī₄ₑ]ⁿ⁺¹ = 1\n",
    "assign(mesh,1.0,I4e_)    "
   ]
  },
  {
   "cell_type": "code",
   "execution_count": 12,
   "metadata": {},
   "outputs": [],
   "source": [
    "def MatrixEvolution(F,invCMv,eps0):\n",
    "    \"\"\"\n",
    "    eps0  = ln[λᵐ₁ₑ]ₙ₋₁  (initial guest)\n",
    "    invCMv = [Cᵐᵥ]ₙ₋₁    \n",
    "    \"\"\"\n",
    "    ## Kinematics\n",
    "    J   = det(F)\n",
    "\n",
    "    #print(\"Solving Matrix viscoelasticity...\")\n",
    "    \n",
    "    ## Elastic predictor\n",
    "    bMe_trial    = F*invCMv*F.T # [(bᵐₑ)ₜᵣᵢₐₗ]ₙ = [F]ₙ[Cᵐᵥ⁻¹]ₙ₋₁[F]ₙᵀ\n",
    "    \n",
    "    lamMe2_trial1, lamMe2_trial2,  lamMe2_trial3  = eigenValues(bMe_trial)\n",
    "    lamMe_trial1 , lamMe_trial2 ,  lamMe_trial3   = sqrt(lamMe2_trial1), sqrt(lamMe2_trial2),  sqrt(lamMe2_trial3)\n",
    "\n",
    "    \n",
    "    ## Python values (these are scalars so the point to be evaluated is irrelevant)\n",
    "    \n",
    "    JJ       = Value(mesh,J,(0,0,0))\n",
    "    l1trial  = Value(mesh,ln(lamMe_trial1),(0,0,0))\n",
    "    l2trial  = Value(mesh,ln(lamMe_trial2),(0,0,0))\n",
    "    l3trial  = Value(mesh,ln(lamMe_trial3),(0,0,0))\n",
    "    epsTrial = [l1trial, l2trial, l3trial]\n",
    "\n",
    "    #print(\"eps trial:\",epsTrial)\n",
    "\n",
    "    ## Inelastic corrector\n",
    "\n",
    "    mu    = 2.*c\n",
    "    alpha = 2. # Neo-Hookean\n",
    "\n",
    "    def rA(eps):\n",
    "        r1 = eps[0] + mu*dt*1/(2*etaM)*( 2/3*JJ**(-2/3)*np.exp(2.*eps[0]) - 1/3*JJ**(-2/3)*np.exp(2.*eps[1]) - 1/3*JJ**(-2/3)*np.exp(2.*eps[2]) ) - epsTrial[0]\n",
    "        r2 = eps[1] + mu*dt*1/(2*etaM)*( 2/3*JJ**(-2/3)*np.exp(2.*eps[1]) - 1/3*JJ**(-2/3)*np.exp(2.*eps[0]) - 1/3*JJ**(-2/3)*np.exp(2.*eps[2]) ) - epsTrial[1]\n",
    "        r3 = eps[2] + mu*dt*1/(2*etaM)*( 2/3*JJ**(-2/3)*np.exp(2.*eps[2]) - 1/3*JJ**(-2/3)*np.exp(2.*eps[0]) - 1/3*JJ**(-2/3)*np.exp(2.*eps[1]) ) - epsTrial[2]\n",
    "        r  = [r1,\n",
    "              r2,\n",
    "              r3] \n",
    "        return r # 3x1\n",
    "\n",
    "    def Kab(eps):\n",
    "        dr1d1 = 1. + dt*1/(2*etaM)*(mu*alpha)*( 4/9*JJ**(-2/3)*np.exp(2.*eps[0]) + 1/9*JJ**(-2/3)*np.exp(2.*eps[1]) + 1/9*JJ**(-2/3)*np.exp(2.*eps[2]) )\n",
    "        dr1d2 = 1. + dt*1/(2*etaM)*(mu*alpha)*(-2/9*JJ**(-2/3)*np.exp(2.*eps[0]) - 2/9*JJ**(-2/3)*np.exp(2.*eps[1]) + 1/9*JJ**(-2/3)*np.exp(2.*eps[2]) )\n",
    "        dr1d3 = 1. + dt*1/(2*etaM)*(mu*alpha)*(-2/9*JJ**(-2/3)*np.exp(2.*eps[0]) - 2/9*JJ**(-2/3)*np.exp(2.*eps[2]) + 1/9*JJ**(-2/3)*np.exp(2.*eps[1]) )\n",
    "\n",
    "        dr2d1 = 1. + dt*1/(2*etaM)*(mu*alpha)*(-2/9*JJ**(-2/3)*np.exp(2.*eps[1]) - 2/9*JJ**(-2/3)*np.exp(2.*eps[0]) + 1/9*JJ**(-2/3)*np.exp(2.*eps[2]) )\n",
    "        dr2d2 = 1. + dt*1/(2*etaM)*(mu*alpha)*( 4/9*JJ**(-2/3)*np.exp(2.*eps[1]) + 1/9*JJ**(-2/3)*np.exp(2.*eps[0]) + 1/9*JJ**(-2/3)*np.exp(2.*eps[2]) )\n",
    "        dr2d3 = 1. + dt*1/(2*etaM)*(mu*alpha)*(-2/9*JJ**(-2/3)*np.exp(2.*eps[1]) - 2/9*JJ**(-2/3)*np.exp(2.*eps[2]) + 1/9*JJ**(-2/3)*np.exp(2.*eps[0]) )  \n",
    "\n",
    "        dr3d1 = 1. + dt*1/(2*etaM)*(mu*alpha)*(-2/9*JJ**(-2/3)*np.exp(2.*eps[2]) - 2/9*JJ**(-2/3)*np.exp(2.*eps[0]) + 1/9*JJ**(-2/3)*np.exp(2.*eps[1]) )\n",
    "        dr3d2 = 1. + dt*1/(2*etaM)*(mu*alpha)*(-2/9*JJ**(-2/3)*np.exp(2.*eps[2]) - 2/9*JJ**(-2/3)*np.exp(2.*eps[1]) + 1/9*JJ**(-2/3)*np.exp(2.*eps[0]) )\n",
    "        dr3d3 = 1. + dt*1/(2*etaM)*(mu*alpha)*( 4/9*JJ**(-2/3)*np.exp(2.*eps[2]) + 1/9*JJ**(-2/3)*np.exp(2.*eps[0]) + 1/9*JJ**(-2/3)*np.exp(2.*eps[1]) )\n",
    "\n",
    "        Jab = [[dr1d1,dr1d2,dr1d3],\n",
    "               [dr2d1,dr2d2,dr2d3],\n",
    "               [dr3d1,dr3d2,dr3d3]]\n",
    "               \n",
    "        return Jab # 3x3\n",
    "\n",
    "    # Initial guest, from the previous iteration\n",
    "    EPSk0 = [eps0[0],eps0[1],eps0[2]]\n",
    "    \n",
    "    # print('Initial eps:\\n',EPSk0)\n",
    "\n",
    "    from scipy.optimize import fsolve\n",
    "    EPSk = fsolve(rA, EPSk0, fprime=Kab)\n",
    "    \n",
    "    # print('Predicted eps:\\n',EPSk)\n",
    "    # print('Residual: \\n',rA(EPSk))\n",
    "    \n",
    "    ## FEniCS\n",
    "    eps    = [EPSk[0]          , EPSk[1]          , EPSk[2]          ]   # [ε₁ₑ]ₙ      , [ε₂ₑ]ₙ   , [ε₂₃]ₙ \n",
    "    lamMe  = [np.exp(eps[0])   , np.exp(eps[1])   , np.exp(eps[2])   ]   # [λᵐ₁ₑ]ₙ     , [λᵐ₂ₑ]ₙ     principal stretches\n",
    "\n",
    "    ## Eigen-basis nᵢ⊗nᵢ\n",
    "    n1xn1, n2xn2, n3xn3  = projectionTensors(bMe_trial, lamMe2_trial1, lamMe2_trial2, lamMe2_trial3) \n",
    "    nxn = [n1xn1, n2xn2, n3xn3]\n",
    "\n",
    "    # print('Internal variable updated')\n",
    "\n",
    "    return lamMe, nxn, eps"
   ]
  },
  {
   "cell_type": "code",
   "execution_count": 13,
   "metadata": {},
   "outputs": [],
   "source": [
    "def FiberEvolution(F,lamFv0):\n",
    "    from scipy import optimize\n",
    "    \n",
    "    #### Kinematics\n",
    "    J   = det(F)\n",
    "    F_  = J**(-1/3)*F\n",
    "    C_  = F_.T*F_\n",
    "    I4_ = inner(C_,A0)\n",
    "\n",
    "    ## Python values\n",
    "    I4iso     = Value(mesh,I4_,(0,0,0))\n",
    "    stretchF0 = Value(mesh,lamFv0,(0,0,0))\n",
    "       \n",
    "\n",
    "    def tauFneq(stretchF):\n",
    "        I4eiso = I4iso/(stretchF**2)\n",
    "        return 2*beta2*k1*exp(k2*(I4eiso-1.)**2)*(I4eiso-1.)*I4eiso\n",
    "\n",
    "    def dTauxI4e(stretchF):\n",
    "        I4eiso = I4iso/(stretchF**2)\n",
    "        dTauxI4e = 2*beta2*k1*exp(k2*(I4eiso-1.)**2)*( 2*k2*(I4eiso-1)**2*I4eiso + (I4eiso - 1) + I4eiso )*I4eiso\n",
    "        return dTauxI4e\n",
    "\n",
    "    def rA(stretchF):\n",
    "        return stretchF - dt/etaF * tauFneq(stretchF) * stretchF - stretchF0\n",
    "\n",
    "    def Jij(stretchF):\n",
    "        return 1. - dt/etaF*(tauFneq(stretchF) - 2*dTauxI4e(stretchF))\n",
    "    \n",
    "    \n",
    "    lamFV = optimize.newton(rA, stretchF0, fprime=Jij,tol=1e-6,maxiter=100)\n",
    "\n",
    "    \n",
    "    # print('predicted fiber stretch:', lamFV)\n",
    "    # print('residual fiber:',rA(lamFV))\n",
    "\n",
    "\n",
    "    return lamFV"
   ]
  },
  {
   "cell_type": "code",
   "execution_count": 14,
   "metadata": {},
   "outputs": [],
   "source": [
    "def PK2(F,invCMv,I4e_):\n",
    "\n",
    "    ## Kinematics\n",
    "    J   = det(F)\n",
    "    C   = F.T*F\n",
    "    F_  = J**(-1/3)*F\n",
    "    C_  = F_.T*F_\n",
    "    \n",
    "    ## Matrix\n",
    "    I1    = tr(C) \n",
    "    sMeq  = 2*c*(J**(-2/3))*(I-1/3*I1*inv(C))\n",
    "    sMneq = 2*beta1*c*(J**(-2/3))*(invCMv-1/3*inner(C,invCMv)*inv(C)) # Ie = inner(C,invCMv)\n",
    "    sVol  = k*(J**2-J)*inv(C)\n",
    "\n",
    "    ## Fiber\n",
    "    I4_   = inner(C_,A0)  # Pure elastic response\n",
    "    #I4v  = lamFv**2      # Viscous response\n",
    "    #I4e_ = I4_/I4v       # Relaxing elastic response\n",
    "    sFeq  = 2.*k1*(I4_-1.)*exp(k2*(I4_-1.)**2)*(J**(-2/3))*I4_*(A0/I4_-1/3*inv(C_))\n",
    "    sFneq = 2.*beta2*k1*(I4e_-1.)*exp(k2*(I4e_-1.)**2)*(J**(-2/3))*I4e_*(A0/I4_-1/3*inv(C_))\n",
    "    \n",
    "    return sMeq, sMneq, sVol, sFeq, sFneq"
   ]
  },
  {
   "cell_type": "code",
   "execution_count": 15,
   "metadata": {},
   "outputs": [],
   "source": [
    "## Dirichlet BC\n",
    "left_dofs    = locate_dofs_topological(W.sub(0), fdim, left_facets)\n",
    "right_dofs   = locate_dofs_topological(W.sub(0), fdim, right_facets)\n",
    "bottom_dofs  = locate_dofs_topological(W.sub(1), fdim, bottom_facets)\n",
    "top_dofs     = locate_dofs_topological(W.sub(1), fdim, top_facets)\n",
    "back_dofs    = locate_dofs_topological(W.sub(2), fdim, back_facets)\n",
    "front_dofs   = locate_dofs_topological(W.sub(2), fdim, front_facets)\n",
    "\n",
    "# displacement imposed, is updated with disp.value = #!&\n",
    "disp = Constant(mesh,ScalarType(0.0))\n",
    "\n",
    "bcs  = [\n",
    "        dirichletbc(ScalarType(0.0), left_dofs, W.sub(0)),\n",
    "        dirichletbc(ScalarType(0.0), bottom_dofs, W.sub(1)),\n",
    "        dirichletbc(ScalarType(0.0), back_dofs, W.sub(2)),\n",
    "        dirichletbc(disp, right_dofs, W.sub(0)),\n",
    "        dirichletbc(disp, front_dofs, W.sub(2))\n",
    "       ]"
   ]
  },
  {
   "cell_type": "code",
   "execution_count": 16,
   "metadata": {},
   "outputs": [],
   "source": [
    "## Neumann BC\n",
    "B = Constant(mesh, ScalarType((0.0, 0.0, 0.0)))\n",
    "T = Constant(mesh, ScalarType((0.0, 0.0, 0.0)))"
   ]
  },
  {
   "cell_type": "code",
   "execution_count": 17,
   "metadata": {},
   "outputs": [],
   "source": [
    "## kinematics\n",
    "I  = Identity(u.geometric_dimension())   # Identity tensor\n",
    "F  = variable(I + grad(u))               # [Variable][Coefficient]\n",
    "J  = det(F)\n",
    "C  = F.T*F\n",
    "C_ = J**(-2/3)*C\n",
    "I4 = inner(C,A0)"
   ]
  },
  {
   "cell_type": "code",
   "execution_count": 18,
   "metadata": {},
   "outputs": [],
   "source": [
    "## Weak form - variational problem\n",
    "\n",
    "sMeq, sMneq, sVol, sFeq, sFneq = PK2(F,invCMv,I4e_)\n",
    "PiolaKirchhoff2 = sMeq + sMneq + sVol + sFeq + sFneq\n",
    "PiolaKirchhoff1 = F*PiolaKirchhoff2\n",
    "\n",
    "#mech    = inner(PK2(F,invCMv,I4e_),sym(F.T*grad(u_)))*dx\n",
    "mech    = inner(PiolaKirchhoff1,grad(u_))*dx\n",
    "Jac     = derivative(mech, u, du) \n",
    "problem = NonlinearProblem(mech, u, bcs=bcs, J=Jac)\n",
    "solver  = NewtonSolver(mesh.comm, problem)\n",
    "\n",
    "\n",
    "solver.atol=1.e-8\n",
    "solver.rtol=1.e-4\n",
    "solver.convergence_criterion='incremental'\n",
    "solver.max_it=500\n",
    "solver.report=True"
   ]
  },
  {
   "cell_type": "code",
   "execution_count": 19,
   "metadata": {},
   "outputs": [],
   "source": [
    "## Iteration setup\n",
    "tTotal =  8\n",
    "Nsteps = int(tTotal/dt+1)\n",
    "Time   = np.linspace(0, tTotal, Nsteps)\n",
    "j      = 1\n",
    "\n",
    "ufinal = 0.1\n",
    "d_rate = dimx*ufinal\n",
    "\n",
    "\n",
    "px = (dimx,dimy/2,dimz/2)\n",
    "pz = (dimx/2,dimy/2,dimz)\n",
    "pt = px\n",
    "\n",
    "## Storage\n",
    "disp_v        = np.zeros((Nsteps,1))\n",
    "SIG_v         = np.zeros((Nsteps,1))\n",
    "SIGeq_v       = np.zeros((Nsteps,1))\n",
    "SIGneq_v      = np.zeros((Nsteps,1))\n",
    "invariants    = np.zeros((Nsteps,4))"
   ]
  },
  {
   "cell_type": "code",
   "execution_count": 20,
   "metadata": {},
   "outputs": [
    {
     "data": {
      "application/vnd.jupyter.widget-view+json": {
       "model_id": "b374633a331b4bfc8223ec1b19cebb5b",
       "version_major": 2,
       "version_minor": 0
      },
      "text/plain": [
       "Solving simulation:   0%|          | 0/81 [00:00<?, ?it/s]"
      ]
     },
     "metadata": {},
     "output_type": "display_data"
    },
    {
     "name": "stdout",
     "output_type": "stream",
     "text": [
      "Discontinuous Lagrange element requested on hexahedron, creating DQ element.\n"
     ]
    },
    {
     "name": "stderr",
     "output_type": "stream",
     "text": [
      "WARNING:UFL:Discontinuous Lagrange element requested on hexahedron, creating DQ element.\n"
     ]
    },
    {
     "name": "stdout",
     "output_type": "stream",
     "text": [
      "Discontinuous Lagrange element requested on hexahedron, creating DQ element.\n"
     ]
    },
    {
     "name": "stderr",
     "output_type": "stream",
     "text": [
      "WARNING:UFL:Discontinuous Lagrange element requested on hexahedron, creating DQ element.\n"
     ]
    },
    {
     "name": "stdout",
     "output_type": "stream",
     "text": [
      "Discontinuous Lagrange element requested on hexahedron, creating DQ element.\n"
     ]
    },
    {
     "name": "stderr",
     "output_type": "stream",
     "text": [
      "WARNING:UFL:Discontinuous Lagrange element requested on hexahedron, creating DQ element.\n"
     ]
    },
    {
     "name": "stdout",
     "output_type": "stream",
     "text": [
      "Discontinuous Lagrange element requested on hexahedron, creating DQ element.\n"
     ]
    },
    {
     "name": "stderr",
     "output_type": "stream",
     "text": [
      "WARNING:UFL:Discontinuous Lagrange element requested on hexahedron, creating DQ element.\n"
     ]
    },
    {
     "name": "stdout",
     "output_type": "stream",
     "text": [
      "Discontinuous Lagrange element requested on hexahedron, creating DQ element.\n"
     ]
    },
    {
     "name": "stderr",
     "output_type": "stream",
     "text": [
      "WARNING:UFL:Discontinuous Lagrange element requested on hexahedron, creating DQ element.\n"
     ]
    },
    {
     "name": "stdout",
     "output_type": "stream",
     "text": [
      "Discontinuous Lagrange element requested on hexahedron, creating DQ element.\n"
     ]
    },
    {
     "name": "stderr",
     "output_type": "stream",
     "text": [
      "WARNING:UFL:Discontinuous Lagrange element requested on hexahedron, creating DQ element.\n"
     ]
    },
    {
     "name": "stdout",
     "output_type": "stream",
     "text": [
      "Discontinuous Lagrange element requested on hexahedron, creating DQ element.\n"
     ]
    },
    {
     "name": "stderr",
     "output_type": "stream",
     "text": [
      "WARNING:UFL:Discontinuous Lagrange element requested on hexahedron, creating DQ element.\n"
     ]
    },
    {
     "name": "stdout",
     "output_type": "stream",
     "text": [
      "Discontinuous Lagrange element requested on hexahedron, creating DQ element.\n"
     ]
    },
    {
     "name": "stderr",
     "output_type": "stream",
     "text": [
      "WARNING:UFL:Discontinuous Lagrange element requested on hexahedron, creating DQ element.\n"
     ]
    },
    {
     "name": "stdout",
     "output_type": "stream",
     "text": [
      "Discontinuous Lagrange element requested on hexahedron, creating DQ element.\n"
     ]
    },
    {
     "name": "stderr",
     "output_type": "stream",
     "text": [
      "WARNING:UFL:Discontinuous Lagrange element requested on hexahedron, creating DQ element.\n"
     ]
    },
    {
     "name": "stdout",
     "output_type": "stream",
     "text": [
      "Discontinuous Lagrange element requested on hexahedron, creating DQ element.\n"
     ]
    },
    {
     "name": "stderr",
     "output_type": "stream",
     "text": [
      "WARNING:UFL:Discontinuous Lagrange element requested on hexahedron, creating DQ element.\n"
     ]
    },
    {
     "name": "stdout",
     "output_type": "stream",
     "text": [
      "Discontinuous Lagrange element requested on hexahedron, creating DQ element.\n"
     ]
    },
    {
     "name": "stderr",
     "output_type": "stream",
     "text": [
      "WARNING:UFL:Discontinuous Lagrange element requested on hexahedron, creating DQ element.\n"
     ]
    },
    {
     "name": "stdout",
     "output_type": "stream",
     "text": [
      "Discontinuous Lagrange element requested on hexahedron, creating DQ element.\n"
     ]
    },
    {
     "name": "stderr",
     "output_type": "stream",
     "text": [
      "WARNING:UFL:Discontinuous Lagrange element requested on hexahedron, creating DQ element.\n"
     ]
    },
    {
     "name": "stdout",
     "output_type": "stream",
     "text": [
      "Discontinuous Lagrange element requested on hexahedron, creating DQ element.\n"
     ]
    },
    {
     "name": "stderr",
     "output_type": "stream",
     "text": [
      "WARNING:UFL:Discontinuous Lagrange element requested on hexahedron, creating DQ element.\n"
     ]
    },
    {
     "name": "stdout",
     "output_type": "stream",
     "text": [
      "Discontinuous Lagrange element requested on hexahedron, creating DQ element.\n"
     ]
    },
    {
     "name": "stderr",
     "output_type": "stream",
     "text": [
      "WARNING:UFL:Discontinuous Lagrange element requested on hexahedron, creating DQ element.\n"
     ]
    },
    {
     "name": "stdout",
     "output_type": "stream",
     "text": [
      "Discontinuous Lagrange element requested on hexahedron, creating DQ element.\n"
     ]
    },
    {
     "name": "stderr",
     "output_type": "stream",
     "text": [
      "WARNING:UFL:Discontinuous Lagrange element requested on hexahedron, creating DQ element.\n"
     ]
    },
    {
     "name": "stdout",
     "output_type": "stream",
     "text": [
      "Discontinuous Lagrange element requested on hexahedron, creating DQ element.\n"
     ]
    },
    {
     "name": "stderr",
     "output_type": "stream",
     "text": [
      "WARNING:UFL:Discontinuous Lagrange element requested on hexahedron, creating DQ element.\n"
     ]
    },
    {
     "name": "stdout",
     "output_type": "stream",
     "text": [
      "Discontinuous Lagrange element requested on hexahedron, creating DQ element.\n"
     ]
    },
    {
     "name": "stderr",
     "output_type": "stream",
     "text": [
      "WARNING:UFL:Discontinuous Lagrange element requested on hexahedron, creating DQ element.\n"
     ]
    },
    {
     "name": "stdout",
     "output_type": "stream",
     "text": [
      "Discontinuous Lagrange element requested on hexahedron, creating DQ element.\n"
     ]
    },
    {
     "name": "stderr",
     "output_type": "stream",
     "text": [
      "WARNING:UFL:Discontinuous Lagrange element requested on hexahedron, creating DQ element.\n"
     ]
    },
    {
     "name": "stdout",
     "output_type": "stream",
     "text": [
      "Discontinuous Lagrange element requested on hexahedron, creating DQ element.\n"
     ]
    },
    {
     "name": "stderr",
     "output_type": "stream",
     "text": [
      "WARNING:UFL:Discontinuous Lagrange element requested on hexahedron, creating DQ element.\n"
     ]
    },
    {
     "name": "stdout",
     "output_type": "stream",
     "text": [
      "Discontinuous Lagrange element requested on hexahedron, creating DQ element.\n"
     ]
    },
    {
     "name": "stderr",
     "output_type": "stream",
     "text": [
      "WARNING:UFL:Discontinuous Lagrange element requested on hexahedron, creating DQ element.\n"
     ]
    },
    {
     "name": "stdout",
     "output_type": "stream",
     "text": [
      "Discontinuous Lagrange element requested on hexahedron, creating DQ element.\n"
     ]
    },
    {
     "name": "stderr",
     "output_type": "stream",
     "text": [
      "WARNING:UFL:Discontinuous Lagrange element requested on hexahedron, creating DQ element.\n"
     ]
    },
    {
     "name": "stdout",
     "output_type": "stream",
     "text": [
      "Discontinuous Lagrange element requested on hexahedron, creating DQ element.\n"
     ]
    },
    {
     "name": "stderr",
     "output_type": "stream",
     "text": [
      "WARNING:UFL:Discontinuous Lagrange element requested on hexahedron, creating DQ element.\n"
     ]
    },
    {
     "name": "stdout",
     "output_type": "stream",
     "text": [
      "Discontinuous Lagrange element requested on hexahedron, creating DQ element.\n"
     ]
    },
    {
     "name": "stderr",
     "output_type": "stream",
     "text": [
      "WARNING:UFL:Discontinuous Lagrange element requested on hexahedron, creating DQ element.\n"
     ]
    },
    {
     "name": "stdout",
     "output_type": "stream",
     "text": [
      "Discontinuous Lagrange element requested on hexahedron, creating DQ element.\n"
     ]
    },
    {
     "name": "stderr",
     "output_type": "stream",
     "text": [
      "WARNING:UFL:Discontinuous Lagrange element requested on hexahedron, creating DQ element.\n"
     ]
    },
    {
     "name": "stdout",
     "output_type": "stream",
     "text": [
      "Discontinuous Lagrange element requested on hexahedron, creating DQ element.\n"
     ]
    },
    {
     "name": "stderr",
     "output_type": "stream",
     "text": [
      "WARNING:UFL:Discontinuous Lagrange element requested on hexahedron, creating DQ element.\n"
     ]
    },
    {
     "name": "stdout",
     "output_type": "stream",
     "text": [
      "Discontinuous Lagrange element requested on hexahedron, creating DQ element.\n"
     ]
    },
    {
     "name": "stderr",
     "output_type": "stream",
     "text": [
      "WARNING:UFL:Discontinuous Lagrange element requested on hexahedron, creating DQ element.\n"
     ]
    },
    {
     "name": "stdout",
     "output_type": "stream",
     "text": [
      "Discontinuous Lagrange element requested on hexahedron, creating DQ element.\n"
     ]
    },
    {
     "name": "stderr",
     "output_type": "stream",
     "text": [
      "WARNING:UFL:Discontinuous Lagrange element requested on hexahedron, creating DQ element.\n"
     ]
    },
    {
     "name": "stdout",
     "output_type": "stream",
     "text": [
      "Discontinuous Lagrange element requested on hexahedron, creating DQ element.\n"
     ]
    },
    {
     "name": "stderr",
     "output_type": "stream",
     "text": [
      "WARNING:UFL:Discontinuous Lagrange element requested on hexahedron, creating DQ element.\n"
     ]
    },
    {
     "name": "stdout",
     "output_type": "stream",
     "text": [
      "Discontinuous Lagrange element requested on hexahedron, creating DQ element.\n"
     ]
    },
    {
     "name": "stderr",
     "output_type": "stream",
     "text": [
      "WARNING:UFL:Discontinuous Lagrange element requested on hexahedron, creating DQ element.\n"
     ]
    },
    {
     "name": "stdout",
     "output_type": "stream",
     "text": [
      "Discontinuous Lagrange element requested on hexahedron, creating DQ element.\n"
     ]
    },
    {
     "name": "stderr",
     "output_type": "stream",
     "text": [
      "WARNING:UFL:Discontinuous Lagrange element requested on hexahedron, creating DQ element.\n"
     ]
    },
    {
     "name": "stdout",
     "output_type": "stream",
     "text": [
      "Discontinuous Lagrange element requested on hexahedron, creating DQ element.\n"
     ]
    },
    {
     "name": "stderr",
     "output_type": "stream",
     "text": [
      "WARNING:UFL:Discontinuous Lagrange element requested on hexahedron, creating DQ element.\n"
     ]
    },
    {
     "name": "stdout",
     "output_type": "stream",
     "text": [
      "Discontinuous Lagrange element requested on hexahedron, creating DQ element.\n"
     ]
    },
    {
     "name": "stderr",
     "output_type": "stream",
     "text": [
      "WARNING:UFL:Discontinuous Lagrange element requested on hexahedron, creating DQ element.\n"
     ]
    },
    {
     "name": "stdout",
     "output_type": "stream",
     "text": [
      "Discontinuous Lagrange element requested on hexahedron, creating DQ element.\n"
     ]
    },
    {
     "name": "stderr",
     "output_type": "stream",
     "text": [
      "WARNING:UFL:Discontinuous Lagrange element requested on hexahedron, creating DQ element.\n"
     ]
    },
    {
     "name": "stdout",
     "output_type": "stream",
     "text": [
      "Discontinuous Lagrange element requested on hexahedron, creating DQ element.\n"
     ]
    },
    {
     "name": "stderr",
     "output_type": "stream",
     "text": [
      "WARNING:UFL:Discontinuous Lagrange element requested on hexahedron, creating DQ element.\n"
     ]
    },
    {
     "name": "stdout",
     "output_type": "stream",
     "text": [
      "Discontinuous Lagrange element requested on hexahedron, creating DQ element.\n"
     ]
    },
    {
     "name": "stderr",
     "output_type": "stream",
     "text": [
      "WARNING:UFL:Discontinuous Lagrange element requested on hexahedron, creating DQ element.\n"
     ]
    },
    {
     "name": "stdout",
     "output_type": "stream",
     "text": [
      "Discontinuous Lagrange element requested on hexahedron, creating DQ element.\n"
     ]
    },
    {
     "name": "stderr",
     "output_type": "stream",
     "text": [
      "WARNING:UFL:Discontinuous Lagrange element requested on hexahedron, creating DQ element.\n"
     ]
    },
    {
     "name": "stdout",
     "output_type": "stream",
     "text": [
      "Discontinuous Lagrange element requested on hexahedron, creating DQ element.\n"
     ]
    },
    {
     "name": "stderr",
     "output_type": "stream",
     "text": [
      "WARNING:UFL:Discontinuous Lagrange element requested on hexahedron, creating DQ element.\n"
     ]
    },
    {
     "name": "stdout",
     "output_type": "stream",
     "text": [
      "Discontinuous Lagrange element requested on hexahedron, creating DQ element.\n"
     ]
    },
    {
     "name": "stderr",
     "output_type": "stream",
     "text": [
      "WARNING:UFL:Discontinuous Lagrange element requested on hexahedron, creating DQ element.\n"
     ]
    },
    {
     "name": "stdout",
     "output_type": "stream",
     "text": [
      "Discontinuous Lagrange element requested on hexahedron, creating DQ element.\n"
     ]
    },
    {
     "name": "stderr",
     "output_type": "stream",
     "text": [
      "WARNING:UFL:Discontinuous Lagrange element requested on hexahedron, creating DQ element.\n"
     ]
    },
    {
     "name": "stdout",
     "output_type": "stream",
     "text": [
      "Discontinuous Lagrange element requested on hexahedron, creating DQ element.\n"
     ]
    },
    {
     "name": "stderr",
     "output_type": "stream",
     "text": [
      "WARNING:UFL:Discontinuous Lagrange element requested on hexahedron, creating DQ element.\n"
     ]
    },
    {
     "name": "stdout",
     "output_type": "stream",
     "text": [
      "Discontinuous Lagrange element requested on hexahedron, creating DQ element.\n"
     ]
    },
    {
     "name": "stderr",
     "output_type": "stream",
     "text": [
      "WARNING:UFL:Discontinuous Lagrange element requested on hexahedron, creating DQ element.\n"
     ]
    },
    {
     "name": "stdout",
     "output_type": "stream",
     "text": [
      "Discontinuous Lagrange element requested on hexahedron, creating DQ element.\n"
     ]
    },
    {
     "name": "stderr",
     "output_type": "stream",
     "text": [
      "WARNING:UFL:Discontinuous Lagrange element requested on hexahedron, creating DQ element.\n"
     ]
    },
    {
     "name": "stdout",
     "output_type": "stream",
     "text": [
      "Discontinuous Lagrange element requested on hexahedron, creating DQ element.\n"
     ]
    },
    {
     "name": "stderr",
     "output_type": "stream",
     "text": [
      "WARNING:UFL:Discontinuous Lagrange element requested on hexahedron, creating DQ element.\n"
     ]
    },
    {
     "name": "stdout",
     "output_type": "stream",
     "text": [
      "Discontinuous Lagrange element requested on hexahedron, creating DQ element.\n"
     ]
    },
    {
     "name": "stderr",
     "output_type": "stream",
     "text": [
      "WARNING:UFL:Discontinuous Lagrange element requested on hexahedron, creating DQ element.\n"
     ]
    },
    {
     "name": "stdout",
     "output_type": "stream",
     "text": [
      "Discontinuous Lagrange element requested on hexahedron, creating DQ element.\n"
     ]
    },
    {
     "name": "stderr",
     "output_type": "stream",
     "text": [
      "WARNING:UFL:Discontinuous Lagrange element requested on hexahedron, creating DQ element.\n"
     ]
    },
    {
     "name": "stdout",
     "output_type": "stream",
     "text": [
      "Discontinuous Lagrange element requested on hexahedron, creating DQ element.\n"
     ]
    },
    {
     "name": "stderr",
     "output_type": "stream",
     "text": [
      "WARNING:UFL:Discontinuous Lagrange element requested on hexahedron, creating DQ element.\n"
     ]
    },
    {
     "name": "stdout",
     "output_type": "stream",
     "text": [
      "Discontinuous Lagrange element requested on hexahedron, creating DQ element.\n"
     ]
    },
    {
     "name": "stderr",
     "output_type": "stream",
     "text": [
      "WARNING:UFL:Discontinuous Lagrange element requested on hexahedron, creating DQ element.\n"
     ]
    },
    {
     "name": "stdout",
     "output_type": "stream",
     "text": [
      "Discontinuous Lagrange element requested on hexahedron, creating DQ element.\n"
     ]
    },
    {
     "name": "stderr",
     "output_type": "stream",
     "text": [
      "WARNING:UFL:Discontinuous Lagrange element requested on hexahedron, creating DQ element.\n"
     ]
    },
    {
     "name": "stdout",
     "output_type": "stream",
     "text": [
      "Discontinuous Lagrange element requested on hexahedron, creating DQ element.\n"
     ]
    },
    {
     "name": "stderr",
     "output_type": "stream",
     "text": [
      "WARNING:UFL:Discontinuous Lagrange element requested on hexahedron, creating DQ element.\n"
     ]
    },
    {
     "name": "stdout",
     "output_type": "stream",
     "text": [
      "Discontinuous Lagrange element requested on hexahedron, creating DQ element.\n"
     ]
    },
    {
     "name": "stderr",
     "output_type": "stream",
     "text": [
      "WARNING:UFL:Discontinuous Lagrange element requested on hexahedron, creating DQ element.\n"
     ]
    },
    {
     "name": "stdout",
     "output_type": "stream",
     "text": [
      "Discontinuous Lagrange element requested on hexahedron, creating DQ element.\n"
     ]
    },
    {
     "name": "stderr",
     "output_type": "stream",
     "text": [
      "WARNING:UFL:Discontinuous Lagrange element requested on hexahedron, creating DQ element.\n"
     ]
    },
    {
     "name": "stdout",
     "output_type": "stream",
     "text": [
      "Discontinuous Lagrange element requested on hexahedron, creating DQ element.\n"
     ]
    },
    {
     "name": "stderr",
     "output_type": "stream",
     "text": [
      "WARNING:UFL:Discontinuous Lagrange element requested on hexahedron, creating DQ element.\n"
     ]
    },
    {
     "name": "stdout",
     "output_type": "stream",
     "text": [
      "Discontinuous Lagrange element requested on hexahedron, creating DQ element.\n"
     ]
    },
    {
     "name": "stderr",
     "output_type": "stream",
     "text": [
      "WARNING:UFL:Discontinuous Lagrange element requested on hexahedron, creating DQ element.\n"
     ]
    },
    {
     "name": "stdout",
     "output_type": "stream",
     "text": [
      "Discontinuous Lagrange element requested on hexahedron, creating DQ element.\n"
     ]
    },
    {
     "name": "stderr",
     "output_type": "stream",
     "text": [
      "WARNING:UFL:Discontinuous Lagrange element requested on hexahedron, creating DQ element.\n"
     ]
    },
    {
     "name": "stdout",
     "output_type": "stream",
     "text": [
      "Discontinuous Lagrange element requested on hexahedron, creating DQ element.\n"
     ]
    },
    {
     "name": "stderr",
     "output_type": "stream",
     "text": [
      "WARNING:UFL:Discontinuous Lagrange element requested on hexahedron, creating DQ element.\n"
     ]
    },
    {
     "name": "stdout",
     "output_type": "stream",
     "text": [
      "Discontinuous Lagrange element requested on hexahedron, creating DQ element.\n"
     ]
    },
    {
     "name": "stderr",
     "output_type": "stream",
     "text": [
      "WARNING:UFL:Discontinuous Lagrange element requested on hexahedron, creating DQ element.\n"
     ]
    },
    {
     "name": "stdout",
     "output_type": "stream",
     "text": [
      "Discontinuous Lagrange element requested on hexahedron, creating DQ element.\n"
     ]
    },
    {
     "name": "stderr",
     "output_type": "stream",
     "text": [
      "WARNING:UFL:Discontinuous Lagrange element requested on hexahedron, creating DQ element.\n"
     ]
    },
    {
     "name": "stdout",
     "output_type": "stream",
     "text": [
      "Discontinuous Lagrange element requested on hexahedron, creating DQ element.\n"
     ]
    },
    {
     "name": "stderr",
     "output_type": "stream",
     "text": [
      "WARNING:UFL:Discontinuous Lagrange element requested on hexahedron, creating DQ element.\n"
     ]
    },
    {
     "name": "stdout",
     "output_type": "stream",
     "text": [
      "Discontinuous Lagrange element requested on hexahedron, creating DQ element.\n"
     ]
    },
    {
     "name": "stderr",
     "output_type": "stream",
     "text": [
      "WARNING:UFL:Discontinuous Lagrange element requested on hexahedron, creating DQ element.\n"
     ]
    },
    {
     "name": "stdout",
     "output_type": "stream",
     "text": [
      "Discontinuous Lagrange element requested on hexahedron, creating DQ element.\n"
     ]
    },
    {
     "name": "stderr",
     "output_type": "stream",
     "text": [
      "WARNING:UFL:Discontinuous Lagrange element requested on hexahedron, creating DQ element.\n"
     ]
    },
    {
     "name": "stdout",
     "output_type": "stream",
     "text": [
      "Discontinuous Lagrange element requested on hexahedron, creating DQ element.\n"
     ]
    },
    {
     "name": "stderr",
     "output_type": "stream",
     "text": [
      "WARNING:UFL:Discontinuous Lagrange element requested on hexahedron, creating DQ element.\n"
     ]
    },
    {
     "name": "stdout",
     "output_type": "stream",
     "text": [
      "Discontinuous Lagrange element requested on hexahedron, creating DQ element.\n"
     ]
    },
    {
     "name": "stderr",
     "output_type": "stream",
     "text": [
      "WARNING:UFL:Discontinuous Lagrange element requested on hexahedron, creating DQ element.\n"
     ]
    },
    {
     "name": "stdout",
     "output_type": "stream",
     "text": [
      "Discontinuous Lagrange element requested on hexahedron, creating DQ element.\n"
     ]
    },
    {
     "name": "stderr",
     "output_type": "stream",
     "text": [
      "WARNING:UFL:Discontinuous Lagrange element requested on hexahedron, creating DQ element.\n"
     ]
    },
    {
     "name": "stdout",
     "output_type": "stream",
     "text": [
      "Discontinuous Lagrange element requested on hexahedron, creating DQ element.\n"
     ]
    },
    {
     "name": "stderr",
     "output_type": "stream",
     "text": [
      "WARNING:UFL:Discontinuous Lagrange element requested on hexahedron, creating DQ element.\n"
     ]
    },
    {
     "name": "stdout",
     "output_type": "stream",
     "text": [
      "Discontinuous Lagrange element requested on hexahedron, creating DQ element.\n"
     ]
    },
    {
     "name": "stderr",
     "output_type": "stream",
     "text": [
      "WARNING:UFL:Discontinuous Lagrange element requested on hexahedron, creating DQ element.\n"
     ]
    },
    {
     "name": "stdout",
     "output_type": "stream",
     "text": [
      "Discontinuous Lagrange element requested on hexahedron, creating DQ element.\n"
     ]
    },
    {
     "name": "stderr",
     "output_type": "stream",
     "text": [
      "WARNING:UFL:Discontinuous Lagrange element requested on hexahedron, creating DQ element.\n"
     ]
    },
    {
     "name": "stdout",
     "output_type": "stream",
     "text": [
      "Discontinuous Lagrange element requested on hexahedron, creating DQ element.\n"
     ]
    },
    {
     "name": "stderr",
     "output_type": "stream",
     "text": [
      "WARNING:UFL:Discontinuous Lagrange element requested on hexahedron, creating DQ element.\n"
     ]
    },
    {
     "name": "stdout",
     "output_type": "stream",
     "text": [
      "Discontinuous Lagrange element requested on hexahedron, creating DQ element.\n"
     ]
    },
    {
     "name": "stderr",
     "output_type": "stream",
     "text": [
      "WARNING:UFL:Discontinuous Lagrange element requested on hexahedron, creating DQ element.\n"
     ]
    },
    {
     "name": "stdout",
     "output_type": "stream",
     "text": [
      "Discontinuous Lagrange element requested on hexahedron, creating DQ element.\n"
     ]
    },
    {
     "name": "stderr",
     "output_type": "stream",
     "text": [
      "WARNING:UFL:Discontinuous Lagrange element requested on hexahedron, creating DQ element.\n"
     ]
    },
    {
     "name": "stdout",
     "output_type": "stream",
     "text": [
      "Discontinuous Lagrange element requested on hexahedron, creating DQ element.\n"
     ]
    },
    {
     "name": "stderr",
     "output_type": "stream",
     "text": [
      "WARNING:UFL:Discontinuous Lagrange element requested on hexahedron, creating DQ element.\n"
     ]
    },
    {
     "name": "stdout",
     "output_type": "stream",
     "text": [
      "Discontinuous Lagrange element requested on hexahedron, creating DQ element.\n"
     ]
    },
    {
     "name": "stderr",
     "output_type": "stream",
     "text": [
      "WARNING:UFL:Discontinuous Lagrange element requested on hexahedron, creating DQ element.\n"
     ]
    },
    {
     "name": "stdout",
     "output_type": "stream",
     "text": [
      "Discontinuous Lagrange element requested on hexahedron, creating DQ element.\n"
     ]
    },
    {
     "name": "stderr",
     "output_type": "stream",
     "text": [
      "WARNING:UFL:Discontinuous Lagrange element requested on hexahedron, creating DQ element.\n"
     ]
    },
    {
     "name": "stdout",
     "output_type": "stream",
     "text": [
      "Discontinuous Lagrange element requested on hexahedron, creating DQ element.\n"
     ]
    },
    {
     "name": "stderr",
     "output_type": "stream",
     "text": [
      "WARNING:UFL:Discontinuous Lagrange element requested on hexahedron, creating DQ element.\n"
     ]
    },
    {
     "name": "stdout",
     "output_type": "stream",
     "text": [
      "Discontinuous Lagrange element requested on hexahedron, creating DQ element.\n"
     ]
    },
    {
     "name": "stderr",
     "output_type": "stream",
     "text": [
      "WARNING:UFL:Discontinuous Lagrange element requested on hexahedron, creating DQ element.\n"
     ]
    },
    {
     "name": "stdout",
     "output_type": "stream",
     "text": [
      "Discontinuous Lagrange element requested on hexahedron, creating DQ element.\n"
     ]
    },
    {
     "name": "stderr",
     "output_type": "stream",
     "text": [
      "WARNING:UFL:Discontinuous Lagrange element requested on hexahedron, creating DQ element.\n"
     ]
    },
    {
     "name": "stdout",
     "output_type": "stream",
     "text": [
      "Discontinuous Lagrange element requested on hexahedron, creating DQ element.\n"
     ]
    },
    {
     "name": "stderr",
     "output_type": "stream",
     "text": [
      "WARNING:UFL:Discontinuous Lagrange element requested on hexahedron, creating DQ element.\n"
     ]
    },
    {
     "name": "stdout",
     "output_type": "stream",
     "text": [
      "Discontinuous Lagrange element requested on hexahedron, creating DQ element.\n"
     ]
    },
    {
     "name": "stderr",
     "output_type": "stream",
     "text": [
      "WARNING:UFL:Discontinuous Lagrange element requested on hexahedron, creating DQ element.\n"
     ]
    },
    {
     "name": "stdout",
     "output_type": "stream",
     "text": [
      "Discontinuous Lagrange element requested on hexahedron, creating DQ element.\n"
     ]
    },
    {
     "name": "stderr",
     "output_type": "stream",
     "text": [
      "WARNING:UFL:Discontinuous Lagrange element requested on hexahedron, creating DQ element.\n"
     ]
    },
    {
     "name": "stdout",
     "output_type": "stream",
     "text": [
      "Discontinuous Lagrange element requested on hexahedron, creating DQ element.\n"
     ]
    },
    {
     "name": "stderr",
     "output_type": "stream",
     "text": [
      "WARNING:UFL:Discontinuous Lagrange element requested on hexahedron, creating DQ element.\n"
     ]
    },
    {
     "name": "stdout",
     "output_type": "stream",
     "text": [
      "Discontinuous Lagrange element requested on hexahedron, creating DQ element.\n"
     ]
    },
    {
     "name": "stderr",
     "output_type": "stream",
     "text": [
      "WARNING:UFL:Discontinuous Lagrange element requested on hexahedron, creating DQ element.\n"
     ]
    },
    {
     "name": "stdout",
     "output_type": "stream",
     "text": [
      "Discontinuous Lagrange element requested on hexahedron, creating DQ element.\n"
     ]
    },
    {
     "name": "stderr",
     "output_type": "stream",
     "text": [
      "WARNING:UFL:Discontinuous Lagrange element requested on hexahedron, creating DQ element.\n"
     ]
    },
    {
     "name": "stdout",
     "output_type": "stream",
     "text": [
      "Discontinuous Lagrange element requested on hexahedron, creating DQ element.\n"
     ]
    },
    {
     "name": "stderr",
     "output_type": "stream",
     "text": [
      "WARNING:UFL:Discontinuous Lagrange element requested on hexahedron, creating DQ element.\n"
     ]
    },
    {
     "name": "stdout",
     "output_type": "stream",
     "text": [
      "Discontinuous Lagrange element requested on hexahedron, creating DQ element.\n"
     ]
    },
    {
     "name": "stderr",
     "output_type": "stream",
     "text": [
      "WARNING:UFL:Discontinuous Lagrange element requested on hexahedron, creating DQ element.\n"
     ]
    },
    {
     "name": "stdout",
     "output_type": "stream",
     "text": [
      "Discontinuous Lagrange element requested on hexahedron, creating DQ element.\n"
     ]
    },
    {
     "name": "stderr",
     "output_type": "stream",
     "text": [
      "WARNING:UFL:Discontinuous Lagrange element requested on hexahedron, creating DQ element.\n"
     ]
    },
    {
     "name": "stdout",
     "output_type": "stream",
     "text": [
      "Discontinuous Lagrange element requested on hexahedron, creating DQ element.\n"
     ]
    },
    {
     "name": "stderr",
     "output_type": "stream",
     "text": [
      "WARNING:UFL:Discontinuous Lagrange element requested on hexahedron, creating DQ element.\n"
     ]
    },
    {
     "name": "stdout",
     "output_type": "stream",
     "text": [
      "Discontinuous Lagrange element requested on hexahedron, creating DQ element.\n"
     ]
    },
    {
     "name": "stderr",
     "output_type": "stream",
     "text": [
      "WARNING:UFL:Discontinuous Lagrange element requested on hexahedron, creating DQ element.\n"
     ]
    },
    {
     "name": "stdout",
     "output_type": "stream",
     "text": [
      "Discontinuous Lagrange element requested on hexahedron, creating DQ element.\n"
     ]
    },
    {
     "name": "stderr",
     "output_type": "stream",
     "text": [
      "WARNING:UFL:Discontinuous Lagrange element requested on hexahedron, creating DQ element.\n"
     ]
    },
    {
     "name": "stdout",
     "output_type": "stream",
     "text": [
      "Discontinuous Lagrange element requested on hexahedron, creating DQ element.\n"
     ]
    },
    {
     "name": "stderr",
     "output_type": "stream",
     "text": [
      "WARNING:UFL:Discontinuous Lagrange element requested on hexahedron, creating DQ element.\n"
     ]
    },
    {
     "name": "stdout",
     "output_type": "stream",
     "text": [
      "Discontinuous Lagrange element requested on hexahedron, creating DQ element.\n"
     ]
    },
    {
     "name": "stderr",
     "output_type": "stream",
     "text": [
      "WARNING:UFL:Discontinuous Lagrange element requested on hexahedron, creating DQ element.\n"
     ]
    },
    {
     "name": "stdout",
     "output_type": "stream",
     "text": [
      "Discontinuous Lagrange element requested on hexahedron, creating DQ element.\n"
     ]
    },
    {
     "name": "stderr",
     "output_type": "stream",
     "text": [
      "WARNING:UFL:Discontinuous Lagrange element requested on hexahedron, creating DQ element.\n"
     ]
    },
    {
     "name": "stdout",
     "output_type": "stream",
     "text": [
      "Discontinuous Lagrange element requested on hexahedron, creating DQ element.\n"
     ]
    },
    {
     "name": "stderr",
     "output_type": "stream",
     "text": [
      "WARNING:UFL:Discontinuous Lagrange element requested on hexahedron, creating DQ element.\n"
     ]
    },
    {
     "name": "stdout",
     "output_type": "stream",
     "text": [
      "Discontinuous Lagrange element requested on hexahedron, creating DQ element.\n"
     ]
    },
    {
     "name": "stderr",
     "output_type": "stream",
     "text": [
      "WARNING:UFL:Discontinuous Lagrange element requested on hexahedron, creating DQ element.\n"
     ]
    },
    {
     "name": "stdout",
     "output_type": "stream",
     "text": [
      "Discontinuous Lagrange element requested on hexahedron, creating DQ element.\n"
     ]
    },
    {
     "name": "stderr",
     "output_type": "stream",
     "text": [
      "WARNING:UFL:Discontinuous Lagrange element requested on hexahedron, creating DQ element.\n"
     ]
    },
    {
     "name": "stdout",
     "output_type": "stream",
     "text": [
      "Discontinuous Lagrange element requested on hexahedron, creating DQ element.\n"
     ]
    },
    {
     "name": "stderr",
     "output_type": "stream",
     "text": [
      "WARNING:UFL:Discontinuous Lagrange element requested on hexahedron, creating DQ element.\n"
     ]
    },
    {
     "name": "stdout",
     "output_type": "stream",
     "text": [
      "Discontinuous Lagrange element requested on hexahedron, creating DQ element.\n"
     ]
    },
    {
     "name": "stderr",
     "output_type": "stream",
     "text": [
      "WARNING:UFL:Discontinuous Lagrange element requested on hexahedron, creating DQ element.\n"
     ]
    },
    {
     "name": "stdout",
     "output_type": "stream",
     "text": [
      "Discontinuous Lagrange element requested on hexahedron, creating DQ element.\n"
     ]
    },
    {
     "name": "stderr",
     "output_type": "stream",
     "text": [
      "WARNING:UFL:Discontinuous Lagrange element requested on hexahedron, creating DQ element.\n"
     ]
    },
    {
     "name": "stdout",
     "output_type": "stream",
     "text": [
      "Discontinuous Lagrange element requested on hexahedron, creating DQ element.\n"
     ]
    },
    {
     "name": "stderr",
     "output_type": "stream",
     "text": [
      "WARNING:UFL:Discontinuous Lagrange element requested on hexahedron, creating DQ element.\n"
     ]
    },
    {
     "name": "stdout",
     "output_type": "stream",
     "text": [
      "Discontinuous Lagrange element requested on hexahedron, creating DQ element.\n"
     ]
    },
    {
     "name": "stderr",
     "output_type": "stream",
     "text": [
      "WARNING:UFL:Discontinuous Lagrange element requested on hexahedron, creating DQ element.\n"
     ]
    },
    {
     "name": "stdout",
     "output_type": "stream",
     "text": [
      "Discontinuous Lagrange element requested on hexahedron, creating DQ element.\n"
     ]
    },
    {
     "name": "stderr",
     "output_type": "stream",
     "text": [
      "WARNING:UFL:Discontinuous Lagrange element requested on hexahedron, creating DQ element.\n"
     ]
    },
    {
     "name": "stdout",
     "output_type": "stream",
     "text": [
      "Discontinuous Lagrange element requested on hexahedron, creating DQ element.\n"
     ]
    },
    {
     "name": "stderr",
     "output_type": "stream",
     "text": [
      "WARNING:UFL:Discontinuous Lagrange element requested on hexahedron, creating DQ element.\n"
     ]
    },
    {
     "name": "stdout",
     "output_type": "stream",
     "text": [
      "Discontinuous Lagrange element requested on hexahedron, creating DQ element.\n"
     ]
    },
    {
     "name": "stderr",
     "output_type": "stream",
     "text": [
      "WARNING:UFL:Discontinuous Lagrange element requested on hexahedron, creating DQ element.\n"
     ]
    },
    {
     "name": "stdout",
     "output_type": "stream",
     "text": [
      "Discontinuous Lagrange element requested on hexahedron, creating DQ element.\n"
     ]
    },
    {
     "name": "stderr",
     "output_type": "stream",
     "text": [
      "WARNING:UFL:Discontinuous Lagrange element requested on hexahedron, creating DQ element.\n"
     ]
    },
    {
     "name": "stdout",
     "output_type": "stream",
     "text": [
      "Discontinuous Lagrange element requested on hexahedron, creating DQ element.\n"
     ]
    },
    {
     "name": "stderr",
     "output_type": "stream",
     "text": [
      "WARNING:UFL:Discontinuous Lagrange element requested on hexahedron, creating DQ element.\n"
     ]
    },
    {
     "name": "stdout",
     "output_type": "stream",
     "text": [
      "Discontinuous Lagrange element requested on hexahedron, creating DQ element.\n"
     ]
    },
    {
     "name": "stderr",
     "output_type": "stream",
     "text": [
      "WARNING:UFL:Discontinuous Lagrange element requested on hexahedron, creating DQ element.\n"
     ]
    },
    {
     "name": "stdout",
     "output_type": "stream",
     "text": [
      "Discontinuous Lagrange element requested on hexahedron, creating DQ element.\n"
     ]
    },
    {
     "name": "stderr",
     "output_type": "stream",
     "text": [
      "WARNING:UFL:Discontinuous Lagrange element requested on hexahedron, creating DQ element.\n"
     ]
    },
    {
     "name": "stdout",
     "output_type": "stream",
     "text": [
      "Discontinuous Lagrange element requested on hexahedron, creating DQ element.\n"
     ]
    },
    {
     "name": "stderr",
     "output_type": "stream",
     "text": [
      "WARNING:UFL:Discontinuous Lagrange element requested on hexahedron, creating DQ element.\n"
     ]
    },
    {
     "name": "stdout",
     "output_type": "stream",
     "text": [
      "Discontinuous Lagrange element requested on hexahedron, creating DQ element.\n"
     ]
    },
    {
     "name": "stderr",
     "output_type": "stream",
     "text": [
      "WARNING:UFL:Discontinuous Lagrange element requested on hexahedron, creating DQ element.\n"
     ]
    },
    {
     "name": "stdout",
     "output_type": "stream",
     "text": [
      "Discontinuous Lagrange element requested on hexahedron, creating DQ element.\n"
     ]
    },
    {
     "name": "stderr",
     "output_type": "stream",
     "text": [
      "WARNING:UFL:Discontinuous Lagrange element requested on hexahedron, creating DQ element.\n"
     ]
    },
    {
     "name": "stdout",
     "output_type": "stream",
     "text": [
      "Discontinuous Lagrange element requested on hexahedron, creating DQ element.\n"
     ]
    },
    {
     "name": "stderr",
     "output_type": "stream",
     "text": [
      "WARNING:UFL:Discontinuous Lagrange element requested on hexahedron, creating DQ element.\n"
     ]
    },
    {
     "name": "stdout",
     "output_type": "stream",
     "text": [
      "Discontinuous Lagrange element requested on hexahedron, creating DQ element.\n"
     ]
    },
    {
     "name": "stderr",
     "output_type": "stream",
     "text": [
      "WARNING:UFL:Discontinuous Lagrange element requested on hexahedron, creating DQ element.\n"
     ]
    },
    {
     "name": "stdout",
     "output_type": "stream",
     "text": [
      "Discontinuous Lagrange element requested on hexahedron, creating DQ element.\n"
     ]
    },
    {
     "name": "stderr",
     "output_type": "stream",
     "text": [
      "WARNING:UFL:Discontinuous Lagrange element requested on hexahedron, creating DQ element.\n"
     ]
    },
    {
     "name": "stdout",
     "output_type": "stream",
     "text": [
      "Discontinuous Lagrange element requested on hexahedron, creating DQ element.\n"
     ]
    },
    {
     "name": "stderr",
     "output_type": "stream",
     "text": [
      "WARNING:UFL:Discontinuous Lagrange element requested on hexahedron, creating DQ element.\n"
     ]
    },
    {
     "name": "stdout",
     "output_type": "stream",
     "text": [
      "Discontinuous Lagrange element requested on hexahedron, creating DQ element.\n"
     ]
    },
    {
     "name": "stderr",
     "output_type": "stream",
     "text": [
      "WARNING:UFL:Discontinuous Lagrange element requested on hexahedron, creating DQ element.\n"
     ]
    },
    {
     "name": "stdout",
     "output_type": "stream",
     "text": [
      "Discontinuous Lagrange element requested on hexahedron, creating DQ element.\n"
     ]
    },
    {
     "name": "stderr",
     "output_type": "stream",
     "text": [
      "WARNING:UFL:Discontinuous Lagrange element requested on hexahedron, creating DQ element.\n"
     ]
    },
    {
     "name": "stdout",
     "output_type": "stream",
     "text": [
      "Discontinuous Lagrange element requested on hexahedron, creating DQ element.\n"
     ]
    },
    {
     "name": "stderr",
     "output_type": "stream",
     "text": [
      "WARNING:UFL:Discontinuous Lagrange element requested on hexahedron, creating DQ element.\n"
     ]
    },
    {
     "name": "stdout",
     "output_type": "stream",
     "text": [
      "Discontinuous Lagrange element requested on hexahedron, creating DQ element.\n"
     ]
    },
    {
     "name": "stderr",
     "output_type": "stream",
     "text": [
      "WARNING:UFL:Discontinuous Lagrange element requested on hexahedron, creating DQ element.\n"
     ]
    },
    {
     "name": "stdout",
     "output_type": "stream",
     "text": [
      "Discontinuous Lagrange element requested on hexahedron, creating DQ element.\n"
     ]
    },
    {
     "name": "stderr",
     "output_type": "stream",
     "text": [
      "WARNING:UFL:Discontinuous Lagrange element requested on hexahedron, creating DQ element.\n"
     ]
    },
    {
     "name": "stdout",
     "output_type": "stream",
     "text": [
      "Discontinuous Lagrange element requested on hexahedron, creating DQ element.\n"
     ]
    },
    {
     "name": "stderr",
     "output_type": "stream",
     "text": [
      "WARNING:UFL:Discontinuous Lagrange element requested on hexahedron, creating DQ element.\n"
     ]
    },
    {
     "name": "stdout",
     "output_type": "stream",
     "text": [
      "Discontinuous Lagrange element requested on hexahedron, creating DQ element.\n"
     ]
    },
    {
     "name": "stderr",
     "output_type": "stream",
     "text": [
      "WARNING:UFL:Discontinuous Lagrange element requested on hexahedron, creating DQ element.\n"
     ]
    },
    {
     "name": "stdout",
     "output_type": "stream",
     "text": [
      "Discontinuous Lagrange element requested on hexahedron, creating DQ element.\n"
     ]
    },
    {
     "name": "stderr",
     "output_type": "stream",
     "text": [
      "WARNING:UFL:Discontinuous Lagrange element requested on hexahedron, creating DQ element.\n"
     ]
    },
    {
     "name": "stdout",
     "output_type": "stream",
     "text": [
      "Discontinuous Lagrange element requested on hexahedron, creating DQ element.\n"
     ]
    },
    {
     "name": "stderr",
     "output_type": "stream",
     "text": [
      "WARNING:UFL:Discontinuous Lagrange element requested on hexahedron, creating DQ element.\n"
     ]
    },
    {
     "name": "stdout",
     "output_type": "stream",
     "text": [
      "Discontinuous Lagrange element requested on hexahedron, creating DQ element.\n"
     ]
    },
    {
     "name": "stderr",
     "output_type": "stream",
     "text": [
      "WARNING:UFL:Discontinuous Lagrange element requested on hexahedron, creating DQ element.\n"
     ]
    },
    {
     "name": "stdout",
     "output_type": "stream",
     "text": [
      "Discontinuous Lagrange element requested on hexahedron, creating DQ element.\n"
     ]
    },
    {
     "name": "stderr",
     "output_type": "stream",
     "text": [
      "WARNING:UFL:Discontinuous Lagrange element requested on hexahedron, creating DQ element.\n"
     ]
    },
    {
     "name": "stdout",
     "output_type": "stream",
     "text": [
      "Discontinuous Lagrange element requested on hexahedron, creating DQ element.\n"
     ]
    },
    {
     "name": "stderr",
     "output_type": "stream",
     "text": [
      "WARNING:UFL:Discontinuous Lagrange element requested on hexahedron, creating DQ element.\n"
     ]
    },
    {
     "name": "stdout",
     "output_type": "stream",
     "text": [
      "Discontinuous Lagrange element requested on hexahedron, creating DQ element.\n"
     ]
    },
    {
     "name": "stderr",
     "output_type": "stream",
     "text": [
      "WARNING:UFL:Discontinuous Lagrange element requested on hexahedron, creating DQ element.\n"
     ]
    },
    {
     "name": "stdout",
     "output_type": "stream",
     "text": [
      "Discontinuous Lagrange element requested on hexahedron, creating DQ element.\n"
     ]
    },
    {
     "name": "stderr",
     "output_type": "stream",
     "text": [
      "WARNING:UFL:Discontinuous Lagrange element requested on hexahedron, creating DQ element.\n"
     ]
    },
    {
     "name": "stdout",
     "output_type": "stream",
     "text": [
      "Discontinuous Lagrange element requested on hexahedron, creating DQ element.\n"
     ]
    },
    {
     "name": "stderr",
     "output_type": "stream",
     "text": [
      "WARNING:UFL:Discontinuous Lagrange element requested on hexahedron, creating DQ element.\n"
     ]
    },
    {
     "name": "stdout",
     "output_type": "stream",
     "text": [
      "Discontinuous Lagrange element requested on hexahedron, creating DQ element.\n"
     ]
    },
    {
     "name": "stderr",
     "output_type": "stream",
     "text": [
      "WARNING:UFL:Discontinuous Lagrange element requested on hexahedron, creating DQ element.\n"
     ]
    },
    {
     "name": "stdout",
     "output_type": "stream",
     "text": [
      "Discontinuous Lagrange element requested on hexahedron, creating DQ element.\n"
     ]
    },
    {
     "name": "stderr",
     "output_type": "stream",
     "text": [
      "WARNING:UFL:Discontinuous Lagrange element requested on hexahedron, creating DQ element.\n"
     ]
    },
    {
     "name": "stdout",
     "output_type": "stream",
     "text": [
      "Discontinuous Lagrange element requested on hexahedron, creating DQ element.\n"
     ]
    },
    {
     "name": "stderr",
     "output_type": "stream",
     "text": [
      "WARNING:UFL:Discontinuous Lagrange element requested on hexahedron, creating DQ element.\n"
     ]
    },
    {
     "name": "stdout",
     "output_type": "stream",
     "text": [
      "Discontinuous Lagrange element requested on hexahedron, creating DQ element.\n"
     ]
    },
    {
     "name": "stderr",
     "output_type": "stream",
     "text": [
      "WARNING:UFL:Discontinuous Lagrange element requested on hexahedron, creating DQ element.\n"
     ]
    },
    {
     "name": "stdout",
     "output_type": "stream",
     "text": [
      "Discontinuous Lagrange element requested on hexahedron, creating DQ element.\n"
     ]
    },
    {
     "name": "stderr",
     "output_type": "stream",
     "text": [
      "WARNING:UFL:Discontinuous Lagrange element requested on hexahedron, creating DQ element.\n"
     ]
    },
    {
     "name": "stdout",
     "output_type": "stream",
     "text": [
      "Discontinuous Lagrange element requested on hexahedron, creating DQ element.\n"
     ]
    },
    {
     "name": "stderr",
     "output_type": "stream",
     "text": [
      "WARNING:UFL:Discontinuous Lagrange element requested on hexahedron, creating DQ element.\n"
     ]
    },
    {
     "name": "stdout",
     "output_type": "stream",
     "text": [
      "Discontinuous Lagrange element requested on hexahedron, creating DQ element.\n"
     ]
    },
    {
     "name": "stderr",
     "output_type": "stream",
     "text": [
      "WARNING:UFL:Discontinuous Lagrange element requested on hexahedron, creating DQ element.\n"
     ]
    },
    {
     "name": "stdout",
     "output_type": "stream",
     "text": [
      "Discontinuous Lagrange element requested on hexahedron, creating DQ element.\n"
     ]
    },
    {
     "name": "stderr",
     "output_type": "stream",
     "text": [
      "WARNING:UFL:Discontinuous Lagrange element requested on hexahedron, creating DQ element.\n"
     ]
    },
    {
     "name": "stdout",
     "output_type": "stream",
     "text": [
      "Discontinuous Lagrange element requested on hexahedron, creating DQ element.\n"
     ]
    },
    {
     "name": "stderr",
     "output_type": "stream",
     "text": [
      "WARNING:UFL:Discontinuous Lagrange element requested on hexahedron, creating DQ element.\n"
     ]
    },
    {
     "name": "stdout",
     "output_type": "stream",
     "text": [
      "Discontinuous Lagrange element requested on hexahedron, creating DQ element.\n"
     ]
    },
    {
     "name": "stderr",
     "output_type": "stream",
     "text": [
      "WARNING:UFL:Discontinuous Lagrange element requested on hexahedron, creating DQ element.\n"
     ]
    },
    {
     "name": "stdout",
     "output_type": "stream",
     "text": [
      "Discontinuous Lagrange element requested on hexahedron, creating DQ element.\n"
     ]
    },
    {
     "name": "stderr",
     "output_type": "stream",
     "text": [
      "WARNING:UFL:Discontinuous Lagrange element requested on hexahedron, creating DQ element.\n"
     ]
    },
    {
     "name": "stdout",
     "output_type": "stream",
     "text": [
      "Discontinuous Lagrange element requested on hexahedron, creating DQ element.\n"
     ]
    },
    {
     "name": "stderr",
     "output_type": "stream",
     "text": [
      "WARNING:UFL:Discontinuous Lagrange element requested on hexahedron, creating DQ element.\n"
     ]
    },
    {
     "name": "stdout",
     "output_type": "stream",
     "text": [
      "Discontinuous Lagrange element requested on hexahedron, creating DQ element.\n"
     ]
    },
    {
     "name": "stderr",
     "output_type": "stream",
     "text": [
      "WARNING:UFL:Discontinuous Lagrange element requested on hexahedron, creating DQ element.\n"
     ]
    },
    {
     "name": "stdout",
     "output_type": "stream",
     "text": [
      "Discontinuous Lagrange element requested on hexahedron, creating DQ element.\n"
     ]
    },
    {
     "name": "stderr",
     "output_type": "stream",
     "text": [
      "WARNING:UFL:Discontinuous Lagrange element requested on hexahedron, creating DQ element.\n"
     ]
    },
    {
     "name": "stdout",
     "output_type": "stream",
     "text": [
      "Discontinuous Lagrange element requested on hexahedron, creating DQ element.\n"
     ]
    },
    {
     "name": "stderr",
     "output_type": "stream",
     "text": [
      "WARNING:UFL:Discontinuous Lagrange element requested on hexahedron, creating DQ element.\n"
     ]
    },
    {
     "name": "stdout",
     "output_type": "stream",
     "text": [
      "Discontinuous Lagrange element requested on hexahedron, creating DQ element.\n"
     ]
    },
    {
     "name": "stderr",
     "output_type": "stream",
     "text": [
      "WARNING:UFL:Discontinuous Lagrange element requested on hexahedron, creating DQ element.\n"
     ]
    },
    {
     "name": "stdout",
     "output_type": "stream",
     "text": [
      "Discontinuous Lagrange element requested on hexahedron, creating DQ element.\n"
     ]
    },
    {
     "name": "stderr",
     "output_type": "stream",
     "text": [
      "WARNING:UFL:Discontinuous Lagrange element requested on hexahedron, creating DQ element.\n"
     ]
    },
    {
     "name": "stdout",
     "output_type": "stream",
     "text": [
      "Discontinuous Lagrange element requested on hexahedron, creating DQ element.\n"
     ]
    },
    {
     "name": "stderr",
     "output_type": "stream",
     "text": [
      "WARNING:UFL:Discontinuous Lagrange element requested on hexahedron, creating DQ element.\n"
     ]
    },
    {
     "name": "stdout",
     "output_type": "stream",
     "text": [
      "Discontinuous Lagrange element requested on hexahedron, creating DQ element.\n"
     ]
    },
    {
     "name": "stderr",
     "output_type": "stream",
     "text": [
      "WARNING:UFL:Discontinuous Lagrange element requested on hexahedron, creating DQ element.\n"
     ]
    },
    {
     "name": "stdout",
     "output_type": "stream",
     "text": [
      "Discontinuous Lagrange element requested on hexahedron, creating DQ element.\n"
     ]
    },
    {
     "name": "stderr",
     "output_type": "stream",
     "text": [
      "WARNING:UFL:Discontinuous Lagrange element requested on hexahedron, creating DQ element.\n"
     ]
    },
    {
     "name": "stdout",
     "output_type": "stream",
     "text": [
      "Discontinuous Lagrange element requested on hexahedron, creating DQ element.\n"
     ]
    },
    {
     "name": "stderr",
     "output_type": "stream",
     "text": [
      "WARNING:UFL:Discontinuous Lagrange element requested on hexahedron, creating DQ element.\n"
     ]
    },
    {
     "name": "stdout",
     "output_type": "stream",
     "text": [
      "Discontinuous Lagrange element requested on hexahedron, creating DQ element.\n"
     ]
    },
    {
     "name": "stderr",
     "output_type": "stream",
     "text": [
      "WARNING:UFL:Discontinuous Lagrange element requested on hexahedron, creating DQ element.\n"
     ]
    },
    {
     "name": "stdout",
     "output_type": "stream",
     "text": [
      "Discontinuous Lagrange element requested on hexahedron, creating DQ element.\n"
     ]
    },
    {
     "name": "stderr",
     "output_type": "stream",
     "text": [
      "WARNING:UFL:Discontinuous Lagrange element requested on hexahedron, creating DQ element.\n"
     ]
    },
    {
     "name": "stdout",
     "output_type": "stream",
     "text": [
      "Discontinuous Lagrange element requested on hexahedron, creating DQ element.\n"
     ]
    },
    {
     "name": "stderr",
     "output_type": "stream",
     "text": [
      "WARNING:UFL:Discontinuous Lagrange element requested on hexahedron, creating DQ element.\n"
     ]
    },
    {
     "name": "stdout",
     "output_type": "stream",
     "text": [
      "Discontinuous Lagrange element requested on hexahedron, creating DQ element.\n"
     ]
    },
    {
     "name": "stderr",
     "output_type": "stream",
     "text": [
      "WARNING:UFL:Discontinuous Lagrange element requested on hexahedron, creating DQ element.\n"
     ]
    },
    {
     "name": "stdout",
     "output_type": "stream",
     "text": [
      "Discontinuous Lagrange element requested on hexahedron, creating DQ element.\n"
     ]
    },
    {
     "name": "stderr",
     "output_type": "stream",
     "text": [
      "WARNING:UFL:Discontinuous Lagrange element requested on hexahedron, creating DQ element.\n"
     ]
    },
    {
     "name": "stdout",
     "output_type": "stream",
     "text": [
      "Discontinuous Lagrange element requested on hexahedron, creating DQ element.\n"
     ]
    },
    {
     "name": "stderr",
     "output_type": "stream",
     "text": [
      "WARNING:UFL:Discontinuous Lagrange element requested on hexahedron, creating DQ element.\n"
     ]
    },
    {
     "name": "stdout",
     "output_type": "stream",
     "text": [
      "Discontinuous Lagrange element requested on hexahedron, creating DQ element.\n"
     ]
    },
    {
     "name": "stderr",
     "output_type": "stream",
     "text": [
      "WARNING:UFL:Discontinuous Lagrange element requested on hexahedron, creating DQ element.\n"
     ]
    },
    {
     "name": "stdout",
     "output_type": "stream",
     "text": [
      "Discontinuous Lagrange element requested on hexahedron, creating DQ element.\n"
     ]
    },
    {
     "name": "stderr",
     "output_type": "stream",
     "text": [
      "WARNING:UFL:Discontinuous Lagrange element requested on hexahedron, creating DQ element.\n"
     ]
    },
    {
     "name": "stdout",
     "output_type": "stream",
     "text": [
      "Discontinuous Lagrange element requested on hexahedron, creating DQ element.\n"
     ]
    },
    {
     "name": "stderr",
     "output_type": "stream",
     "text": [
      "WARNING:UFL:Discontinuous Lagrange element requested on hexahedron, creating DQ element.\n"
     ]
    },
    {
     "name": "stdout",
     "output_type": "stream",
     "text": [
      "Discontinuous Lagrange element requested on hexahedron, creating DQ element.\n"
     ]
    },
    {
     "name": "stderr",
     "output_type": "stream",
     "text": [
      "WARNING:UFL:Discontinuous Lagrange element requested on hexahedron, creating DQ element.\n"
     ]
    },
    {
     "name": "stdout",
     "output_type": "stream",
     "text": [
      "Discontinuous Lagrange element requested on hexahedron, creating DQ element.\n"
     ]
    },
    {
     "name": "stderr",
     "output_type": "stream",
     "text": [
      "WARNING:UFL:Discontinuous Lagrange element requested on hexahedron, creating DQ element.\n"
     ]
    },
    {
     "name": "stdout",
     "output_type": "stream",
     "text": [
      "Discontinuous Lagrange element requested on hexahedron, creating DQ element.\n"
     ]
    },
    {
     "name": "stderr",
     "output_type": "stream",
     "text": [
      "WARNING:UFL:Discontinuous Lagrange element requested on hexahedron, creating DQ element.\n"
     ]
    },
    {
     "name": "stdout",
     "output_type": "stream",
     "text": [
      "Discontinuous Lagrange element requested on hexahedron, creating DQ element.\n"
     ]
    },
    {
     "name": "stderr",
     "output_type": "stream",
     "text": [
      "WARNING:UFL:Discontinuous Lagrange element requested on hexahedron, creating DQ element.\n"
     ]
    },
    {
     "name": "stdout",
     "output_type": "stream",
     "text": [
      "Discontinuous Lagrange element requested on hexahedron, creating DQ element.\n"
     ]
    },
    {
     "name": "stderr",
     "output_type": "stream",
     "text": [
      "WARNING:UFL:Discontinuous Lagrange element requested on hexahedron, creating DQ element.\n"
     ]
    },
    {
     "name": "stdout",
     "output_type": "stream",
     "text": [
      "Discontinuous Lagrange element requested on hexahedron, creating DQ element.\n"
     ]
    },
    {
     "name": "stderr",
     "output_type": "stream",
     "text": [
      "WARNING:UFL:Discontinuous Lagrange element requested on hexahedron, creating DQ element.\n"
     ]
    },
    {
     "name": "stdout",
     "output_type": "stream",
     "text": [
      "Discontinuous Lagrange element requested on hexahedron, creating DQ element.\n"
     ]
    },
    {
     "name": "stderr",
     "output_type": "stream",
     "text": [
      "WARNING:UFL:Discontinuous Lagrange element requested on hexahedron, creating DQ element.\n"
     ]
    },
    {
     "name": "stdout",
     "output_type": "stream",
     "text": [
      "Discontinuous Lagrange element requested on hexahedron, creating DQ element.\n"
     ]
    },
    {
     "name": "stderr",
     "output_type": "stream",
     "text": [
      "WARNING:UFL:Discontinuous Lagrange element requested on hexahedron, creating DQ element.\n"
     ]
    },
    {
     "name": "stdout",
     "output_type": "stream",
     "text": [
      "Discontinuous Lagrange element requested on hexahedron, creating DQ element.\n"
     ]
    },
    {
     "name": "stderr",
     "output_type": "stream",
     "text": [
      "WARNING:UFL:Discontinuous Lagrange element requested on hexahedron, creating DQ element.\n"
     ]
    },
    {
     "name": "stdout",
     "output_type": "stream",
     "text": [
      "Discontinuous Lagrange element requested on hexahedron, creating DQ element.\n"
     ]
    },
    {
     "name": "stderr",
     "output_type": "stream",
     "text": [
      "WARNING:UFL:Discontinuous Lagrange element requested on hexahedron, creating DQ element.\n"
     ]
    },
    {
     "name": "stdout",
     "output_type": "stream",
     "text": [
      "Discontinuous Lagrange element requested on hexahedron, creating DQ element.\n"
     ]
    },
    {
     "name": "stderr",
     "output_type": "stream",
     "text": [
      "WARNING:UFL:Discontinuous Lagrange element requested on hexahedron, creating DQ element.\n"
     ]
    },
    {
     "name": "stdout",
     "output_type": "stream",
     "text": [
      "Discontinuous Lagrange element requested on hexahedron, creating DQ element.\n"
     ]
    },
    {
     "name": "stderr",
     "output_type": "stream",
     "text": [
      "WARNING:UFL:Discontinuous Lagrange element requested on hexahedron, creating DQ element.\n"
     ]
    },
    {
     "name": "stdout",
     "output_type": "stream",
     "text": [
      "Discontinuous Lagrange element requested on hexahedron, creating DQ element.\n"
     ]
    },
    {
     "name": "stderr",
     "output_type": "stream",
     "text": [
      "WARNING:UFL:Discontinuous Lagrange element requested on hexahedron, creating DQ element.\n"
     ]
    },
    {
     "name": "stdout",
     "output_type": "stream",
     "text": [
      "Discontinuous Lagrange element requested on hexahedron, creating DQ element.\n"
     ]
    },
    {
     "name": "stderr",
     "output_type": "stream",
     "text": [
      "WARNING:UFL:Discontinuous Lagrange element requested on hexahedron, creating DQ element.\n"
     ]
    },
    {
     "name": "stdout",
     "output_type": "stream",
     "text": [
      "Discontinuous Lagrange element requested on hexahedron, creating DQ element.\n"
     ]
    },
    {
     "name": "stderr",
     "output_type": "stream",
     "text": [
      "WARNING:UFL:Discontinuous Lagrange element requested on hexahedron, creating DQ element.\n"
     ]
    },
    {
     "name": "stdout",
     "output_type": "stream",
     "text": [
      "Discontinuous Lagrange element requested on hexahedron, creating DQ element.\n"
     ]
    },
    {
     "name": "stderr",
     "output_type": "stream",
     "text": [
      "WARNING:UFL:Discontinuous Lagrange element requested on hexahedron, creating DQ element.\n"
     ]
    },
    {
     "name": "stdout",
     "output_type": "stream",
     "text": [
      "Discontinuous Lagrange element requested on hexahedron, creating DQ element.\n"
     ]
    },
    {
     "name": "stderr",
     "output_type": "stream",
     "text": [
      "WARNING:UFL:Discontinuous Lagrange element requested on hexahedron, creating DQ element.\n"
     ]
    },
    {
     "name": "stdout",
     "output_type": "stream",
     "text": [
      "Discontinuous Lagrange element requested on hexahedron, creating DQ element.\n"
     ]
    },
    {
     "name": "stderr",
     "output_type": "stream",
     "text": [
      "WARNING:UFL:Discontinuous Lagrange element requested on hexahedron, creating DQ element.\n"
     ]
    },
    {
     "name": "stdout",
     "output_type": "stream",
     "text": [
      "Discontinuous Lagrange element requested on hexahedron, creating DQ element.\n"
     ]
    },
    {
     "name": "stderr",
     "output_type": "stream",
     "text": [
      "WARNING:UFL:Discontinuous Lagrange element requested on hexahedron, creating DQ element.\n"
     ]
    },
    {
     "name": "stdout",
     "output_type": "stream",
     "text": [
      "Discontinuous Lagrange element requested on hexahedron, creating DQ element.\n"
     ]
    },
    {
     "name": "stderr",
     "output_type": "stream",
     "text": [
      "WARNING:UFL:Discontinuous Lagrange element requested on hexahedron, creating DQ element.\n"
     ]
    },
    {
     "name": "stdout",
     "output_type": "stream",
     "text": [
      "Discontinuous Lagrange element requested on hexahedron, creating DQ element.\n"
     ]
    },
    {
     "name": "stderr",
     "output_type": "stream",
     "text": [
      "WARNING:UFL:Discontinuous Lagrange element requested on hexahedron, creating DQ element.\n"
     ]
    },
    {
     "name": "stdout",
     "output_type": "stream",
     "text": [
      "Discontinuous Lagrange element requested on hexahedron, creating DQ element.\n"
     ]
    },
    {
     "name": "stderr",
     "output_type": "stream",
     "text": [
      "WARNING:UFL:Discontinuous Lagrange element requested on hexahedron, creating DQ element.\n"
     ]
    },
    {
     "name": "stdout",
     "output_type": "stream",
     "text": [
      "Discontinuous Lagrange element requested on hexahedron, creating DQ element.\n"
     ]
    },
    {
     "name": "stderr",
     "output_type": "stream",
     "text": [
      "WARNING:UFL:Discontinuous Lagrange element requested on hexahedron, creating DQ element.\n"
     ]
    },
    {
     "name": "stdout",
     "output_type": "stream",
     "text": [
      "Discontinuous Lagrange element requested on hexahedron, creating DQ element.\n"
     ]
    },
    {
     "name": "stderr",
     "output_type": "stream",
     "text": [
      "WARNING:UFL:Discontinuous Lagrange element requested on hexahedron, creating DQ element.\n"
     ]
    },
    {
     "name": "stdout",
     "output_type": "stream",
     "text": [
      "Discontinuous Lagrange element requested on hexahedron, creating DQ element.\n"
     ]
    },
    {
     "name": "stderr",
     "output_type": "stream",
     "text": [
      "WARNING:UFL:Discontinuous Lagrange element requested on hexahedron, creating DQ element.\n"
     ]
    },
    {
     "name": "stdout",
     "output_type": "stream",
     "text": [
      "Discontinuous Lagrange element requested on hexahedron, creating DQ element.\n"
     ]
    },
    {
     "name": "stderr",
     "output_type": "stream",
     "text": [
      "WARNING:UFL:Discontinuous Lagrange element requested on hexahedron, creating DQ element.\n"
     ]
    },
    {
     "name": "stdout",
     "output_type": "stream",
     "text": [
      "Discontinuous Lagrange element requested on hexahedron, creating DQ element.\n"
     ]
    },
    {
     "name": "stderr",
     "output_type": "stream",
     "text": [
      "WARNING:UFL:Discontinuous Lagrange element requested on hexahedron, creating DQ element.\n"
     ]
    },
    {
     "name": "stdout",
     "output_type": "stream",
     "text": [
      "Discontinuous Lagrange element requested on hexahedron, creating DQ element.\n"
     ]
    },
    {
     "name": "stderr",
     "output_type": "stream",
     "text": [
      "WARNING:UFL:Discontinuous Lagrange element requested on hexahedron, creating DQ element.\n"
     ]
    },
    {
     "name": "stdout",
     "output_type": "stream",
     "text": [
      "Discontinuous Lagrange element requested on hexahedron, creating DQ element.\n"
     ]
    },
    {
     "name": "stderr",
     "output_type": "stream",
     "text": [
      "WARNING:UFL:Discontinuous Lagrange element requested on hexahedron, creating DQ element.\n"
     ]
    },
    {
     "name": "stdout",
     "output_type": "stream",
     "text": [
      "Discontinuous Lagrange element requested on hexahedron, creating DQ element.\n"
     ]
    },
    {
     "name": "stderr",
     "output_type": "stream",
     "text": [
      "WARNING:UFL:Discontinuous Lagrange element requested on hexahedron, creating DQ element.\n"
     ]
    },
    {
     "name": "stdout",
     "output_type": "stream",
     "text": [
      "Discontinuous Lagrange element requested on hexahedron, creating DQ element.\n"
     ]
    },
    {
     "name": "stderr",
     "output_type": "stream",
     "text": [
      "WARNING:UFL:Discontinuous Lagrange element requested on hexahedron, creating DQ element.\n"
     ]
    },
    {
     "name": "stdout",
     "output_type": "stream",
     "text": [
      "Discontinuous Lagrange element requested on hexahedron, creating DQ element.\n"
     ]
    },
    {
     "name": "stderr",
     "output_type": "stream",
     "text": [
      "WARNING:UFL:Discontinuous Lagrange element requested on hexahedron, creating DQ element.\n"
     ]
    },
    {
     "name": "stdout",
     "output_type": "stream",
     "text": [
      "Discontinuous Lagrange element requested on hexahedron, creating DQ element.\n"
     ]
    },
    {
     "name": "stderr",
     "output_type": "stream",
     "text": [
      "WARNING:UFL:Discontinuous Lagrange element requested on hexahedron, creating DQ element.\n"
     ]
    },
    {
     "name": "stdout",
     "output_type": "stream",
     "text": [
      "Discontinuous Lagrange element requested on hexahedron, creating DQ element.\n"
     ]
    },
    {
     "name": "stderr",
     "output_type": "stream",
     "text": [
      "WARNING:UFL:Discontinuous Lagrange element requested on hexahedron, creating DQ element.\n"
     ]
    },
    {
     "name": "stdout",
     "output_type": "stream",
     "text": [
      "Discontinuous Lagrange element requested on hexahedron, creating DQ element.\n"
     ]
    },
    {
     "name": "stderr",
     "output_type": "stream",
     "text": [
      "WARNING:UFL:Discontinuous Lagrange element requested on hexahedron, creating DQ element.\n"
     ]
    },
    {
     "name": "stdout",
     "output_type": "stream",
     "text": [
      "Discontinuous Lagrange element requested on hexahedron, creating DQ element.\n"
     ]
    },
    {
     "name": "stderr",
     "output_type": "stream",
     "text": [
      "WARNING:UFL:Discontinuous Lagrange element requested on hexahedron, creating DQ element.\n"
     ]
    },
    {
     "name": "stdout",
     "output_type": "stream",
     "text": [
      "Discontinuous Lagrange element requested on hexahedron, creating DQ element.\n"
     ]
    },
    {
     "name": "stderr",
     "output_type": "stream",
     "text": [
      "WARNING:UFL:Discontinuous Lagrange element requested on hexahedron, creating DQ element.\n"
     ]
    },
    {
     "name": "stdout",
     "output_type": "stream",
     "text": [
      "Discontinuous Lagrange element requested on hexahedron, creating DQ element.\n"
     ]
    },
    {
     "name": "stderr",
     "output_type": "stream",
     "text": [
      "WARNING:UFL:Discontinuous Lagrange element requested on hexahedron, creating DQ element.\n"
     ]
    },
    {
     "name": "stdout",
     "output_type": "stream",
     "text": [
      "Discontinuous Lagrange element requested on hexahedron, creating DQ element.\n"
     ]
    },
    {
     "name": "stderr",
     "output_type": "stream",
     "text": [
      "WARNING:UFL:Discontinuous Lagrange element requested on hexahedron, creating DQ element.\n"
     ]
    },
    {
     "name": "stdout",
     "output_type": "stream",
     "text": [
      "Discontinuous Lagrange element requested on hexahedron, creating DQ element.\n"
     ]
    },
    {
     "name": "stderr",
     "output_type": "stream",
     "text": [
      "WARNING:UFL:Discontinuous Lagrange element requested on hexahedron, creating DQ element.\n"
     ]
    },
    {
     "name": "stdout",
     "output_type": "stream",
     "text": [
      "Discontinuous Lagrange element requested on hexahedron, creating DQ element.\n"
     ]
    },
    {
     "name": "stderr",
     "output_type": "stream",
     "text": [
      "WARNING:UFL:Discontinuous Lagrange element requested on hexahedron, creating DQ element.\n"
     ]
    },
    {
     "name": "stdout",
     "output_type": "stream",
     "text": [
      "Discontinuous Lagrange element requested on hexahedron, creating DQ element.\n"
     ]
    },
    {
     "name": "stderr",
     "output_type": "stream",
     "text": [
      "WARNING:UFL:Discontinuous Lagrange element requested on hexahedron, creating DQ element.\n"
     ]
    },
    {
     "name": "stdout",
     "output_type": "stream",
     "text": [
      "Discontinuous Lagrange element requested on hexahedron, creating DQ element.\n"
     ]
    },
    {
     "name": "stderr",
     "output_type": "stream",
     "text": [
      "WARNING:UFL:Discontinuous Lagrange element requested on hexahedron, creating DQ element.\n"
     ]
    },
    {
     "name": "stdout",
     "output_type": "stream",
     "text": [
      "Discontinuous Lagrange element requested on hexahedron, creating DQ element.\n"
     ]
    },
    {
     "name": "stderr",
     "output_type": "stream",
     "text": [
      "WARNING:UFL:Discontinuous Lagrange element requested on hexahedron, creating DQ element.\n"
     ]
    },
    {
     "name": "stdout",
     "output_type": "stream",
     "text": [
      "Discontinuous Lagrange element requested on hexahedron, creating DQ element.\n"
     ]
    },
    {
     "name": "stderr",
     "output_type": "stream",
     "text": [
      "WARNING:UFL:Discontinuous Lagrange element requested on hexahedron, creating DQ element.\n"
     ]
    },
    {
     "name": "stdout",
     "output_type": "stream",
     "text": [
      "Discontinuous Lagrange element requested on hexahedron, creating DQ element.\n"
     ]
    },
    {
     "name": "stderr",
     "output_type": "stream",
     "text": [
      "WARNING:UFL:Discontinuous Lagrange element requested on hexahedron, creating DQ element.\n"
     ]
    },
    {
     "name": "stdout",
     "output_type": "stream",
     "text": [
      "Discontinuous Lagrange element requested on hexahedron, creating DQ element.\n"
     ]
    },
    {
     "name": "stderr",
     "output_type": "stream",
     "text": [
      "WARNING:UFL:Discontinuous Lagrange element requested on hexahedron, creating DQ element.\n"
     ]
    },
    {
     "name": "stdout",
     "output_type": "stream",
     "text": [
      "Discontinuous Lagrange element requested on hexahedron, creating DQ element.\n"
     ]
    },
    {
     "name": "stderr",
     "output_type": "stream",
     "text": [
      "WARNING:UFL:Discontinuous Lagrange element requested on hexahedron, creating DQ element.\n"
     ]
    },
    {
     "name": "stdout",
     "output_type": "stream",
     "text": [
      "Discontinuous Lagrange element requested on hexahedron, creating DQ element.\n"
     ]
    },
    {
     "name": "stderr",
     "output_type": "stream",
     "text": [
      "WARNING:UFL:Discontinuous Lagrange element requested on hexahedron, creating DQ element.\n"
     ]
    },
    {
     "name": "stdout",
     "output_type": "stream",
     "text": [
      "Discontinuous Lagrange element requested on hexahedron, creating DQ element.\n"
     ]
    },
    {
     "name": "stderr",
     "output_type": "stream",
     "text": [
      "WARNING:UFL:Discontinuous Lagrange element requested on hexahedron, creating DQ element.\n"
     ]
    },
    {
     "name": "stdout",
     "output_type": "stream",
     "text": [
      "Discontinuous Lagrange element requested on hexahedron, creating DQ element.\n"
     ]
    },
    {
     "name": "stderr",
     "output_type": "stream",
     "text": [
      "WARNING:UFL:Discontinuous Lagrange element requested on hexahedron, creating DQ element.\n"
     ]
    },
    {
     "name": "stdout",
     "output_type": "stream",
     "text": [
      "Discontinuous Lagrange element requested on hexahedron, creating DQ element.\n"
     ]
    },
    {
     "name": "stderr",
     "output_type": "stream",
     "text": [
      "WARNING:UFL:Discontinuous Lagrange element requested on hexahedron, creating DQ element.\n"
     ]
    },
    {
     "name": "stdout",
     "output_type": "stream",
     "text": [
      "Discontinuous Lagrange element requested on hexahedron, creating DQ element.\n"
     ]
    },
    {
     "name": "stderr",
     "output_type": "stream",
     "text": [
      "WARNING:UFL:Discontinuous Lagrange element requested on hexahedron, creating DQ element.\n"
     ]
    },
    {
     "name": "stdout",
     "output_type": "stream",
     "text": [
      "Discontinuous Lagrange element requested on hexahedron, creating DQ element.\n"
     ]
    },
    {
     "name": "stderr",
     "output_type": "stream",
     "text": [
      "WARNING:UFL:Discontinuous Lagrange element requested on hexahedron, creating DQ element.\n"
     ]
    },
    {
     "name": "stdout",
     "output_type": "stream",
     "text": [
      "Discontinuous Lagrange element requested on hexahedron, creating DQ element.\n"
     ]
    },
    {
     "name": "stderr",
     "output_type": "stream",
     "text": [
      "WARNING:UFL:Discontinuous Lagrange element requested on hexahedron, creating DQ element.\n"
     ]
    },
    {
     "name": "stdout",
     "output_type": "stream",
     "text": [
      "Discontinuous Lagrange element requested on hexahedron, creating DQ element.\n"
     ]
    },
    {
     "name": "stderr",
     "output_type": "stream",
     "text": [
      "WARNING:UFL:Discontinuous Lagrange element requested on hexahedron, creating DQ element.\n"
     ]
    },
    {
     "name": "stdout",
     "output_type": "stream",
     "text": [
      "Discontinuous Lagrange element requested on hexahedron, creating DQ element.\n"
     ]
    },
    {
     "name": "stderr",
     "output_type": "stream",
     "text": [
      "WARNING:UFL:Discontinuous Lagrange element requested on hexahedron, creating DQ element.\n"
     ]
    },
    {
     "name": "stdout",
     "output_type": "stream",
     "text": [
      "Discontinuous Lagrange element requested on hexahedron, creating DQ element.\n"
     ]
    },
    {
     "name": "stderr",
     "output_type": "stream",
     "text": [
      "WARNING:UFL:Discontinuous Lagrange element requested on hexahedron, creating DQ element.\n"
     ]
    },
    {
     "name": "stdout",
     "output_type": "stream",
     "text": [
      "Discontinuous Lagrange element requested on hexahedron, creating DQ element.\n"
     ]
    },
    {
     "name": "stderr",
     "output_type": "stream",
     "text": [
      "WARNING:UFL:Discontinuous Lagrange element requested on hexahedron, creating DQ element.\n"
     ]
    },
    {
     "name": "stdout",
     "output_type": "stream",
     "text": [
      "Discontinuous Lagrange element requested on hexahedron, creating DQ element.\n"
     ]
    },
    {
     "name": "stderr",
     "output_type": "stream",
     "text": [
      "WARNING:UFL:Discontinuous Lagrange element requested on hexahedron, creating DQ element.\n"
     ]
    },
    {
     "name": "stdout",
     "output_type": "stream",
     "text": [
      "Discontinuous Lagrange element requested on hexahedron, creating DQ element.\n"
     ]
    },
    {
     "name": "stderr",
     "output_type": "stream",
     "text": [
      "WARNING:UFL:Discontinuous Lagrange element requested on hexahedron, creating DQ element.\n"
     ]
    },
    {
     "name": "stdout",
     "output_type": "stream",
     "text": [
      "Discontinuous Lagrange element requested on hexahedron, creating DQ element.\n"
     ]
    },
    {
     "name": "stderr",
     "output_type": "stream",
     "text": [
      "WARNING:UFL:Discontinuous Lagrange element requested on hexahedron, creating DQ element.\n"
     ]
    },
    {
     "name": "stdout",
     "output_type": "stream",
     "text": [
      "Discontinuous Lagrange element requested on hexahedron, creating DQ element.\n"
     ]
    },
    {
     "name": "stderr",
     "output_type": "stream",
     "text": [
      "WARNING:UFL:Discontinuous Lagrange element requested on hexahedron, creating DQ element.\n"
     ]
    },
    {
     "name": "stdout",
     "output_type": "stream",
     "text": [
      "Discontinuous Lagrange element requested on hexahedron, creating DQ element.\n"
     ]
    },
    {
     "name": "stderr",
     "output_type": "stream",
     "text": [
      "WARNING:UFL:Discontinuous Lagrange element requested on hexahedron, creating DQ element.\n"
     ]
    },
    {
     "name": "stdout",
     "output_type": "stream",
     "text": [
      "Discontinuous Lagrange element requested on hexahedron, creating DQ element.\n"
     ]
    },
    {
     "name": "stderr",
     "output_type": "stream",
     "text": [
      "WARNING:UFL:Discontinuous Lagrange element requested on hexahedron, creating DQ element.\n"
     ]
    },
    {
     "name": "stdout",
     "output_type": "stream",
     "text": [
      "Discontinuous Lagrange element requested on hexahedron, creating DQ element.\n"
     ]
    },
    {
     "name": "stderr",
     "output_type": "stream",
     "text": [
      "WARNING:UFL:Discontinuous Lagrange element requested on hexahedron, creating DQ element.\n"
     ]
    },
    {
     "name": "stdout",
     "output_type": "stream",
     "text": [
      "Discontinuous Lagrange element requested on hexahedron, creating DQ element.\n"
     ]
    },
    {
     "name": "stderr",
     "output_type": "stream",
     "text": [
      "WARNING:UFL:Discontinuous Lagrange element requested on hexahedron, creating DQ element.\n"
     ]
    },
    {
     "name": "stdout",
     "output_type": "stream",
     "text": [
      "Discontinuous Lagrange element requested on hexahedron, creating DQ element.\n"
     ]
    },
    {
     "name": "stderr",
     "output_type": "stream",
     "text": [
      "WARNING:UFL:Discontinuous Lagrange element requested on hexahedron, creating DQ element.\n"
     ]
    },
    {
     "name": "stdout",
     "output_type": "stream",
     "text": [
      "Discontinuous Lagrange element requested on hexahedron, creating DQ element.\n"
     ]
    },
    {
     "name": "stderr",
     "output_type": "stream",
     "text": [
      "WARNING:UFL:Discontinuous Lagrange element requested on hexahedron, creating DQ element.\n"
     ]
    },
    {
     "name": "stdout",
     "output_type": "stream",
     "text": [
      "Discontinuous Lagrange element requested on hexahedron, creating DQ element.\n"
     ]
    },
    {
     "name": "stderr",
     "output_type": "stream",
     "text": [
      "WARNING:UFL:Discontinuous Lagrange element requested on hexahedron, creating DQ element.\n"
     ]
    },
    {
     "name": "stdout",
     "output_type": "stream",
     "text": [
      "Discontinuous Lagrange element requested on hexahedron, creating DQ element.\n"
     ]
    },
    {
     "name": "stderr",
     "output_type": "stream",
     "text": [
      "WARNING:UFL:Discontinuous Lagrange element requested on hexahedron, creating DQ element.\n"
     ]
    },
    {
     "name": "stdout",
     "output_type": "stream",
     "text": [
      "Discontinuous Lagrange element requested on hexahedron, creating DQ element.\n"
     ]
    },
    {
     "name": "stderr",
     "output_type": "stream",
     "text": [
      "WARNING:UFL:Discontinuous Lagrange element requested on hexahedron, creating DQ element.\n"
     ]
    },
    {
     "name": "stdout",
     "output_type": "stream",
     "text": [
      "Discontinuous Lagrange element requested on hexahedron, creating DQ element.\n"
     ]
    },
    {
     "name": "stderr",
     "output_type": "stream",
     "text": [
      "WARNING:UFL:Discontinuous Lagrange element requested on hexahedron, creating DQ element.\n"
     ]
    },
    {
     "name": "stdout",
     "output_type": "stream",
     "text": [
      "Discontinuous Lagrange element requested on hexahedron, creating DQ element.\n"
     ]
    },
    {
     "name": "stderr",
     "output_type": "stream",
     "text": [
      "WARNING:UFL:Discontinuous Lagrange element requested on hexahedron, creating DQ element.\n"
     ]
    },
    {
     "name": "stdout",
     "output_type": "stream",
     "text": [
      "Discontinuous Lagrange element requested on hexahedron, creating DQ element.\n"
     ]
    },
    {
     "name": "stderr",
     "output_type": "stream",
     "text": [
      "WARNING:UFL:Discontinuous Lagrange element requested on hexahedron, creating DQ element.\n"
     ]
    },
    {
     "name": "stdout",
     "output_type": "stream",
     "text": [
      "Discontinuous Lagrange element requested on hexahedron, creating DQ element.\n"
     ]
    },
    {
     "name": "stderr",
     "output_type": "stream",
     "text": [
      "WARNING:UFL:Discontinuous Lagrange element requested on hexahedron, creating DQ element.\n"
     ]
    },
    {
     "name": "stdout",
     "output_type": "stream",
     "text": [
      "Discontinuous Lagrange element requested on hexahedron, creating DQ element.\n"
     ]
    },
    {
     "name": "stderr",
     "output_type": "stream",
     "text": [
      "WARNING:UFL:Discontinuous Lagrange element requested on hexahedron, creating DQ element.\n"
     ]
    },
    {
     "name": "stdout",
     "output_type": "stream",
     "text": [
      "Discontinuous Lagrange element requested on hexahedron, creating DQ element.\n"
     ]
    },
    {
     "name": "stderr",
     "output_type": "stream",
     "text": [
      "WARNING:UFL:Discontinuous Lagrange element requested on hexahedron, creating DQ element.\n"
     ]
    },
    {
     "name": "stdout",
     "output_type": "stream",
     "text": [
      "Discontinuous Lagrange element requested on hexahedron, creating DQ element.\n"
     ]
    },
    {
     "name": "stderr",
     "output_type": "stream",
     "text": [
      "WARNING:UFL:Discontinuous Lagrange element requested on hexahedron, creating DQ element.\n"
     ]
    },
    {
     "name": "stdout",
     "output_type": "stream",
     "text": [
      "Discontinuous Lagrange element requested on hexahedron, creating DQ element.\n"
     ]
    },
    {
     "name": "stderr",
     "output_type": "stream",
     "text": [
      "WARNING:UFL:Discontinuous Lagrange element requested on hexahedron, creating DQ element.\n"
     ]
    },
    {
     "name": "stdout",
     "output_type": "stream",
     "text": [
      "Discontinuous Lagrange element requested on hexahedron, creating DQ element.\n"
     ]
    },
    {
     "name": "stderr",
     "output_type": "stream",
     "text": [
      "WARNING:UFL:Discontinuous Lagrange element requested on hexahedron, creating DQ element.\n"
     ]
    },
    {
     "name": "stdout",
     "output_type": "stream",
     "text": [
      "Discontinuous Lagrange element requested on hexahedron, creating DQ element.\n"
     ]
    },
    {
     "name": "stderr",
     "output_type": "stream",
     "text": [
      "WARNING:UFL:Discontinuous Lagrange element requested on hexahedron, creating DQ element.\n"
     ]
    },
    {
     "name": "stdout",
     "output_type": "stream",
     "text": [
      "Discontinuous Lagrange element requested on hexahedron, creating DQ element.\n"
     ]
    },
    {
     "name": "stderr",
     "output_type": "stream",
     "text": [
      "WARNING:UFL:Discontinuous Lagrange element requested on hexahedron, creating DQ element.\n"
     ]
    },
    {
     "name": "stdout",
     "output_type": "stream",
     "text": [
      "Discontinuous Lagrange element requested on hexahedron, creating DQ element.\n"
     ]
    },
    {
     "name": "stderr",
     "output_type": "stream",
     "text": [
      "WARNING:UFL:Discontinuous Lagrange element requested on hexahedron, creating DQ element.\n"
     ]
    },
    {
     "name": "stdout",
     "output_type": "stream",
     "text": [
      "Discontinuous Lagrange element requested on hexahedron, creating DQ element.\n"
     ]
    },
    {
     "name": "stderr",
     "output_type": "stream",
     "text": [
      "WARNING:UFL:Discontinuous Lagrange element requested on hexahedron, creating DQ element.\n"
     ]
    },
    {
     "name": "stdout",
     "output_type": "stream",
     "text": [
      "Discontinuous Lagrange element requested on hexahedron, creating DQ element.\n"
     ]
    },
    {
     "name": "stderr",
     "output_type": "stream",
     "text": [
      "WARNING:UFL:Discontinuous Lagrange element requested on hexahedron, creating DQ element.\n"
     ]
    },
    {
     "name": "stdout",
     "output_type": "stream",
     "text": [
      "Discontinuous Lagrange element requested on hexahedron, creating DQ element.\n"
     ]
    },
    {
     "name": "stderr",
     "output_type": "stream",
     "text": [
      "WARNING:UFL:Discontinuous Lagrange element requested on hexahedron, creating DQ element.\n"
     ]
    },
    {
     "name": "stdout",
     "output_type": "stream",
     "text": [
      "Discontinuous Lagrange element requested on hexahedron, creating DQ element.\n"
     ]
    },
    {
     "name": "stderr",
     "output_type": "stream",
     "text": [
      "WARNING:UFL:Discontinuous Lagrange element requested on hexahedron, creating DQ element.\n"
     ]
    },
    {
     "name": "stdout",
     "output_type": "stream",
     "text": [
      "Discontinuous Lagrange element requested on hexahedron, creating DQ element.\n"
     ]
    },
    {
     "name": "stderr",
     "output_type": "stream",
     "text": [
      "WARNING:UFL:Discontinuous Lagrange element requested on hexahedron, creating DQ element.\n"
     ]
    },
    {
     "name": "stdout",
     "output_type": "stream",
     "text": [
      "Discontinuous Lagrange element requested on hexahedron, creating DQ element.\n"
     ]
    },
    {
     "name": "stderr",
     "output_type": "stream",
     "text": [
      "WARNING:UFL:Discontinuous Lagrange element requested on hexahedron, creating DQ element.\n"
     ]
    },
    {
     "name": "stdout",
     "output_type": "stream",
     "text": [
      "Discontinuous Lagrange element requested on hexahedron, creating DQ element.\n"
     ]
    },
    {
     "name": "stderr",
     "output_type": "stream",
     "text": [
      "WARNING:UFL:Discontinuous Lagrange element requested on hexahedron, creating DQ element.\n"
     ]
    },
    {
     "name": "stdout",
     "output_type": "stream",
     "text": [
      "Discontinuous Lagrange element requested on hexahedron, creating DQ element.\n"
     ]
    },
    {
     "name": "stderr",
     "output_type": "stream",
     "text": [
      "WARNING:UFL:Discontinuous Lagrange element requested on hexahedron, creating DQ element.\n"
     ]
    },
    {
     "name": "stdout",
     "output_type": "stream",
     "text": [
      "Discontinuous Lagrange element requested on hexahedron, creating DQ element.\n"
     ]
    },
    {
     "name": "stderr",
     "output_type": "stream",
     "text": [
      "WARNING:UFL:Discontinuous Lagrange element requested on hexahedron, creating DQ element.\n"
     ]
    },
    {
     "name": "stdout",
     "output_type": "stream",
     "text": [
      "Discontinuous Lagrange element requested on hexahedron, creating DQ element.\n"
     ]
    },
    {
     "name": "stderr",
     "output_type": "stream",
     "text": [
      "WARNING:UFL:Discontinuous Lagrange element requested on hexahedron, creating DQ element.\n"
     ]
    },
    {
     "name": "stdout",
     "output_type": "stream",
     "text": [
      "Discontinuous Lagrange element requested on hexahedron, creating DQ element.\n"
     ]
    },
    {
     "name": "stderr",
     "output_type": "stream",
     "text": [
      "WARNING:UFL:Discontinuous Lagrange element requested on hexahedron, creating DQ element.\n"
     ]
    },
    {
     "name": "stdout",
     "output_type": "stream",
     "text": [
      "Discontinuous Lagrange element requested on hexahedron, creating DQ element.\n"
     ]
    },
    {
     "name": "stderr",
     "output_type": "stream",
     "text": [
      "WARNING:UFL:Discontinuous Lagrange element requested on hexahedron, creating DQ element.\n"
     ]
    },
    {
     "name": "stdout",
     "output_type": "stream",
     "text": [
      "Discontinuous Lagrange element requested on hexahedron, creating DQ element.\n"
     ]
    },
    {
     "name": "stderr",
     "output_type": "stream",
     "text": [
      "WARNING:UFL:Discontinuous Lagrange element requested on hexahedron, creating DQ element.\n"
     ]
    },
    {
     "name": "stdout",
     "output_type": "stream",
     "text": [
      "Discontinuous Lagrange element requested on hexahedron, creating DQ element.\n"
     ]
    },
    {
     "name": "stderr",
     "output_type": "stream",
     "text": [
      "WARNING:UFL:Discontinuous Lagrange element requested on hexahedron, creating DQ element.\n"
     ]
    },
    {
     "name": "stdout",
     "output_type": "stream",
     "text": [
      "Discontinuous Lagrange element requested on hexahedron, creating DQ element.\n"
     ]
    },
    {
     "name": "stderr",
     "output_type": "stream",
     "text": [
      "WARNING:UFL:Discontinuous Lagrange element requested on hexahedron, creating DQ element.\n"
     ]
    },
    {
     "name": "stdout",
     "output_type": "stream",
     "text": [
      "Discontinuous Lagrange element requested on hexahedron, creating DQ element.\n"
     ]
    },
    {
     "name": "stderr",
     "output_type": "stream",
     "text": [
      "WARNING:UFL:Discontinuous Lagrange element requested on hexahedron, creating DQ element.\n"
     ]
    },
    {
     "name": "stdout",
     "output_type": "stream",
     "text": [
      "Discontinuous Lagrange element requested on hexahedron, creating DQ element.\n"
     ]
    },
    {
     "name": "stderr",
     "output_type": "stream",
     "text": [
      "WARNING:UFL:Discontinuous Lagrange element requested on hexahedron, creating DQ element.\n"
     ]
    },
    {
     "name": "stdout",
     "output_type": "stream",
     "text": [
      "Discontinuous Lagrange element requested on hexahedron, creating DQ element.\n"
     ]
    },
    {
     "name": "stderr",
     "output_type": "stream",
     "text": [
      "WARNING:UFL:Discontinuous Lagrange element requested on hexahedron, creating DQ element.\n"
     ]
    },
    {
     "name": "stdout",
     "output_type": "stream",
     "text": [
      "Discontinuous Lagrange element requested on hexahedron, creating DQ element.\n"
     ]
    },
    {
     "name": "stderr",
     "output_type": "stream",
     "text": [
      "WARNING:UFL:Discontinuous Lagrange element requested on hexahedron, creating DQ element.\n"
     ]
    },
    {
     "name": "stdout",
     "output_type": "stream",
     "text": [
      "Discontinuous Lagrange element requested on hexahedron, creating DQ element.\n"
     ]
    },
    {
     "name": "stderr",
     "output_type": "stream",
     "text": [
      "WARNING:UFL:Discontinuous Lagrange element requested on hexahedron, creating DQ element.\n"
     ]
    },
    {
     "name": "stdout",
     "output_type": "stream",
     "text": [
      "Discontinuous Lagrange element requested on hexahedron, creating DQ element.\n"
     ]
    },
    {
     "name": "stderr",
     "output_type": "stream",
     "text": [
      "WARNING:UFL:Discontinuous Lagrange element requested on hexahedron, creating DQ element.\n"
     ]
    },
    {
     "name": "stdout",
     "output_type": "stream",
     "text": [
      "Discontinuous Lagrange element requested on hexahedron, creating DQ element.\n"
     ]
    },
    {
     "name": "stderr",
     "output_type": "stream",
     "text": [
      "WARNING:UFL:Discontinuous Lagrange element requested on hexahedron, creating DQ element.\n"
     ]
    },
    {
     "name": "stdout",
     "output_type": "stream",
     "text": [
      "Discontinuous Lagrange element requested on hexahedron, creating DQ element.\n"
     ]
    },
    {
     "name": "stderr",
     "output_type": "stream",
     "text": [
      "WARNING:UFL:Discontinuous Lagrange element requested on hexahedron, creating DQ element.\n"
     ]
    },
    {
     "name": "stdout",
     "output_type": "stream",
     "text": [
      "Discontinuous Lagrange element requested on hexahedron, creating DQ element.\n"
     ]
    },
    {
     "name": "stderr",
     "output_type": "stream",
     "text": [
      "WARNING:UFL:Discontinuous Lagrange element requested on hexahedron, creating DQ element.\n"
     ]
    },
    {
     "name": "stdout",
     "output_type": "stream",
     "text": [
      "Discontinuous Lagrange element requested on hexahedron, creating DQ element.\n"
     ]
    },
    {
     "name": "stderr",
     "output_type": "stream",
     "text": [
      "WARNING:UFL:Discontinuous Lagrange element requested on hexahedron, creating DQ element.\n"
     ]
    },
    {
     "name": "stdout",
     "output_type": "stream",
     "text": [
      "Discontinuous Lagrange element requested on hexahedron, creating DQ element.\n"
     ]
    },
    {
     "name": "stderr",
     "output_type": "stream",
     "text": [
      "WARNING:UFL:Discontinuous Lagrange element requested on hexahedron, creating DQ element.\n"
     ]
    },
    {
     "name": "stdout",
     "output_type": "stream",
     "text": [
      "Discontinuous Lagrange element requested on hexahedron, creating DQ element.\n"
     ]
    },
    {
     "name": "stderr",
     "output_type": "stream",
     "text": [
      "WARNING:UFL:Discontinuous Lagrange element requested on hexahedron, creating DQ element.\n"
     ]
    },
    {
     "name": "stdout",
     "output_type": "stream",
     "text": [
      "Discontinuous Lagrange element requested on hexahedron, creating DQ element.\n"
     ]
    },
    {
     "name": "stderr",
     "output_type": "stream",
     "text": [
      "WARNING:UFL:Discontinuous Lagrange element requested on hexahedron, creating DQ element.\n"
     ]
    },
    {
     "name": "stdout",
     "output_type": "stream",
     "text": [
      "Discontinuous Lagrange element requested on hexahedron, creating DQ element.\n"
     ]
    },
    {
     "name": "stderr",
     "output_type": "stream",
     "text": [
      "WARNING:UFL:Discontinuous Lagrange element requested on hexahedron, creating DQ element.\n"
     ]
    },
    {
     "name": "stdout",
     "output_type": "stream",
     "text": [
      "Discontinuous Lagrange element requested on hexahedron, creating DQ element.\n"
     ]
    },
    {
     "name": "stderr",
     "output_type": "stream",
     "text": [
      "WARNING:UFL:Discontinuous Lagrange element requested on hexahedron, creating DQ element.\n"
     ]
    },
    {
     "name": "stdout",
     "output_type": "stream",
     "text": [
      "Discontinuous Lagrange element requested on hexahedron, creating DQ element.\n"
     ]
    },
    {
     "name": "stderr",
     "output_type": "stream",
     "text": [
      "WARNING:UFL:Discontinuous Lagrange element requested on hexahedron, creating DQ element.\n"
     ]
    },
    {
     "name": "stdout",
     "output_type": "stream",
     "text": [
      "Discontinuous Lagrange element requested on hexahedron, creating DQ element.\n"
     ]
    },
    {
     "name": "stderr",
     "output_type": "stream",
     "text": [
      "WARNING:UFL:Discontinuous Lagrange element requested on hexahedron, creating DQ element.\n"
     ]
    },
    {
     "name": "stdout",
     "output_type": "stream",
     "text": [
      "Discontinuous Lagrange element requested on hexahedron, creating DQ element.\n"
     ]
    },
    {
     "name": "stderr",
     "output_type": "stream",
     "text": [
      "WARNING:UFL:Discontinuous Lagrange element requested on hexahedron, creating DQ element.\n"
     ]
    },
    {
     "name": "stdout",
     "output_type": "stream",
     "text": [
      "Discontinuous Lagrange element requested on hexahedron, creating DQ element.\n"
     ]
    },
    {
     "name": "stderr",
     "output_type": "stream",
     "text": [
      "WARNING:UFL:Discontinuous Lagrange element requested on hexahedron, creating DQ element.\n"
     ]
    },
    {
     "name": "stdout",
     "output_type": "stream",
     "text": [
      "Discontinuous Lagrange element requested on hexahedron, creating DQ element.\n"
     ]
    },
    {
     "name": "stderr",
     "output_type": "stream",
     "text": [
      "WARNING:UFL:Discontinuous Lagrange element requested on hexahedron, creating DQ element.\n"
     ]
    },
    {
     "name": "stdout",
     "output_type": "stream",
     "text": [
      "Discontinuous Lagrange element requested on hexahedron, creating DQ element.\n"
     ]
    },
    {
     "name": "stderr",
     "output_type": "stream",
     "text": [
      "WARNING:UFL:Discontinuous Lagrange element requested on hexahedron, creating DQ element.\n"
     ]
    },
    {
     "name": "stdout",
     "output_type": "stream",
     "text": [
      "Discontinuous Lagrange element requested on hexahedron, creating DQ element.\n"
     ]
    },
    {
     "name": "stderr",
     "output_type": "stream",
     "text": [
      "WARNING:UFL:Discontinuous Lagrange element requested on hexahedron, creating DQ element.\n"
     ]
    },
    {
     "name": "stdout",
     "output_type": "stream",
     "text": [
      "Discontinuous Lagrange element requested on hexahedron, creating DQ element.\n"
     ]
    },
    {
     "name": "stderr",
     "output_type": "stream",
     "text": [
      "WARNING:UFL:Discontinuous Lagrange element requested on hexahedron, creating DQ element.\n"
     ]
    },
    {
     "name": "stdout",
     "output_type": "stream",
     "text": [
      "Discontinuous Lagrange element requested on hexahedron, creating DQ element.\n"
     ]
    },
    {
     "name": "stderr",
     "output_type": "stream",
     "text": [
      "WARNING:UFL:Discontinuous Lagrange element requested on hexahedron, creating DQ element.\n"
     ]
    },
    {
     "name": "stdout",
     "output_type": "stream",
     "text": [
      "Discontinuous Lagrange element requested on hexahedron, creating DQ element.\n"
     ]
    },
    {
     "name": "stderr",
     "output_type": "stream",
     "text": [
      "WARNING:UFL:Discontinuous Lagrange element requested on hexahedron, creating DQ element.\n"
     ]
    },
    {
     "name": "stdout",
     "output_type": "stream",
     "text": [
      "Discontinuous Lagrange element requested on hexahedron, creating DQ element.\n"
     ]
    },
    {
     "name": "stderr",
     "output_type": "stream",
     "text": [
      "WARNING:UFL:Discontinuous Lagrange element requested on hexahedron, creating DQ element.\n"
     ]
    },
    {
     "name": "stdout",
     "output_type": "stream",
     "text": [
      "Discontinuous Lagrange element requested on hexahedron, creating DQ element.\n"
     ]
    },
    {
     "name": "stderr",
     "output_type": "stream",
     "text": [
      "WARNING:UFL:Discontinuous Lagrange element requested on hexahedron, creating DQ element.\n"
     ]
    },
    {
     "name": "stdout",
     "output_type": "stream",
     "text": [
      "Discontinuous Lagrange element requested on hexahedron, creating DQ element.\n"
     ]
    },
    {
     "name": "stderr",
     "output_type": "stream",
     "text": [
      "WARNING:UFL:Discontinuous Lagrange element requested on hexahedron, creating DQ element.\n"
     ]
    },
    {
     "name": "stdout",
     "output_type": "stream",
     "text": [
      "Discontinuous Lagrange element requested on hexahedron, creating DQ element.\n"
     ]
    },
    {
     "name": "stderr",
     "output_type": "stream",
     "text": [
      "WARNING:UFL:Discontinuous Lagrange element requested on hexahedron, creating DQ element.\n"
     ]
    },
    {
     "name": "stdout",
     "output_type": "stream",
     "text": [
      "Discontinuous Lagrange element requested on hexahedron, creating DQ element.\n"
     ]
    },
    {
     "name": "stderr",
     "output_type": "stream",
     "text": [
      "WARNING:UFL:Discontinuous Lagrange element requested on hexahedron, creating DQ element.\n"
     ]
    },
    {
     "name": "stdout",
     "output_type": "stream",
     "text": [
      "Discontinuous Lagrange element requested on hexahedron, creating DQ element.\n"
     ]
    },
    {
     "name": "stderr",
     "output_type": "stream",
     "text": [
      "WARNING:UFL:Discontinuous Lagrange element requested on hexahedron, creating DQ element.\n"
     ]
    },
    {
     "name": "stdout",
     "output_type": "stream",
     "text": [
      "Discontinuous Lagrange element requested on hexahedron, creating DQ element.\n"
     ]
    },
    {
     "name": "stderr",
     "output_type": "stream",
     "text": [
      "WARNING:UFL:Discontinuous Lagrange element requested on hexahedron, creating DQ element.\n"
     ]
    },
    {
     "name": "stdout",
     "output_type": "stream",
     "text": [
      "Discontinuous Lagrange element requested on hexahedron, creating DQ element.\n"
     ]
    },
    {
     "name": "stderr",
     "output_type": "stream",
     "text": [
      "WARNING:UFL:Discontinuous Lagrange element requested on hexahedron, creating DQ element.\n"
     ]
    },
    {
     "name": "stdout",
     "output_type": "stream",
     "text": [
      "Discontinuous Lagrange element requested on hexahedron, creating DQ element.\n"
     ]
    },
    {
     "name": "stderr",
     "output_type": "stream",
     "text": [
      "WARNING:UFL:Discontinuous Lagrange element requested on hexahedron, creating DQ element.\n"
     ]
    },
    {
     "name": "stdout",
     "output_type": "stream",
     "text": [
      "Discontinuous Lagrange element requested on hexahedron, creating DQ element.\n"
     ]
    },
    {
     "name": "stderr",
     "output_type": "stream",
     "text": [
      "WARNING:UFL:Discontinuous Lagrange element requested on hexahedron, creating DQ element.\n"
     ]
    },
    {
     "name": "stdout",
     "output_type": "stream",
     "text": [
      "Discontinuous Lagrange element requested on hexahedron, creating DQ element.\n"
     ]
    },
    {
     "name": "stderr",
     "output_type": "stream",
     "text": [
      "WARNING:UFL:Discontinuous Lagrange element requested on hexahedron, creating DQ element.\n"
     ]
    },
    {
     "name": "stdout",
     "output_type": "stream",
     "text": [
      "Discontinuous Lagrange element requested on hexahedron, creating DQ element.\n"
     ]
    },
    {
     "name": "stderr",
     "output_type": "stream",
     "text": [
      "WARNING:UFL:Discontinuous Lagrange element requested on hexahedron, creating DQ element.\n"
     ]
    },
    {
     "name": "stdout",
     "output_type": "stream",
     "text": [
      "Discontinuous Lagrange element requested on hexahedron, creating DQ element.\n"
     ]
    },
    {
     "name": "stderr",
     "output_type": "stream",
     "text": [
      "WARNING:UFL:Discontinuous Lagrange element requested on hexahedron, creating DQ element.\n"
     ]
    },
    {
     "name": "stdout",
     "output_type": "stream",
     "text": [
      "Discontinuous Lagrange element requested on hexahedron, creating DQ element.\n"
     ]
    },
    {
     "name": "stderr",
     "output_type": "stream",
     "text": [
      "WARNING:UFL:Discontinuous Lagrange element requested on hexahedron, creating DQ element.\n"
     ]
    },
    {
     "name": "stdout",
     "output_type": "stream",
     "text": [
      "Discontinuous Lagrange element requested on hexahedron, creating DQ element.\n"
     ]
    },
    {
     "name": "stderr",
     "output_type": "stream",
     "text": [
      "WARNING:UFL:Discontinuous Lagrange element requested on hexahedron, creating DQ element.\n"
     ]
    },
    {
     "name": "stdout",
     "output_type": "stream",
     "text": [
      "Discontinuous Lagrange element requested on hexahedron, creating DQ element.\n"
     ]
    },
    {
     "name": "stderr",
     "output_type": "stream",
     "text": [
      "WARNING:UFL:Discontinuous Lagrange element requested on hexahedron, creating DQ element.\n"
     ]
    },
    {
     "name": "stdout",
     "output_type": "stream",
     "text": [
      "Discontinuous Lagrange element requested on hexahedron, creating DQ element.\n"
     ]
    },
    {
     "name": "stderr",
     "output_type": "stream",
     "text": [
      "WARNING:UFL:Discontinuous Lagrange element requested on hexahedron, creating DQ element.\n"
     ]
    },
    {
     "name": "stdout",
     "output_type": "stream",
     "text": [
      "Discontinuous Lagrange element requested on hexahedron, creating DQ element.\n"
     ]
    },
    {
     "name": "stderr",
     "output_type": "stream",
     "text": [
      "WARNING:UFL:Discontinuous Lagrange element requested on hexahedron, creating DQ element.\n"
     ]
    },
    {
     "name": "stdout",
     "output_type": "stream",
     "text": [
      "Discontinuous Lagrange element requested on hexahedron, creating DQ element.\n"
     ]
    },
    {
     "name": "stderr",
     "output_type": "stream",
     "text": [
      "WARNING:UFL:Discontinuous Lagrange element requested on hexahedron, creating DQ element.\n"
     ]
    },
    {
     "name": "stdout",
     "output_type": "stream",
     "text": [
      "Discontinuous Lagrange element requested on hexahedron, creating DQ element.\n"
     ]
    },
    {
     "name": "stderr",
     "output_type": "stream",
     "text": [
      "WARNING:UFL:Discontinuous Lagrange element requested on hexahedron, creating DQ element.\n"
     ]
    },
    {
     "name": "stdout",
     "output_type": "stream",
     "text": [
      "Discontinuous Lagrange element requested on hexahedron, creating DQ element.\n"
     ]
    },
    {
     "name": "stderr",
     "output_type": "stream",
     "text": [
      "WARNING:UFL:Discontinuous Lagrange element requested on hexahedron, creating DQ element.\n"
     ]
    },
    {
     "name": "stdout",
     "output_type": "stream",
     "text": [
      "Discontinuous Lagrange element requested on hexahedron, creating DQ element.\n"
     ]
    },
    {
     "name": "stderr",
     "output_type": "stream",
     "text": [
      "WARNING:UFL:Discontinuous Lagrange element requested on hexahedron, creating DQ element.\n"
     ]
    },
    {
     "name": "stdout",
     "output_type": "stream",
     "text": [
      "Discontinuous Lagrange element requested on hexahedron, creating DQ element.\n"
     ]
    },
    {
     "name": "stderr",
     "output_type": "stream",
     "text": [
      "WARNING:UFL:Discontinuous Lagrange element requested on hexahedron, creating DQ element.\n"
     ]
    },
    {
     "name": "stdout",
     "output_type": "stream",
     "text": [
      "Discontinuous Lagrange element requested on hexahedron, creating DQ element.\n"
     ]
    },
    {
     "name": "stderr",
     "output_type": "stream",
     "text": [
      "WARNING:UFL:Discontinuous Lagrange element requested on hexahedron, creating DQ element.\n"
     ]
    },
    {
     "name": "stdout",
     "output_type": "stream",
     "text": [
      "Discontinuous Lagrange element requested on hexahedron, creating DQ element.\n"
     ]
    },
    {
     "name": "stderr",
     "output_type": "stream",
     "text": [
      "WARNING:UFL:Discontinuous Lagrange element requested on hexahedron, creating DQ element.\n"
     ]
    },
    {
     "name": "stdout",
     "output_type": "stream",
     "text": [
      "Discontinuous Lagrange element requested on hexahedron, creating DQ element.\n"
     ]
    },
    {
     "name": "stderr",
     "output_type": "stream",
     "text": [
      "WARNING:UFL:Discontinuous Lagrange element requested on hexahedron, creating DQ element.\n"
     ]
    },
    {
     "name": "stdout",
     "output_type": "stream",
     "text": [
      "Discontinuous Lagrange element requested on hexahedron, creating DQ element.\n"
     ]
    },
    {
     "name": "stderr",
     "output_type": "stream",
     "text": [
      "WARNING:UFL:Discontinuous Lagrange element requested on hexahedron, creating DQ element.\n"
     ]
    },
    {
     "name": "stdout",
     "output_type": "stream",
     "text": [
      "Discontinuous Lagrange element requested on hexahedron, creating DQ element.\n"
     ]
    },
    {
     "name": "stderr",
     "output_type": "stream",
     "text": [
      "WARNING:UFL:Discontinuous Lagrange element requested on hexahedron, creating DQ element.\n"
     ]
    },
    {
     "name": "stdout",
     "output_type": "stream",
     "text": [
      "Discontinuous Lagrange element requested on hexahedron, creating DQ element.\n"
     ]
    },
    {
     "name": "stderr",
     "output_type": "stream",
     "text": [
      "WARNING:UFL:Discontinuous Lagrange element requested on hexahedron, creating DQ element.\n"
     ]
    },
    {
     "name": "stdout",
     "output_type": "stream",
     "text": [
      "Discontinuous Lagrange element requested on hexahedron, creating DQ element.\n"
     ]
    },
    {
     "name": "stderr",
     "output_type": "stream",
     "text": [
      "WARNING:UFL:Discontinuous Lagrange element requested on hexahedron, creating DQ element.\n"
     ]
    },
    {
     "name": "stdout",
     "output_type": "stream",
     "text": [
      "Discontinuous Lagrange element requested on hexahedron, creating DQ element.\n"
     ]
    },
    {
     "name": "stderr",
     "output_type": "stream",
     "text": [
      "WARNING:UFL:Discontinuous Lagrange element requested on hexahedron, creating DQ element.\n"
     ]
    },
    {
     "name": "stdout",
     "output_type": "stream",
     "text": [
      "Discontinuous Lagrange element requested on hexahedron, creating DQ element.\n"
     ]
    },
    {
     "name": "stderr",
     "output_type": "stream",
     "text": [
      "WARNING:UFL:Discontinuous Lagrange element requested on hexahedron, creating DQ element.\n"
     ]
    },
    {
     "name": "stdout",
     "output_type": "stream",
     "text": [
      "Discontinuous Lagrange element requested on hexahedron, creating DQ element.\n"
     ]
    },
    {
     "name": "stderr",
     "output_type": "stream",
     "text": [
      "WARNING:UFL:Discontinuous Lagrange element requested on hexahedron, creating DQ element.\n"
     ]
    },
    {
     "name": "stdout",
     "output_type": "stream",
     "text": [
      "Discontinuous Lagrange element requested on hexahedron, creating DQ element.\n"
     ]
    },
    {
     "name": "stderr",
     "output_type": "stream",
     "text": [
      "WARNING:UFL:Discontinuous Lagrange element requested on hexahedron, creating DQ element.\n"
     ]
    },
    {
     "name": "stdout",
     "output_type": "stream",
     "text": [
      "Discontinuous Lagrange element requested on hexahedron, creating DQ element.\n"
     ]
    },
    {
     "name": "stderr",
     "output_type": "stream",
     "text": [
      "WARNING:UFL:Discontinuous Lagrange element requested on hexahedron, creating DQ element.\n"
     ]
    },
    {
     "name": "stdout",
     "output_type": "stream",
     "text": [
      "Discontinuous Lagrange element requested on hexahedron, creating DQ element.\n"
     ]
    },
    {
     "name": "stderr",
     "output_type": "stream",
     "text": [
      "WARNING:UFL:Discontinuous Lagrange element requested on hexahedron, creating DQ element.\n"
     ]
    },
    {
     "name": "stdout",
     "output_type": "stream",
     "text": [
      "Discontinuous Lagrange element requested on hexahedron, creating DQ element.\n"
     ]
    },
    {
     "name": "stderr",
     "output_type": "stream",
     "text": [
      "WARNING:UFL:Discontinuous Lagrange element requested on hexahedron, creating DQ element.\n"
     ]
    },
    {
     "name": "stdout",
     "output_type": "stream",
     "text": [
      "Discontinuous Lagrange element requested on hexahedron, creating DQ element.\n"
     ]
    },
    {
     "name": "stderr",
     "output_type": "stream",
     "text": [
      "WARNING:UFL:Discontinuous Lagrange element requested on hexahedron, creating DQ element.\n"
     ]
    },
    {
     "name": "stdout",
     "output_type": "stream",
     "text": [
      "Discontinuous Lagrange element requested on hexahedron, creating DQ element.\n"
     ]
    },
    {
     "name": "stderr",
     "output_type": "stream",
     "text": [
      "WARNING:UFL:Discontinuous Lagrange element requested on hexahedron, creating DQ element.\n"
     ]
    },
    {
     "name": "stdout",
     "output_type": "stream",
     "text": [
      "Discontinuous Lagrange element requested on hexahedron, creating DQ element.\n"
     ]
    },
    {
     "name": "stderr",
     "output_type": "stream",
     "text": [
      "WARNING:UFL:Discontinuous Lagrange element requested on hexahedron, creating DQ element.\n"
     ]
    },
    {
     "name": "stdout",
     "output_type": "stream",
     "text": [
      "Discontinuous Lagrange element requested on hexahedron, creating DQ element.\n"
     ]
    },
    {
     "name": "stderr",
     "output_type": "stream",
     "text": [
      "WARNING:UFL:Discontinuous Lagrange element requested on hexahedron, creating DQ element.\n"
     ]
    },
    {
     "name": "stdout",
     "output_type": "stream",
     "text": [
      "Discontinuous Lagrange element requested on hexahedron, creating DQ element.\n"
     ]
    },
    {
     "name": "stderr",
     "output_type": "stream",
     "text": [
      "WARNING:UFL:Discontinuous Lagrange element requested on hexahedron, creating DQ element.\n"
     ]
    },
    {
     "name": "stdout",
     "output_type": "stream",
     "text": [
      "Discontinuous Lagrange element requested on hexahedron, creating DQ element.\n"
     ]
    },
    {
     "name": "stderr",
     "output_type": "stream",
     "text": [
      "WARNING:UFL:Discontinuous Lagrange element requested on hexahedron, creating DQ element.\n"
     ]
    },
    {
     "name": "stdout",
     "output_type": "stream",
     "text": [
      "Discontinuous Lagrange element requested on hexahedron, creating DQ element.\n"
     ]
    },
    {
     "name": "stderr",
     "output_type": "stream",
     "text": [
      "WARNING:UFL:Discontinuous Lagrange element requested on hexahedron, creating DQ element.\n"
     ]
    },
    {
     "name": "stdout",
     "output_type": "stream",
     "text": [
      "Discontinuous Lagrange element requested on hexahedron, creating DQ element.\n"
     ]
    },
    {
     "name": "stderr",
     "output_type": "stream",
     "text": [
      "WARNING:UFL:Discontinuous Lagrange element requested on hexahedron, creating DQ element.\n"
     ]
    },
    {
     "name": "stdout",
     "output_type": "stream",
     "text": [
      "Discontinuous Lagrange element requested on hexahedron, creating DQ element.\n"
     ]
    },
    {
     "name": "stderr",
     "output_type": "stream",
     "text": [
      "WARNING:UFL:Discontinuous Lagrange element requested on hexahedron, creating DQ element.\n"
     ]
    },
    {
     "name": "stdout",
     "output_type": "stream",
     "text": [
      "Discontinuous Lagrange element requested on hexahedron, creating DQ element.\n"
     ]
    },
    {
     "name": "stderr",
     "output_type": "stream",
     "text": [
      "WARNING:UFL:Discontinuous Lagrange element requested on hexahedron, creating DQ element.\n"
     ]
    },
    {
     "name": "stdout",
     "output_type": "stream",
     "text": [
      "Discontinuous Lagrange element requested on hexahedron, creating DQ element.\n"
     ]
    },
    {
     "name": "stderr",
     "output_type": "stream",
     "text": [
      "WARNING:UFL:Discontinuous Lagrange element requested on hexahedron, creating DQ element.\n"
     ]
    },
    {
     "name": "stdout",
     "output_type": "stream",
     "text": [
      "Discontinuous Lagrange element requested on hexahedron, creating DQ element.\n"
     ]
    },
    {
     "name": "stderr",
     "output_type": "stream",
     "text": [
      "WARNING:UFL:Discontinuous Lagrange element requested on hexahedron, creating DQ element.\n"
     ]
    },
    {
     "name": "stdout",
     "output_type": "stream",
     "text": [
      "Discontinuous Lagrange element requested on hexahedron, creating DQ element.\n"
     ]
    },
    {
     "name": "stderr",
     "output_type": "stream",
     "text": [
      "WARNING:UFL:Discontinuous Lagrange element requested on hexahedron, creating DQ element.\n"
     ]
    },
    {
     "name": "stdout",
     "output_type": "stream",
     "text": [
      "Discontinuous Lagrange element requested on hexahedron, creating DQ element.\n"
     ]
    },
    {
     "name": "stderr",
     "output_type": "stream",
     "text": [
      "WARNING:UFL:Discontinuous Lagrange element requested on hexahedron, creating DQ element.\n"
     ]
    },
    {
     "name": "stdout",
     "output_type": "stream",
     "text": [
      "Discontinuous Lagrange element requested on hexahedron, creating DQ element.\n"
     ]
    },
    {
     "name": "stderr",
     "output_type": "stream",
     "text": [
      "WARNING:UFL:Discontinuous Lagrange element requested on hexahedron, creating DQ element.\n"
     ]
    },
    {
     "name": "stdout",
     "output_type": "stream",
     "text": [
      "Discontinuous Lagrange element requested on hexahedron, creating DQ element.\n"
     ]
    },
    {
     "name": "stderr",
     "output_type": "stream",
     "text": [
      "WARNING:UFL:Discontinuous Lagrange element requested on hexahedron, creating DQ element.\n"
     ]
    },
    {
     "name": "stdout",
     "output_type": "stream",
     "text": [
      "Discontinuous Lagrange element requested on hexahedron, creating DQ element.\n"
     ]
    },
    {
     "name": "stderr",
     "output_type": "stream",
     "text": [
      "WARNING:UFL:Discontinuous Lagrange element requested on hexahedron, creating DQ element.\n"
     ]
    },
    {
     "name": "stdout",
     "output_type": "stream",
     "text": [
      "Discontinuous Lagrange element requested on hexahedron, creating DQ element.\n"
     ]
    },
    {
     "name": "stderr",
     "output_type": "stream",
     "text": [
      "WARNING:UFL:Discontinuous Lagrange element requested on hexahedron, creating DQ element.\n"
     ]
    },
    {
     "name": "stdout",
     "output_type": "stream",
     "text": [
      "Discontinuous Lagrange element requested on hexahedron, creating DQ element.\n"
     ]
    },
    {
     "name": "stderr",
     "output_type": "stream",
     "text": [
      "WARNING:UFL:Discontinuous Lagrange element requested on hexahedron, creating DQ element.\n"
     ]
    },
    {
     "name": "stdout",
     "output_type": "stream",
     "text": [
      "Discontinuous Lagrange element requested on hexahedron, creating DQ element.\n"
     ]
    },
    {
     "name": "stderr",
     "output_type": "stream",
     "text": [
      "WARNING:UFL:Discontinuous Lagrange element requested on hexahedron, creating DQ element.\n"
     ]
    },
    {
     "name": "stdout",
     "output_type": "stream",
     "text": [
      "Discontinuous Lagrange element requested on hexahedron, creating DQ element.\n"
     ]
    },
    {
     "name": "stderr",
     "output_type": "stream",
     "text": [
      "WARNING:UFL:Discontinuous Lagrange element requested on hexahedron, creating DQ element.\n"
     ]
    },
    {
     "name": "stdout",
     "output_type": "stream",
     "text": [
      "Discontinuous Lagrange element requested on hexahedron, creating DQ element.\n"
     ]
    },
    {
     "name": "stderr",
     "output_type": "stream",
     "text": [
      "WARNING:UFL:Discontinuous Lagrange element requested on hexahedron, creating DQ element.\n"
     ]
    },
    {
     "name": "stdout",
     "output_type": "stream",
     "text": [
      "Discontinuous Lagrange element requested on hexahedron, creating DQ element.\n"
     ]
    },
    {
     "name": "stderr",
     "output_type": "stream",
     "text": [
      "WARNING:UFL:Discontinuous Lagrange element requested on hexahedron, creating DQ element.\n"
     ]
    },
    {
     "name": "stdout",
     "output_type": "stream",
     "text": [
      "Discontinuous Lagrange element requested on hexahedron, creating DQ element.\n"
     ]
    },
    {
     "name": "stderr",
     "output_type": "stream",
     "text": [
      "WARNING:UFL:Discontinuous Lagrange element requested on hexahedron, creating DQ element.\n"
     ]
    },
    {
     "name": "stdout",
     "output_type": "stream",
     "text": [
      "Discontinuous Lagrange element requested on hexahedron, creating DQ element.\n"
     ]
    },
    {
     "name": "stderr",
     "output_type": "stream",
     "text": [
      "WARNING:UFL:Discontinuous Lagrange element requested on hexahedron, creating DQ element.\n"
     ]
    },
    {
     "name": "stdout",
     "output_type": "stream",
     "text": [
      "Discontinuous Lagrange element requested on hexahedron, creating DQ element.\n"
     ]
    },
    {
     "name": "stderr",
     "output_type": "stream",
     "text": [
      "WARNING:UFL:Discontinuous Lagrange element requested on hexahedron, creating DQ element.\n"
     ]
    },
    {
     "name": "stdout",
     "output_type": "stream",
     "text": [
      "Discontinuous Lagrange element requested on hexahedron, creating DQ element.\n"
     ]
    },
    {
     "name": "stderr",
     "output_type": "stream",
     "text": [
      "WARNING:UFL:Discontinuous Lagrange element requested on hexahedron, creating DQ element.\n"
     ]
    },
    {
     "name": "stdout",
     "output_type": "stream",
     "text": [
      "Discontinuous Lagrange element requested on hexahedron, creating DQ element.\n"
     ]
    },
    {
     "name": "stderr",
     "output_type": "stream",
     "text": [
      "WARNING:UFL:Discontinuous Lagrange element requested on hexahedron, creating DQ element.\n"
     ]
    },
    {
     "name": "stdout",
     "output_type": "stream",
     "text": [
      "Discontinuous Lagrange element requested on hexahedron, creating DQ element.\n"
     ]
    },
    {
     "name": "stderr",
     "output_type": "stream",
     "text": [
      "WARNING:UFL:Discontinuous Lagrange element requested on hexahedron, creating DQ element.\n"
     ]
    },
    {
     "name": "stdout",
     "output_type": "stream",
     "text": [
      "Discontinuous Lagrange element requested on hexahedron, creating DQ element.\n"
     ]
    },
    {
     "name": "stderr",
     "output_type": "stream",
     "text": [
      "WARNING:UFL:Discontinuous Lagrange element requested on hexahedron, creating DQ element.\n"
     ]
    },
    {
     "name": "stdout",
     "output_type": "stream",
     "text": [
      "Discontinuous Lagrange element requested on hexahedron, creating DQ element.\n"
     ]
    },
    {
     "name": "stderr",
     "output_type": "stream",
     "text": [
      "WARNING:UFL:Discontinuous Lagrange element requested on hexahedron, creating DQ element.\n"
     ]
    },
    {
     "name": "stdout",
     "output_type": "stream",
     "text": [
      "Discontinuous Lagrange element requested on hexahedron, creating DQ element.\n"
     ]
    },
    {
     "name": "stderr",
     "output_type": "stream",
     "text": [
      "WARNING:UFL:Discontinuous Lagrange element requested on hexahedron, creating DQ element.\n"
     ]
    },
    {
     "name": "stdout",
     "output_type": "stream",
     "text": [
      "Discontinuous Lagrange element requested on hexahedron, creating DQ element.\n"
     ]
    },
    {
     "name": "stderr",
     "output_type": "stream",
     "text": [
      "WARNING:UFL:Discontinuous Lagrange element requested on hexahedron, creating DQ element.\n"
     ]
    },
    {
     "name": "stdout",
     "output_type": "stream",
     "text": [
      "Discontinuous Lagrange element requested on hexahedron, creating DQ element.\n"
     ]
    },
    {
     "name": "stderr",
     "output_type": "stream",
     "text": [
      "WARNING:UFL:Discontinuous Lagrange element requested on hexahedron, creating DQ element.\n"
     ]
    },
    {
     "name": "stdout",
     "output_type": "stream",
     "text": [
      "Discontinuous Lagrange element requested on hexahedron, creating DQ element.\n"
     ]
    },
    {
     "name": "stderr",
     "output_type": "stream",
     "text": [
      "WARNING:UFL:Discontinuous Lagrange element requested on hexahedron, creating DQ element.\n"
     ]
    },
    {
     "name": "stdout",
     "output_type": "stream",
     "text": [
      "Discontinuous Lagrange element requested on hexahedron, creating DQ element.\n"
     ]
    },
    {
     "name": "stderr",
     "output_type": "stream",
     "text": [
      "WARNING:UFL:Discontinuous Lagrange element requested on hexahedron, creating DQ element.\n"
     ]
    },
    {
     "name": "stdout",
     "output_type": "stream",
     "text": [
      "Discontinuous Lagrange element requested on hexahedron, creating DQ element.\n"
     ]
    },
    {
     "name": "stderr",
     "output_type": "stream",
     "text": [
      "WARNING:UFL:Discontinuous Lagrange element requested on hexahedron, creating DQ element.\n"
     ]
    },
    {
     "name": "stdout",
     "output_type": "stream",
     "text": [
      "Discontinuous Lagrange element requested on hexahedron, creating DQ element.\n"
     ]
    },
    {
     "name": "stderr",
     "output_type": "stream",
     "text": [
      "WARNING:UFL:Discontinuous Lagrange element requested on hexahedron, creating DQ element.\n"
     ]
    },
    {
     "name": "stdout",
     "output_type": "stream",
     "text": [
      "Discontinuous Lagrange element requested on hexahedron, creating DQ element.\n"
     ]
    },
    {
     "name": "stderr",
     "output_type": "stream",
     "text": [
      "WARNING:UFL:Discontinuous Lagrange element requested on hexahedron, creating DQ element.\n"
     ]
    },
    {
     "name": "stdout",
     "output_type": "stream",
     "text": [
      "Discontinuous Lagrange element requested on hexahedron, creating DQ element.\n"
     ]
    },
    {
     "name": "stderr",
     "output_type": "stream",
     "text": [
      "WARNING:UFL:Discontinuous Lagrange element requested on hexahedron, creating DQ element.\n"
     ]
    },
    {
     "name": "stdout",
     "output_type": "stream",
     "text": [
      "Discontinuous Lagrange element requested on hexahedron, creating DQ element.\n"
     ]
    },
    {
     "name": "stderr",
     "output_type": "stream",
     "text": [
      "WARNING:UFL:Discontinuous Lagrange element requested on hexahedron, creating DQ element.\n"
     ]
    },
    {
     "name": "stdout",
     "output_type": "stream",
     "text": [
      "Discontinuous Lagrange element requested on hexahedron, creating DQ element.\n"
     ]
    },
    {
     "name": "stderr",
     "output_type": "stream",
     "text": [
      "WARNING:UFL:Discontinuous Lagrange element requested on hexahedron, creating DQ element.\n"
     ]
    },
    {
     "name": "stdout",
     "output_type": "stream",
     "text": [
      "Discontinuous Lagrange element requested on hexahedron, creating DQ element.\n"
     ]
    },
    {
     "name": "stderr",
     "output_type": "stream",
     "text": [
      "WARNING:UFL:Discontinuous Lagrange element requested on hexahedron, creating DQ element.\n"
     ]
    },
    {
     "name": "stdout",
     "output_type": "stream",
     "text": [
      "Discontinuous Lagrange element requested on hexahedron, creating DQ element.\n"
     ]
    },
    {
     "name": "stderr",
     "output_type": "stream",
     "text": [
      "WARNING:UFL:Discontinuous Lagrange element requested on hexahedron, creating DQ element.\n"
     ]
    },
    {
     "name": "stdout",
     "output_type": "stream",
     "text": [
      "Discontinuous Lagrange element requested on hexahedron, creating DQ element.\n"
     ]
    },
    {
     "name": "stderr",
     "output_type": "stream",
     "text": [
      "WARNING:UFL:Discontinuous Lagrange element requested on hexahedron, creating DQ element.\n"
     ]
    },
    {
     "name": "stdout",
     "output_type": "stream",
     "text": [
      "Discontinuous Lagrange element requested on hexahedron, creating DQ element.\n"
     ]
    },
    {
     "name": "stderr",
     "output_type": "stream",
     "text": [
      "WARNING:UFL:Discontinuous Lagrange element requested on hexahedron, creating DQ element.\n"
     ]
    },
    {
     "name": "stdout",
     "output_type": "stream",
     "text": [
      "Discontinuous Lagrange element requested on hexahedron, creating DQ element.\n"
     ]
    },
    {
     "name": "stderr",
     "output_type": "stream",
     "text": [
      "WARNING:UFL:Discontinuous Lagrange element requested on hexahedron, creating DQ element.\n"
     ]
    },
    {
     "name": "stdout",
     "output_type": "stream",
     "text": [
      "Discontinuous Lagrange element requested on hexahedron, creating DQ element.\n"
     ]
    },
    {
     "name": "stderr",
     "output_type": "stream",
     "text": [
      "WARNING:UFL:Discontinuous Lagrange element requested on hexahedron, creating DQ element.\n"
     ]
    },
    {
     "name": "stdout",
     "output_type": "stream",
     "text": [
      "Discontinuous Lagrange element requested on hexahedron, creating DQ element.\n"
     ]
    },
    {
     "name": "stderr",
     "output_type": "stream",
     "text": [
      "WARNING:UFL:Discontinuous Lagrange element requested on hexahedron, creating DQ element.\n"
     ]
    },
    {
     "name": "stdout",
     "output_type": "stream",
     "text": [
      "Discontinuous Lagrange element requested on hexahedron, creating DQ element.\n"
     ]
    },
    {
     "name": "stderr",
     "output_type": "stream",
     "text": [
      "WARNING:UFL:Discontinuous Lagrange element requested on hexahedron, creating DQ element.\n"
     ]
    },
    {
     "name": "stdout",
     "output_type": "stream",
     "text": [
      "Discontinuous Lagrange element requested on hexahedron, creating DQ element.\n"
     ]
    },
    {
     "name": "stderr",
     "output_type": "stream",
     "text": [
      "WARNING:UFL:Discontinuous Lagrange element requested on hexahedron, creating DQ element.\n"
     ]
    },
    {
     "name": "stdout",
     "output_type": "stream",
     "text": [
      "Discontinuous Lagrange element requested on hexahedron, creating DQ element.\n"
     ]
    },
    {
     "name": "stderr",
     "output_type": "stream",
     "text": [
      "WARNING:UFL:Discontinuous Lagrange element requested on hexahedron, creating DQ element.\n"
     ]
    },
    {
     "name": "stdout",
     "output_type": "stream",
     "text": [
      "Discontinuous Lagrange element requested on hexahedron, creating DQ element.\n"
     ]
    },
    {
     "name": "stderr",
     "output_type": "stream",
     "text": [
      "WARNING:UFL:Discontinuous Lagrange element requested on hexahedron, creating DQ element.\n"
     ]
    },
    {
     "name": "stdout",
     "output_type": "stream",
     "text": [
      "Discontinuous Lagrange element requested on hexahedron, creating DQ element.\n"
     ]
    },
    {
     "name": "stderr",
     "output_type": "stream",
     "text": [
      "WARNING:UFL:Discontinuous Lagrange element requested on hexahedron, creating DQ element.\n"
     ]
    },
    {
     "name": "stdout",
     "output_type": "stream",
     "text": [
      "Discontinuous Lagrange element requested on hexahedron, creating DQ element.\n"
     ]
    },
    {
     "name": "stderr",
     "output_type": "stream",
     "text": [
      "WARNING:UFL:Discontinuous Lagrange element requested on hexahedron, creating DQ element.\n"
     ]
    },
    {
     "name": "stdout",
     "output_type": "stream",
     "text": [
      "Discontinuous Lagrange element requested on hexahedron, creating DQ element.\n"
     ]
    },
    {
     "name": "stderr",
     "output_type": "stream",
     "text": [
      "WARNING:UFL:Discontinuous Lagrange element requested on hexahedron, creating DQ element.\n"
     ]
    },
    {
     "name": "stdout",
     "output_type": "stream",
     "text": [
      "Discontinuous Lagrange element requested on hexahedron, creating DQ element.\n"
     ]
    },
    {
     "name": "stderr",
     "output_type": "stream",
     "text": [
      "WARNING:UFL:Discontinuous Lagrange element requested on hexahedron, creating DQ element.\n"
     ]
    },
    {
     "name": "stdout",
     "output_type": "stream",
     "text": [
      "Discontinuous Lagrange element requested on hexahedron, creating DQ element.\n"
     ]
    },
    {
     "name": "stderr",
     "output_type": "stream",
     "text": [
      "WARNING:UFL:Discontinuous Lagrange element requested on hexahedron, creating DQ element.\n"
     ]
    },
    {
     "name": "stdout",
     "output_type": "stream",
     "text": [
      "Discontinuous Lagrange element requested on hexahedron, creating DQ element.\n"
     ]
    },
    {
     "name": "stderr",
     "output_type": "stream",
     "text": [
      "WARNING:UFL:Discontinuous Lagrange element requested on hexahedron, creating DQ element.\n"
     ]
    },
    {
     "name": "stdout",
     "output_type": "stream",
     "text": [
      "Discontinuous Lagrange element requested on hexahedron, creating DQ element.\n"
     ]
    },
    {
     "name": "stderr",
     "output_type": "stream",
     "text": [
      "WARNING:UFL:Discontinuous Lagrange element requested on hexahedron, creating DQ element.\n"
     ]
    },
    {
     "name": "stdout",
     "output_type": "stream",
     "text": [
      "Discontinuous Lagrange element requested on hexahedron, creating DQ element.\n"
     ]
    },
    {
     "name": "stderr",
     "output_type": "stream",
     "text": [
      "WARNING:UFL:Discontinuous Lagrange element requested on hexahedron, creating DQ element.\n"
     ]
    },
    {
     "name": "stdout",
     "output_type": "stream",
     "text": [
      "Discontinuous Lagrange element requested on hexahedron, creating DQ element.\n"
     ]
    },
    {
     "name": "stderr",
     "output_type": "stream",
     "text": [
      "WARNING:UFL:Discontinuous Lagrange element requested on hexahedron, creating DQ element.\n"
     ]
    },
    {
     "name": "stdout",
     "output_type": "stream",
     "text": [
      "Discontinuous Lagrange element requested on hexahedron, creating DQ element.\n"
     ]
    },
    {
     "name": "stderr",
     "output_type": "stream",
     "text": [
      "WARNING:UFL:Discontinuous Lagrange element requested on hexahedron, creating DQ element.\n"
     ]
    },
    {
     "name": "stdout",
     "output_type": "stream",
     "text": [
      "Discontinuous Lagrange element requested on hexahedron, creating DQ element.\n"
     ]
    },
    {
     "name": "stderr",
     "output_type": "stream",
     "text": [
      "WARNING:UFL:Discontinuous Lagrange element requested on hexahedron, creating DQ element.\n"
     ]
    },
    {
     "name": "stdout",
     "output_type": "stream",
     "text": [
      "Discontinuous Lagrange element requested on hexahedron, creating DQ element.\n"
     ]
    },
    {
     "name": "stderr",
     "output_type": "stream",
     "text": [
      "WARNING:UFL:Discontinuous Lagrange element requested on hexahedron, creating DQ element.\n"
     ]
    },
    {
     "name": "stdout",
     "output_type": "stream",
     "text": [
      "Discontinuous Lagrange element requested on hexahedron, creating DQ element.\n"
     ]
    },
    {
     "name": "stderr",
     "output_type": "stream",
     "text": [
      "WARNING:UFL:Discontinuous Lagrange element requested on hexahedron, creating DQ element.\n"
     ]
    },
    {
     "name": "stdout",
     "output_type": "stream",
     "text": [
      "Discontinuous Lagrange element requested on hexahedron, creating DQ element.\n"
     ]
    },
    {
     "name": "stderr",
     "output_type": "stream",
     "text": [
      "WARNING:UFL:Discontinuous Lagrange element requested on hexahedron, creating DQ element.\n"
     ]
    },
    {
     "name": "stdout",
     "output_type": "stream",
     "text": [
      "Discontinuous Lagrange element requested on hexahedron, creating DQ element.\n"
     ]
    },
    {
     "name": "stderr",
     "output_type": "stream",
     "text": [
      "WARNING:UFL:Discontinuous Lagrange element requested on hexahedron, creating DQ element.\n"
     ]
    },
    {
     "name": "stdout",
     "output_type": "stream",
     "text": [
      "Discontinuous Lagrange element requested on hexahedron, creating DQ element.\n"
     ]
    },
    {
     "name": "stderr",
     "output_type": "stream",
     "text": [
      "WARNING:UFL:Discontinuous Lagrange element requested on hexahedron, creating DQ element.\n"
     ]
    },
    {
     "name": "stdout",
     "output_type": "stream",
     "text": [
      "Discontinuous Lagrange element requested on hexahedron, creating DQ element.\n"
     ]
    },
    {
     "name": "stderr",
     "output_type": "stream",
     "text": [
      "WARNING:UFL:Discontinuous Lagrange element requested on hexahedron, creating DQ element.\n"
     ]
    },
    {
     "name": "stdout",
     "output_type": "stream",
     "text": [
      "Discontinuous Lagrange element requested on hexahedron, creating DQ element.\n"
     ]
    },
    {
     "name": "stderr",
     "output_type": "stream",
     "text": [
      "WARNING:UFL:Discontinuous Lagrange element requested on hexahedron, creating DQ element.\n"
     ]
    },
    {
     "name": "stdout",
     "output_type": "stream",
     "text": [
      "Discontinuous Lagrange element requested on hexahedron, creating DQ element.\n"
     ]
    },
    {
     "name": "stderr",
     "output_type": "stream",
     "text": [
      "WARNING:UFL:Discontinuous Lagrange element requested on hexahedron, creating DQ element.\n"
     ]
    },
    {
     "name": "stdout",
     "output_type": "stream",
     "text": [
      "Discontinuous Lagrange element requested on hexahedron, creating DQ element.\n"
     ]
    },
    {
     "name": "stderr",
     "output_type": "stream",
     "text": [
      "WARNING:UFL:Discontinuous Lagrange element requested on hexahedron, creating DQ element.\n"
     ]
    },
    {
     "name": "stdout",
     "output_type": "stream",
     "text": [
      "Discontinuous Lagrange element requested on hexahedron, creating DQ element.\n"
     ]
    },
    {
     "name": "stderr",
     "output_type": "stream",
     "text": [
      "WARNING:UFL:Discontinuous Lagrange element requested on hexahedron, creating DQ element.\n"
     ]
    },
    {
     "name": "stdout",
     "output_type": "stream",
     "text": [
      "Discontinuous Lagrange element requested on hexahedron, creating DQ element.\n"
     ]
    },
    {
     "name": "stderr",
     "output_type": "stream",
     "text": [
      "WARNING:UFL:Discontinuous Lagrange element requested on hexahedron, creating DQ element.\n"
     ]
    },
    {
     "name": "stdout",
     "output_type": "stream",
     "text": [
      "Discontinuous Lagrange element requested on hexahedron, creating DQ element.\n"
     ]
    },
    {
     "name": "stderr",
     "output_type": "stream",
     "text": [
      "WARNING:UFL:Discontinuous Lagrange element requested on hexahedron, creating DQ element.\n"
     ]
    },
    {
     "name": "stdout",
     "output_type": "stream",
     "text": [
      "Discontinuous Lagrange element requested on hexahedron, creating DQ element.\n"
     ]
    },
    {
     "name": "stderr",
     "output_type": "stream",
     "text": [
      "WARNING:UFL:Discontinuous Lagrange element requested on hexahedron, creating DQ element.\n"
     ]
    },
    {
     "name": "stdout",
     "output_type": "stream",
     "text": [
      "Discontinuous Lagrange element requested on hexahedron, creating DQ element.\n"
     ]
    },
    {
     "name": "stderr",
     "output_type": "stream",
     "text": [
      "WARNING:UFL:Discontinuous Lagrange element requested on hexahedron, creating DQ element.\n"
     ]
    },
    {
     "name": "stdout",
     "output_type": "stream",
     "text": [
      "Discontinuous Lagrange element requested on hexahedron, creating DQ element.\n"
     ]
    },
    {
     "name": "stderr",
     "output_type": "stream",
     "text": [
      "WARNING:UFL:Discontinuous Lagrange element requested on hexahedron, creating DQ element.\n"
     ]
    },
    {
     "name": "stdout",
     "output_type": "stream",
     "text": [
      "Discontinuous Lagrange element requested on hexahedron, creating DQ element.\n"
     ]
    },
    {
     "name": "stderr",
     "output_type": "stream",
     "text": [
      "WARNING:UFL:Discontinuous Lagrange element requested on hexahedron, creating DQ element.\n"
     ]
    },
    {
     "name": "stdout",
     "output_type": "stream",
     "text": [
      "Discontinuous Lagrange element requested on hexahedron, creating DQ element.\n"
     ]
    },
    {
     "name": "stderr",
     "output_type": "stream",
     "text": [
      "WARNING:UFL:Discontinuous Lagrange element requested on hexahedron, creating DQ element.\n"
     ]
    },
    {
     "name": "stdout",
     "output_type": "stream",
     "text": [
      "Discontinuous Lagrange element requested on hexahedron, creating DQ element.\n"
     ]
    },
    {
     "name": "stderr",
     "output_type": "stream",
     "text": [
      "WARNING:UFL:Discontinuous Lagrange element requested on hexahedron, creating DQ element.\n"
     ]
    },
    {
     "name": "stdout",
     "output_type": "stream",
     "text": [
      "Discontinuous Lagrange element requested on hexahedron, creating DQ element.\n"
     ]
    },
    {
     "name": "stderr",
     "output_type": "stream",
     "text": [
      "WARNING:UFL:Discontinuous Lagrange element requested on hexahedron, creating DQ element.\n"
     ]
    },
    {
     "name": "stdout",
     "output_type": "stream",
     "text": [
      "Discontinuous Lagrange element requested on hexahedron, creating DQ element.\n"
     ]
    },
    {
     "name": "stderr",
     "output_type": "stream",
     "text": [
      "WARNING:UFL:Discontinuous Lagrange element requested on hexahedron, creating DQ element.\n"
     ]
    },
    {
     "name": "stdout",
     "output_type": "stream",
     "text": [
      "Discontinuous Lagrange element requested on hexahedron, creating DQ element.\n"
     ]
    },
    {
     "name": "stderr",
     "output_type": "stream",
     "text": [
      "WARNING:UFL:Discontinuous Lagrange element requested on hexahedron, creating DQ element.\n"
     ]
    },
    {
     "name": "stdout",
     "output_type": "stream",
     "text": [
      "Discontinuous Lagrange element requested on hexahedron, creating DQ element.\n"
     ]
    },
    {
     "name": "stderr",
     "output_type": "stream",
     "text": [
      "WARNING:UFL:Discontinuous Lagrange element requested on hexahedron, creating DQ element.\n"
     ]
    },
    {
     "name": "stdout",
     "output_type": "stream",
     "text": [
      "Discontinuous Lagrange element requested on hexahedron, creating DQ element.\n"
     ]
    },
    {
     "name": "stderr",
     "output_type": "stream",
     "text": [
      "WARNING:UFL:Discontinuous Lagrange element requested on hexahedron, creating DQ element.\n"
     ]
    },
    {
     "name": "stdout",
     "output_type": "stream",
     "text": [
      "Discontinuous Lagrange element requested on hexahedron, creating DQ element.\n"
     ]
    },
    {
     "name": "stderr",
     "output_type": "stream",
     "text": [
      "WARNING:UFL:Discontinuous Lagrange element requested on hexahedron, creating DQ element.\n"
     ]
    },
    {
     "name": "stdout",
     "output_type": "stream",
     "text": [
      "Discontinuous Lagrange element requested on hexahedron, creating DQ element.\n"
     ]
    },
    {
     "name": "stderr",
     "output_type": "stream",
     "text": [
      "WARNING:UFL:Discontinuous Lagrange element requested on hexahedron, creating DQ element.\n"
     ]
    },
    {
     "name": "stdout",
     "output_type": "stream",
     "text": [
      "Discontinuous Lagrange element requested on hexahedron, creating DQ element.\n"
     ]
    },
    {
     "name": "stderr",
     "output_type": "stream",
     "text": [
      "WARNING:UFL:Discontinuous Lagrange element requested on hexahedron, creating DQ element.\n"
     ]
    },
    {
     "name": "stdout",
     "output_type": "stream",
     "text": [
      "Discontinuous Lagrange element requested on hexahedron, creating DQ element.\n"
     ]
    },
    {
     "name": "stderr",
     "output_type": "stream",
     "text": [
      "WARNING:UFL:Discontinuous Lagrange element requested on hexahedron, creating DQ element.\n"
     ]
    },
    {
     "name": "stdout",
     "output_type": "stream",
     "text": [
      "Discontinuous Lagrange element requested on hexahedron, creating DQ element.\n"
     ]
    },
    {
     "name": "stderr",
     "output_type": "stream",
     "text": [
      "WARNING:UFL:Discontinuous Lagrange element requested on hexahedron, creating DQ element.\n"
     ]
    },
    {
     "name": "stdout",
     "output_type": "stream",
     "text": [
      "Discontinuous Lagrange element requested on hexahedron, creating DQ element.\n"
     ]
    },
    {
     "name": "stderr",
     "output_type": "stream",
     "text": [
      "WARNING:UFL:Discontinuous Lagrange element requested on hexahedron, creating DQ element.\n"
     ]
    },
    {
     "name": "stdout",
     "output_type": "stream",
     "text": [
      "Discontinuous Lagrange element requested on hexahedron, creating DQ element.\n"
     ]
    },
    {
     "name": "stderr",
     "output_type": "stream",
     "text": [
      "WARNING:UFL:Discontinuous Lagrange element requested on hexahedron, creating DQ element.\n"
     ]
    },
    {
     "name": "stdout",
     "output_type": "stream",
     "text": [
      "Discontinuous Lagrange element requested on hexahedron, creating DQ element.\n"
     ]
    },
    {
     "name": "stderr",
     "output_type": "stream",
     "text": [
      "WARNING:UFL:Discontinuous Lagrange element requested on hexahedron, creating DQ element.\n"
     ]
    },
    {
     "name": "stdout",
     "output_type": "stream",
     "text": [
      "Discontinuous Lagrange element requested on hexahedron, creating DQ element.\n"
     ]
    },
    {
     "name": "stderr",
     "output_type": "stream",
     "text": [
      "WARNING:UFL:Discontinuous Lagrange element requested on hexahedron, creating DQ element.\n"
     ]
    },
    {
     "name": "stdout",
     "output_type": "stream",
     "text": [
      "Discontinuous Lagrange element requested on hexahedron, creating DQ element.\n"
     ]
    },
    {
     "name": "stderr",
     "output_type": "stream",
     "text": [
      "WARNING:UFL:Discontinuous Lagrange element requested on hexahedron, creating DQ element.\n"
     ]
    },
    {
     "name": "stdout",
     "output_type": "stream",
     "text": [
      "Discontinuous Lagrange element requested on hexahedron, creating DQ element.\n"
     ]
    },
    {
     "name": "stderr",
     "output_type": "stream",
     "text": [
      "WARNING:UFL:Discontinuous Lagrange element requested on hexahedron, creating DQ element.\n"
     ]
    },
    {
     "name": "stdout",
     "output_type": "stream",
     "text": [
      "Discontinuous Lagrange element requested on hexahedron, creating DQ element.\n"
     ]
    },
    {
     "name": "stderr",
     "output_type": "stream",
     "text": [
      "WARNING:UFL:Discontinuous Lagrange element requested on hexahedron, creating DQ element.\n"
     ]
    },
    {
     "name": "stdout",
     "output_type": "stream",
     "text": [
      "Discontinuous Lagrange element requested on hexahedron, creating DQ element.\n"
     ]
    },
    {
     "name": "stderr",
     "output_type": "stream",
     "text": [
      "WARNING:UFL:Discontinuous Lagrange element requested on hexahedron, creating DQ element.\n"
     ]
    },
    {
     "name": "stdout",
     "output_type": "stream",
     "text": [
      "Discontinuous Lagrange element requested on hexahedron, creating DQ element.\n"
     ]
    },
    {
     "name": "stderr",
     "output_type": "stream",
     "text": [
      "WARNING:UFL:Discontinuous Lagrange element requested on hexahedron, creating DQ element.\n"
     ]
    },
    {
     "name": "stdout",
     "output_type": "stream",
     "text": [
      "Discontinuous Lagrange element requested on hexahedron, creating DQ element.\n"
     ]
    },
    {
     "name": "stderr",
     "output_type": "stream",
     "text": [
      "WARNING:UFL:Discontinuous Lagrange element requested on hexahedron, creating DQ element.\n"
     ]
    },
    {
     "name": "stdout",
     "output_type": "stream",
     "text": [
      "Discontinuous Lagrange element requested on hexahedron, creating DQ element.\n"
     ]
    },
    {
     "name": "stderr",
     "output_type": "stream",
     "text": [
      "WARNING:UFL:Discontinuous Lagrange element requested on hexahedron, creating DQ element.\n"
     ]
    },
    {
     "name": "stdout",
     "output_type": "stream",
     "text": [
      "Discontinuous Lagrange element requested on hexahedron, creating DQ element.\n"
     ]
    },
    {
     "name": "stderr",
     "output_type": "stream",
     "text": [
      "WARNING:UFL:Discontinuous Lagrange element requested on hexahedron, creating DQ element.\n"
     ]
    },
    {
     "name": "stdout",
     "output_type": "stream",
     "text": [
      "Discontinuous Lagrange element requested on hexahedron, creating DQ element.\n"
     ]
    },
    {
     "name": "stderr",
     "output_type": "stream",
     "text": [
      "WARNING:UFL:Discontinuous Lagrange element requested on hexahedron, creating DQ element.\n"
     ]
    },
    {
     "name": "stdout",
     "output_type": "stream",
     "text": [
      "Discontinuous Lagrange element requested on hexahedron, creating DQ element.\n"
     ]
    },
    {
     "name": "stderr",
     "output_type": "stream",
     "text": [
      "WARNING:UFL:Discontinuous Lagrange element requested on hexahedron, creating DQ element.\n"
     ]
    },
    {
     "name": "stdout",
     "output_type": "stream",
     "text": [
      "Discontinuous Lagrange element requested on hexahedron, creating DQ element.\n"
     ]
    },
    {
     "name": "stderr",
     "output_type": "stream",
     "text": [
      "WARNING:UFL:Discontinuous Lagrange element requested on hexahedron, creating DQ element.\n"
     ]
    },
    {
     "name": "stdout",
     "output_type": "stream",
     "text": [
      "Discontinuous Lagrange element requested on hexahedron, creating DQ element.\n"
     ]
    },
    {
     "name": "stderr",
     "output_type": "stream",
     "text": [
      "WARNING:UFL:Discontinuous Lagrange element requested on hexahedron, creating DQ element.\n"
     ]
    },
    {
     "name": "stdout",
     "output_type": "stream",
     "text": [
      "Discontinuous Lagrange element requested on hexahedron, creating DQ element.\n"
     ]
    },
    {
     "name": "stderr",
     "output_type": "stream",
     "text": [
      "WARNING:UFL:Discontinuous Lagrange element requested on hexahedron, creating DQ element.\n"
     ]
    },
    {
     "name": "stdout",
     "output_type": "stream",
     "text": [
      "Discontinuous Lagrange element requested on hexahedron, creating DQ element.\n"
     ]
    },
    {
     "name": "stderr",
     "output_type": "stream",
     "text": [
      "WARNING:UFL:Discontinuous Lagrange element requested on hexahedron, creating DQ element.\n"
     ]
    },
    {
     "name": "stdout",
     "output_type": "stream",
     "text": [
      "Discontinuous Lagrange element requested on hexahedron, creating DQ element.\n"
     ]
    },
    {
     "name": "stderr",
     "output_type": "stream",
     "text": [
      "WARNING:UFL:Discontinuous Lagrange element requested on hexahedron, creating DQ element.\n"
     ]
    },
    {
     "name": "stdout",
     "output_type": "stream",
     "text": [
      "Discontinuous Lagrange element requested on hexahedron, creating DQ element.\n"
     ]
    },
    {
     "name": "stderr",
     "output_type": "stream",
     "text": [
      "WARNING:UFL:Discontinuous Lagrange element requested on hexahedron, creating DQ element.\n"
     ]
    },
    {
     "name": "stdout",
     "output_type": "stream",
     "text": [
      "Discontinuous Lagrange element requested on hexahedron, creating DQ element.\n"
     ]
    },
    {
     "name": "stderr",
     "output_type": "stream",
     "text": [
      "WARNING:UFL:Discontinuous Lagrange element requested on hexahedron, creating DQ element.\n"
     ]
    },
    {
     "name": "stdout",
     "output_type": "stream",
     "text": [
      "Discontinuous Lagrange element requested on hexahedron, creating DQ element.\n"
     ]
    },
    {
     "name": "stderr",
     "output_type": "stream",
     "text": [
      "WARNING:UFL:Discontinuous Lagrange element requested on hexahedron, creating DQ element.\n"
     ]
    },
    {
     "name": "stdout",
     "output_type": "stream",
     "text": [
      "Discontinuous Lagrange element requested on hexahedron, creating DQ element.\n"
     ]
    },
    {
     "name": "stderr",
     "output_type": "stream",
     "text": [
      "WARNING:UFL:Discontinuous Lagrange element requested on hexahedron, creating DQ element.\n"
     ]
    },
    {
     "name": "stdout",
     "output_type": "stream",
     "text": [
      "Discontinuous Lagrange element requested on hexahedron, creating DQ element.\n"
     ]
    },
    {
     "name": "stderr",
     "output_type": "stream",
     "text": [
      "WARNING:UFL:Discontinuous Lagrange element requested on hexahedron, creating DQ element.\n"
     ]
    },
    {
     "name": "stdout",
     "output_type": "stream",
     "text": [
      "Discontinuous Lagrange element requested on hexahedron, creating DQ element.\n"
     ]
    },
    {
     "name": "stderr",
     "output_type": "stream",
     "text": [
      "WARNING:UFL:Discontinuous Lagrange element requested on hexahedron, creating DQ element.\n"
     ]
    },
    {
     "name": "stdout",
     "output_type": "stream",
     "text": [
      "Discontinuous Lagrange element requested on hexahedron, creating DQ element.\n"
     ]
    },
    {
     "name": "stderr",
     "output_type": "stream",
     "text": [
      "WARNING:UFL:Discontinuous Lagrange element requested on hexahedron, creating DQ element.\n"
     ]
    },
    {
     "name": "stdout",
     "output_type": "stream",
     "text": [
      "Discontinuous Lagrange element requested on hexahedron, creating DQ element.\n"
     ]
    },
    {
     "name": "stderr",
     "output_type": "stream",
     "text": [
      "WARNING:UFL:Discontinuous Lagrange element requested on hexahedron, creating DQ element.\n"
     ]
    },
    {
     "name": "stdout",
     "output_type": "stream",
     "text": [
      "Discontinuous Lagrange element requested on hexahedron, creating DQ element.\n"
     ]
    },
    {
     "name": "stderr",
     "output_type": "stream",
     "text": [
      "WARNING:UFL:Discontinuous Lagrange element requested on hexahedron, creating DQ element.\n"
     ]
    },
    {
     "name": "stdout",
     "output_type": "stream",
     "text": [
      "Discontinuous Lagrange element requested on hexahedron, creating DQ element.\n"
     ]
    },
    {
     "name": "stderr",
     "output_type": "stream",
     "text": [
      "WARNING:UFL:Discontinuous Lagrange element requested on hexahedron, creating DQ element.\n"
     ]
    },
    {
     "name": "stdout",
     "output_type": "stream",
     "text": [
      "Discontinuous Lagrange element requested on hexahedron, creating DQ element.\n"
     ]
    },
    {
     "name": "stderr",
     "output_type": "stream",
     "text": [
      "WARNING:UFL:Discontinuous Lagrange element requested on hexahedron, creating DQ element.\n"
     ]
    },
    {
     "name": "stdout",
     "output_type": "stream",
     "text": [
      "Discontinuous Lagrange element requested on hexahedron, creating DQ element.\n"
     ]
    },
    {
     "name": "stderr",
     "output_type": "stream",
     "text": [
      "WARNING:UFL:Discontinuous Lagrange element requested on hexahedron, creating DQ element.\n"
     ]
    },
    {
     "name": "stdout",
     "output_type": "stream",
     "text": [
      "Discontinuous Lagrange element requested on hexahedron, creating DQ element.\n"
     ]
    },
    {
     "name": "stderr",
     "output_type": "stream",
     "text": [
      "WARNING:UFL:Discontinuous Lagrange element requested on hexahedron, creating DQ element.\n"
     ]
    },
    {
     "name": "stdout",
     "output_type": "stream",
     "text": [
      "Discontinuous Lagrange element requested on hexahedron, creating DQ element.\n"
     ]
    },
    {
     "name": "stderr",
     "output_type": "stream",
     "text": [
      "WARNING:UFL:Discontinuous Lagrange element requested on hexahedron, creating DQ element.\n"
     ]
    },
    {
     "name": "stdout",
     "output_type": "stream",
     "text": [
      "Discontinuous Lagrange element requested on hexahedron, creating DQ element.\n"
     ]
    },
    {
     "name": "stderr",
     "output_type": "stream",
     "text": [
      "WARNING:UFL:Discontinuous Lagrange element requested on hexahedron, creating DQ element.\n"
     ]
    },
    {
     "name": "stdout",
     "output_type": "stream",
     "text": [
      "Discontinuous Lagrange element requested on hexahedron, creating DQ element.\n"
     ]
    },
    {
     "name": "stderr",
     "output_type": "stream",
     "text": [
      "WARNING:UFL:Discontinuous Lagrange element requested on hexahedron, creating DQ element.\n"
     ]
    },
    {
     "name": "stdout",
     "output_type": "stream",
     "text": [
      "Discontinuous Lagrange element requested on hexahedron, creating DQ element.\n"
     ]
    },
    {
     "name": "stderr",
     "output_type": "stream",
     "text": [
      "WARNING:UFL:Discontinuous Lagrange element requested on hexahedron, creating DQ element.\n"
     ]
    },
    {
     "name": "stdout",
     "output_type": "stream",
     "text": [
      "Discontinuous Lagrange element requested on hexahedron, creating DQ element.\n"
     ]
    },
    {
     "name": "stderr",
     "output_type": "stream",
     "text": [
      "WARNING:UFL:Discontinuous Lagrange element requested on hexahedron, creating DQ element.\n"
     ]
    },
    {
     "name": "stdout",
     "output_type": "stream",
     "text": [
      "Discontinuous Lagrange element requested on hexahedron, creating DQ element.\n"
     ]
    },
    {
     "name": "stderr",
     "output_type": "stream",
     "text": [
      "WARNING:UFL:Discontinuous Lagrange element requested on hexahedron, creating DQ element.\n"
     ]
    },
    {
     "name": "stdout",
     "output_type": "stream",
     "text": [
      "Discontinuous Lagrange element requested on hexahedron, creating DQ element.\n"
     ]
    },
    {
     "name": "stderr",
     "output_type": "stream",
     "text": [
      "WARNING:UFL:Discontinuous Lagrange element requested on hexahedron, creating DQ element.\n"
     ]
    },
    {
     "name": "stdout",
     "output_type": "stream",
     "text": [
      "Discontinuous Lagrange element requested on hexahedron, creating DQ element.\n"
     ]
    },
    {
     "name": "stderr",
     "output_type": "stream",
     "text": [
      "WARNING:UFL:Discontinuous Lagrange element requested on hexahedron, creating DQ element.\n"
     ]
    },
    {
     "name": "stdout",
     "output_type": "stream",
     "text": [
      "Discontinuous Lagrange element requested on hexahedron, creating DQ element.\n"
     ]
    },
    {
     "name": "stderr",
     "output_type": "stream",
     "text": [
      "WARNING:UFL:Discontinuous Lagrange element requested on hexahedron, creating DQ element.\n"
     ]
    },
    {
     "name": "stdout",
     "output_type": "stream",
     "text": [
      "Discontinuous Lagrange element requested on hexahedron, creating DQ element.\n"
     ]
    },
    {
     "name": "stderr",
     "output_type": "stream",
     "text": [
      "WARNING:UFL:Discontinuous Lagrange element requested on hexahedron, creating DQ element.\n"
     ]
    },
    {
     "name": "stdout",
     "output_type": "stream",
     "text": [
      "Discontinuous Lagrange element requested on hexahedron, creating DQ element.\n"
     ]
    },
    {
     "name": "stderr",
     "output_type": "stream",
     "text": [
      "WARNING:UFL:Discontinuous Lagrange element requested on hexahedron, creating DQ element.\n"
     ]
    },
    {
     "name": "stdout",
     "output_type": "stream",
     "text": [
      "Discontinuous Lagrange element requested on hexahedron, creating DQ element.\n"
     ]
    },
    {
     "name": "stderr",
     "output_type": "stream",
     "text": [
      "WARNING:UFL:Discontinuous Lagrange element requested on hexahedron, creating DQ element.\n"
     ]
    },
    {
     "name": "stdout",
     "output_type": "stream",
     "text": [
      "Discontinuous Lagrange element requested on hexahedron, creating DQ element.\n"
     ]
    },
    {
     "name": "stderr",
     "output_type": "stream",
     "text": [
      "WARNING:UFL:Discontinuous Lagrange element requested on hexahedron, creating DQ element.\n"
     ]
    },
    {
     "name": "stdout",
     "output_type": "stream",
     "text": [
      "Discontinuous Lagrange element requested on hexahedron, creating DQ element.\n"
     ]
    },
    {
     "name": "stderr",
     "output_type": "stream",
     "text": [
      "WARNING:UFL:Discontinuous Lagrange element requested on hexahedron, creating DQ element.\n"
     ]
    },
    {
     "name": "stdout",
     "output_type": "stream",
     "text": [
      "Discontinuous Lagrange element requested on hexahedron, creating DQ element.\n"
     ]
    },
    {
     "name": "stderr",
     "output_type": "stream",
     "text": [
      "WARNING:UFL:Discontinuous Lagrange element requested on hexahedron, creating DQ element.\n"
     ]
    },
    {
     "name": "stdout",
     "output_type": "stream",
     "text": [
      "Discontinuous Lagrange element requested on hexahedron, creating DQ element.\n"
     ]
    },
    {
     "name": "stderr",
     "output_type": "stream",
     "text": [
      "WARNING:UFL:Discontinuous Lagrange element requested on hexahedron, creating DQ element.\n"
     ]
    },
    {
     "name": "stdout",
     "output_type": "stream",
     "text": [
      "Discontinuous Lagrange element requested on hexahedron, creating DQ element.\n"
     ]
    },
    {
     "name": "stderr",
     "output_type": "stream",
     "text": [
      "WARNING:UFL:Discontinuous Lagrange element requested on hexahedron, creating DQ element.\n"
     ]
    },
    {
     "name": "stdout",
     "output_type": "stream",
     "text": [
      "Discontinuous Lagrange element requested on hexahedron, creating DQ element.\n"
     ]
    },
    {
     "name": "stderr",
     "output_type": "stream",
     "text": [
      "WARNING:UFL:Discontinuous Lagrange element requested on hexahedron, creating DQ element.\n"
     ]
    },
    {
     "name": "stdout",
     "output_type": "stream",
     "text": [
      "Discontinuous Lagrange element requested on hexahedron, creating DQ element.\n"
     ]
    },
    {
     "name": "stderr",
     "output_type": "stream",
     "text": [
      "WARNING:UFL:Discontinuous Lagrange element requested on hexahedron, creating DQ element.\n"
     ]
    },
    {
     "name": "stdout",
     "output_type": "stream",
     "text": [
      "Discontinuous Lagrange element requested on hexahedron, creating DQ element.\n"
     ]
    },
    {
     "name": "stderr",
     "output_type": "stream",
     "text": [
      "WARNING:UFL:Discontinuous Lagrange element requested on hexahedron, creating DQ element.\n"
     ]
    },
    {
     "name": "stdout",
     "output_type": "stream",
     "text": [
      "Discontinuous Lagrange element requested on hexahedron, creating DQ element.\n"
     ]
    },
    {
     "name": "stderr",
     "output_type": "stream",
     "text": [
      "WARNING:UFL:Discontinuous Lagrange element requested on hexahedron, creating DQ element.\n"
     ]
    },
    {
     "name": "stdout",
     "output_type": "stream",
     "text": [
      "Discontinuous Lagrange element requested on hexahedron, creating DQ element.\n"
     ]
    },
    {
     "name": "stderr",
     "output_type": "stream",
     "text": [
      "WARNING:UFL:Discontinuous Lagrange element requested on hexahedron, creating DQ element.\n"
     ]
    },
    {
     "name": "stdout",
     "output_type": "stream",
     "text": [
      "Discontinuous Lagrange element requested on hexahedron, creating DQ element.\n"
     ]
    },
    {
     "name": "stderr",
     "output_type": "stream",
     "text": [
      "WARNING:UFL:Discontinuous Lagrange element requested on hexahedron, creating DQ element.\n"
     ]
    },
    {
     "name": "stdout",
     "output_type": "stream",
     "text": [
      "Discontinuous Lagrange element requested on hexahedron, creating DQ element.\n"
     ]
    },
    {
     "name": "stderr",
     "output_type": "stream",
     "text": [
      "WARNING:UFL:Discontinuous Lagrange element requested on hexahedron, creating DQ element.\n"
     ]
    },
    {
     "name": "stdout",
     "output_type": "stream",
     "text": [
      "Discontinuous Lagrange element requested on hexahedron, creating DQ element.\n"
     ]
    },
    {
     "name": "stderr",
     "output_type": "stream",
     "text": [
      "WARNING:UFL:Discontinuous Lagrange element requested on hexahedron, creating DQ element.\n"
     ]
    },
    {
     "name": "stdout",
     "output_type": "stream",
     "text": [
      "Discontinuous Lagrange element requested on hexahedron, creating DQ element.\n"
     ]
    },
    {
     "name": "stderr",
     "output_type": "stream",
     "text": [
      "WARNING:UFL:Discontinuous Lagrange element requested on hexahedron, creating DQ element.\n"
     ]
    },
    {
     "name": "stdout",
     "output_type": "stream",
     "text": [
      "Discontinuous Lagrange element requested on hexahedron, creating DQ element.\n"
     ]
    },
    {
     "name": "stderr",
     "output_type": "stream",
     "text": [
      "WARNING:UFL:Discontinuous Lagrange element requested on hexahedron, creating DQ element.\n"
     ]
    },
    {
     "name": "stdout",
     "output_type": "stream",
     "text": [
      "Discontinuous Lagrange element requested on hexahedron, creating DQ element.\n"
     ]
    },
    {
     "name": "stderr",
     "output_type": "stream",
     "text": [
      "WARNING:UFL:Discontinuous Lagrange element requested on hexahedron, creating DQ element.\n"
     ]
    },
    {
     "name": "stdout",
     "output_type": "stream",
     "text": [
      "Discontinuous Lagrange element requested on hexahedron, creating DQ element.\n"
     ]
    },
    {
     "name": "stderr",
     "output_type": "stream",
     "text": [
      "WARNING:UFL:Discontinuous Lagrange element requested on hexahedron, creating DQ element.\n"
     ]
    },
    {
     "name": "stdout",
     "output_type": "stream",
     "text": [
      "Discontinuous Lagrange element requested on hexahedron, creating DQ element.\n"
     ]
    },
    {
     "name": "stderr",
     "output_type": "stream",
     "text": [
      "WARNING:UFL:Discontinuous Lagrange element requested on hexahedron, creating DQ element.\n"
     ]
    },
    {
     "name": "stdout",
     "output_type": "stream",
     "text": [
      "Discontinuous Lagrange element requested on hexahedron, creating DQ element.\n"
     ]
    },
    {
     "name": "stderr",
     "output_type": "stream",
     "text": [
      "WARNING:UFL:Discontinuous Lagrange element requested on hexahedron, creating DQ element.\n"
     ]
    },
    {
     "name": "stdout",
     "output_type": "stream",
     "text": [
      "Discontinuous Lagrange element requested on hexahedron, creating DQ element.\n"
     ]
    },
    {
     "name": "stderr",
     "output_type": "stream",
     "text": [
      "WARNING:UFL:Discontinuous Lagrange element requested on hexahedron, creating DQ element.\n"
     ]
    },
    {
     "name": "stdout",
     "output_type": "stream",
     "text": [
      "Discontinuous Lagrange element requested on hexahedron, creating DQ element.\n"
     ]
    },
    {
     "name": "stderr",
     "output_type": "stream",
     "text": [
      "WARNING:UFL:Discontinuous Lagrange element requested on hexahedron, creating DQ element.\n"
     ]
    },
    {
     "name": "stdout",
     "output_type": "stream",
     "text": [
      "Discontinuous Lagrange element requested on hexahedron, creating DQ element.\n"
     ]
    },
    {
     "name": "stderr",
     "output_type": "stream",
     "text": [
      "WARNING:UFL:Discontinuous Lagrange element requested on hexahedron, creating DQ element.\n"
     ]
    },
    {
     "name": "stdout",
     "output_type": "stream",
     "text": [
      "Discontinuous Lagrange element requested on hexahedron, creating DQ element.\n"
     ]
    },
    {
     "name": "stderr",
     "output_type": "stream",
     "text": [
      "WARNING:UFL:Discontinuous Lagrange element requested on hexahedron, creating DQ element.\n"
     ]
    },
    {
     "name": "stdout",
     "output_type": "stream",
     "text": [
      "Discontinuous Lagrange element requested on hexahedron, creating DQ element.\n"
     ]
    },
    {
     "name": "stderr",
     "output_type": "stream",
     "text": [
      "WARNING:UFL:Discontinuous Lagrange element requested on hexahedron, creating DQ element.\n"
     ]
    },
    {
     "name": "stdout",
     "output_type": "stream",
     "text": [
      "Discontinuous Lagrange element requested on hexahedron, creating DQ element.\n"
     ]
    },
    {
     "name": "stderr",
     "output_type": "stream",
     "text": [
      "WARNING:UFL:Discontinuous Lagrange element requested on hexahedron, creating DQ element.\n"
     ]
    },
    {
     "name": "stdout",
     "output_type": "stream",
     "text": [
      "Discontinuous Lagrange element requested on hexahedron, creating DQ element.\n"
     ]
    },
    {
     "name": "stderr",
     "output_type": "stream",
     "text": [
      "WARNING:UFL:Discontinuous Lagrange element requested on hexahedron, creating DQ element.\n"
     ]
    },
    {
     "name": "stdout",
     "output_type": "stream",
     "text": [
      "Discontinuous Lagrange element requested on hexahedron, creating DQ element.\n"
     ]
    },
    {
     "name": "stderr",
     "output_type": "stream",
     "text": [
      "WARNING:UFL:Discontinuous Lagrange element requested on hexahedron, creating DQ element.\n"
     ]
    },
    {
     "name": "stdout",
     "output_type": "stream",
     "text": [
      "Discontinuous Lagrange element requested on hexahedron, creating DQ element.\n"
     ]
    },
    {
     "name": "stderr",
     "output_type": "stream",
     "text": [
      "WARNING:UFL:Discontinuous Lagrange element requested on hexahedron, creating DQ element.\n"
     ]
    },
    {
     "name": "stdout",
     "output_type": "stream",
     "text": [
      "Discontinuous Lagrange element requested on hexahedron, creating DQ element.\n"
     ]
    },
    {
     "name": "stderr",
     "output_type": "stream",
     "text": [
      "WARNING:UFL:Discontinuous Lagrange element requested on hexahedron, creating DQ element.\n"
     ]
    },
    {
     "name": "stdout",
     "output_type": "stream",
     "text": [
      "Discontinuous Lagrange element requested on hexahedron, creating DQ element.\n"
     ]
    },
    {
     "name": "stderr",
     "output_type": "stream",
     "text": [
      "WARNING:UFL:Discontinuous Lagrange element requested on hexahedron, creating DQ element.\n"
     ]
    },
    {
     "name": "stdout",
     "output_type": "stream",
     "text": [
      "Discontinuous Lagrange element requested on hexahedron, creating DQ element.\n"
     ]
    },
    {
     "name": "stderr",
     "output_type": "stream",
     "text": [
      "WARNING:UFL:Discontinuous Lagrange element requested on hexahedron, creating DQ element.\n"
     ]
    },
    {
     "name": "stdout",
     "output_type": "stream",
     "text": [
      "Discontinuous Lagrange element requested on hexahedron, creating DQ element.\n"
     ]
    },
    {
     "name": "stderr",
     "output_type": "stream",
     "text": [
      "WARNING:UFL:Discontinuous Lagrange element requested on hexahedron, creating DQ element.\n"
     ]
    }
   ],
   "source": [
    "## Simulation\n",
    "progress = tqdm.autonotebook.tqdm(desc=\"Solving simulation\", total=Nsteps)\n",
    "\n",
    "# ---------------------------------------------------- #\n",
    "for i, d in enumerate(Time):\n",
    "    progress.update(1)\n",
    "\n",
    "    # ~~~~~~ Relaxation control ~~~~~~ #\n",
    "    if Time[i] <= 1:\n",
    "        disp.value  = d_rate*d\n",
    "    else:\n",
    "        disp.value  = d_rate*Time[i-j]\n",
    "        j += 1\n",
    "\n",
    "\n",
    "    # ~~~~~~ Solve FEM ~~~~~~ #\n",
    "    solver.solve(u)\n",
    "\n",
    "    disp_v[i] = Value(mesh,u,pt)[0]\n",
    "\n",
    "    # ~~~~~~ Matrix internal variable update ~~~~~~ #\n",
    "    eps = [eps1e, eps2e, eps3e] \n",
    "\n",
    "    lamMe , nxn, epsi  = MatrixEvolution(F,invCMv,eps) # [λᵐₐ]ₙ , [(λᵐₐ)²]ₙ , [𝜏ₐ]ₙ , [ln(λᵐₐₑ)]ₙ\n",
    "\n",
    "    ## Principal stretches\n",
    "    lamM1e = lamMe[0] # [λᵐ₁ₑ]ₙ\n",
    "    lamM2e = lamMe[1] # [λᵐ₂ₑ]ₙ\n",
    "    lamM3e = lamMe[2] # [λᵐ₃ₑ]ₙ\n",
    "        \n",
    "    eps1e = epsi[0]\n",
    "    eps2e = epsi[1]\n",
    "    eps3e = epsi[2]\n",
    "    \n",
    "    ## Left Cauchy-Green strain [bᵐₑ]ₙ = Σ(λᵐₐ)²nₐ⊗nₐ\n",
    "    bM_e  = lamM1e**2*nxn[0] +\\\n",
    "            lamM2e**2*nxn[1] +\\\n",
    "            lamM3e**2*nxn[2]\n",
    "    project(bM_e,bMe) # bM_e -> bMe\n",
    "\n",
    "    ## [(Cᵐᵥ)⁻¹]ₙ = [F⁻¹]ₙ[bᵐₑ]ₙ[F⁻ᵀ]ₙ\n",
    "    inv_CMv = inv(F)*bMe*inv(F.T)\n",
    "    project(inv_CMv,invCMv) # inv_CMv -> invCMv\n",
    "\n",
    "    Ie  = inner(C,invCMv)\n",
    "    Ie_ = inner(C_,invCMv)\n",
    "\n",
    "\n",
    "    # ~~~~~~ Fiber internal variable update ~~~~~~ #\n",
    "    # uso lamF_v  = [λᶠᵥ]ₙ₋₁ initial guest\n",
    "    \n",
    "    # Fiber viscous stretch\n",
    "    lamF_v = FiberEvolution(F,lamFv)\n",
    "    project(lamF_v,lamFv) # lamF_v -> lamFv\n",
    " \n",
    "    # Pseudo-invariants\n",
    "    I4      = inner(C,A0)\n",
    "    I4v     = lamFv**2\n",
    "    I4_     = J**(-2/3)*I4\n",
    "    I4_e_   = I4_/I4v\n",
    "    project(I4_e_,I4e_) # I4_e_ -> I4e_\n",
    "\n",
    "    # ~~~ Cauchy Stress for analysis ~~~ #\n",
    "    SIG_v[i]    = Value(mesh,inv(J)*F*PiolaKirchhoff2*F.T,pt)[0][0]\n",
    "    SIGeq_v[i]  = Value(mesh,inv(J)*F*(sMeq  + sVol + sFeq)*F.T,pt)[0][0]\n",
    "    SIGneq_v[i] = Value(mesh,inv(J)*F*(sMneq + sFneq)*F.T,pt)[0][0]\n",
    "    \n",
    "    # Pseudo-invariants\n",
    "    I4      = inner(C,A0)\n",
    "    I4v     = lamFv**2\n",
    "    I4_     = J**(-2/3)*I4\n",
    "    I4_e_   = I4_/I4v\n",
    "    project(I4_e_,I4e_) # I4_e_ -> I4e_\n",
    "\n",
    "    # ~~~ Cauchy Stress for analysis ~~~ #\n",
    "    SIG_v[i]    = Value(mesh,inv(J)*F*PiolaKirchhoff2*F.T,pt)[0][0]\n",
    "    SIGeq_v[i]  = Value(mesh,inv(J)*F*(sMeq  + sVol + sFeq)*F.T,pt)[0][0]\n",
    "    SIGneq_v[i] = Value(mesh,inv(J)*F*(sMneq + sFneq)*F.T,pt)[0][0]\n",
    "\n",
    "    # ~~~ Cauchy Stress for analysis ~~~ #\n",
    "    invariants[i,0] = Value(mesh,tr(C_),pt) # I1 iso\n",
    "    invariants[i,1] = Value(mesh,Ie_,pt)    # Ie iso\n",
    "    invariants[i,2] = Value(mesh,I4_,pt)    # I4 iso\n",
    "    invariants[i,3] = Value(mesh,I4e_,pt)   # I4e iso\n",
    "\n",
    "    # ~~~ Save values of current displacement ~~~ #\n",
    "    u_old.x.array[:] = u.x.array\n",
    "# ---------------------------------------------------- #"
   ]
  },
  {
   "cell_type": "code",
   "execution_count": 21,
   "metadata": {},
   "outputs": [
    {
     "data": {
      "image/png": "[encoded data removed]",
      "text/plain": [
       "<Figure size 800x600 with 1 Axes>"
      ]
     },
     "metadata": {},
     "output_type": "display_data"
    }
   ],
   "source": [
    "## Dispacement\n",
    "f = plt.figure(figsize=(8,6))\n",
    "plt.plot(Time,  disp_v,'b-',label='FEniCSx')\n",
    "\n",
    "plt.xlabel('Time [s]')\n",
    "plt.ylabel('Displacement [mm]')\n",
    "plt.legend()\n",
    "plt.show()"
   ]
  },
  {
   "cell_type": "code",
   "execution_count": 22,
   "metadata": {},
   "outputs": [
    {
     "data": {
      "image/png": "[encoded data removed]",
      "text/plain": [
       "<Figure size 800x600 with 1 Axes>"
      ]
     },
     "metadata": {},
     "output_type": "display_data"
    }
   ],
   "source": [
    "## Stresses\n",
    "f = plt.figure(figsize=(8,6))\n",
    "\n",
    "## FEniCSx\n",
    "plt.plot(Time, SIG_v,'ro',label='Numerical $\\sigma_{xx}$')\n",
    "plt.plot(Time, SIGeq_v,'bo',label='Numerical $\\sigma^{eq}_{xx}$')\n",
    "plt.plot(Time, SIGneq_v,'go',label='Numerical $\\sigma^{neq}_{xx}$')\n",
    "\n",
    "## Liu et al.(2019)\n",
    "LiuStress = np.loadtxt(\"data/stress.txt\")\n",
    "\n",
    "plt.plot(LiuStress[:,0], LiuStress[:,1],'b-',label='Elastic (Liu)')\n",
    "plt.plot(LiuStress[:,0], LiuStress[:,2],'g-',label='Viscous (Liu)')\n",
    "plt.plot(LiuStress[:,0], LiuStress[:,3],'r-',label='Viscoelast (Liu)')\n",
    "\n",
    "plt.axhline(y=1.2808, color='0.8', linestyle='--', label = 'Equilibrium') \n",
    "plt.axhline(y=0.9293, color='0.8', linestyle='--')\n",
    "plt.axvline(x = 1, color = '0.8') # Line y = 0\n",
    "\n",
    "plt.xlabel('Time [s]')\n",
    "plt.ylabel('Cauchy stress [kpa]')\n",
    "plt.title('Relaxation')\n",
    "plt.legend()\n",
    "plt.axis([0, 8, 0, 2.5])\n",
    "plt.show()"
   ]
  },
  {
   "cell_type": "code",
   "execution_count": 26,
   "metadata": {},
   "outputs": [
    {
     "data": {
      "text/plain": [
       "Text(0.5, 1.0, 'I4e iso')"
      ]
     },
     "execution_count": 26,
     "metadata": {},
     "output_type": "execute_result"
    },
    {
     "data": {
      "image/png": "[encoded data removed]",
      "text/plain": [
       "<Figure size 800x600 with 4 Axes>"
      ]
     },
     "metadata": {},
     "output_type": "display_data"
    }
   ],
   "source": [
    "## Invariants\n",
    "\n",
    "invariantsInfo = np.loadtxt(\"data/invariants.txt\")\n",
    "Time0  = invariantsInfo[:,0]\n",
    "I1iso  = invariantsInfo[:,1]\n",
    "Ieiso  = invariantsInfo[:,2]\n",
    "I4iso  = invariantsInfo[:,3]\n",
    "I4eiso = invariantsInfo[:,4]\n",
    "\n",
    "fig, ((ax1, ax2), (ax3, ax4)) = plt.subplots(2, 2, sharex=True,figsize=(8,6))\n",
    "ax1.plot(Time0, I1iso)\n",
    "ax1.plot(Time, invariants[:,0])\n",
    "ax1.axis([0, 5, 3, 3.15])\n",
    "ax1.set_title('I1 iso')\n",
    "\n",
    "ax2.plot(Time0, Ieiso)\n",
    "ax2.plot(Time, invariants[:,1])\n",
    "ax2.axis([0, 5, 3, 3.05])\n",
    "ax2.set_title('Ie iso')\n",
    "\n",
    "ax3.plot(Time0, I4iso)\n",
    "ax3.plot(Time, invariants[:,2])\n",
    "ax3.axis([0, 5, 1, 1.3])\n",
    "ax3.set_title('I4 iso')\n",
    "\n",
    "ax4.plot(Time0, I4eiso)\n",
    "ax4.plot(Time, invariants[:,3])\n",
    "ax4.axis([0, 5, 1, 1.2])\n",
    "ax4.set_title('I4e iso')"
   ]
  }
 ],
 "metadata": {
  "kernelspec": {
   "display_name": "Python 3 (ipykernel)",
   "language": "python",
   "name": "python3"
  },
  "language_info": {
   "codemirror_mode": {
    "name": "ipython",
    "version": 3
   },
   "file_extension": ".py",
   "mimetype": "text/x-python",
   "name": "python",
   "nbconvert_exporter": "python",
   "pygments_lexer": "ipython3",
   "version": "3.10.8"
  }
 },
 "nbformat": 4,
 "nbformat_minor": 2
}
